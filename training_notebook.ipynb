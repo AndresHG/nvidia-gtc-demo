{
 "cells": [
  {
   "cell_type": "code",
   "execution_count": 128,
   "id": "da1b6ecc-9af4-40a3-b3c4-44998320904a",
   "metadata": {},
   "outputs": [],
   "source": [
    "import os \n",
    "import math\n",
    "import mlflow\n",
    "import random\n",
    "import warnings\n",
    "import datetime\n",
    "import numpy as np\n",
    "import pandas as pd\n",
    "import seaborn as sns\n",
    "import tensorflow as tf\n",
    "import tensorflow_hub as hub\n",
    "import tensorflow_io as tfio\n",
    "from tqdm.notebook import tqdm\n",
    "from tensorflow.keras import layers\n",
    "from tensorflow.keras import models\n",
    "from IPython import display\n",
    "from matplotlib import pyplot as plt\n",
    "from pydub import AudioSegment, effects\n",
    "from pydub.generators import WhiteNoise\n",
    "from multiprocessing.pool import ThreadPool"
   ]
  },
  {
   "cell_type": "code",
   "execution_count": null,
   "id": "f1ef0024-da85-4631-bd40-ebc1a58955d8",
   "metadata": {},
   "outputs": [],
   "source": [
    "#TODO: Consider adding most commonly confused birds\n",
    "#TODO: Add More Interactive sound/graphs\n",
    "#TODO: Consider adding more finetuning models"
   ]
  },
  {
   "cell_type": "code",
   "execution_count": 121,
   "id": "44a6968a-2be8-472d-a42f-0cf14aaa7fc4",
   "metadata": {},
   "outputs": [
    {
     "name": "stdout",
     "output_type": "stream",
     "text": [
      "\u001b[33mWARNING: Skipping tensorflow-io as it is not installed.\u001b[0m\u001b[33m\n",
      "\u001b[0m\u001b[33mWARNING: Running pip as the 'root' user can result in broken permissions and conflicting behaviour with the system package manager. It is recommended to use a virtual environment instead: https://pip.pypa.io/warnings/venv\u001b[0m\u001b[33m\n",
      "\u001b[0m"
     ]
    }
   ],
   "source": [
    "!pip uninstall -y tensorflow-io"
   ]
  },
  {
   "cell_type": "code",
   "execution_count": 30,
   "id": "2fcb5af2-4489-4208-8c0a-964fa873ef0b",
   "metadata": {},
   "outputs": [
    {
     "name": "stdout",
     "output_type": "stream",
     "text": [
      "Requirement already satisfied: tensorflow_hub in /opt/conda/lib/python3.10/site-packages (0.16.1)\n",
      "Requirement already satisfied: tensorflow_io in /opt/conda/lib/python3.10/site-packages (0.36.0)\n",
      "Requirement already satisfied: pydub in /opt/conda/lib/python3.10/site-packages (0.25.1)\n",
      "Requirement already satisfied: tqdm in /opt/conda/lib/python3.10/site-packages (4.66.1)\n",
      "Requirement already satisfied: numpy>=1.12.0 in /opt/conda/lib/python3.10/site-packages (from tensorflow_hub) (1.24.3)\n",
      "Requirement already satisfied: protobuf>=3.19.6 in /opt/conda/lib/python3.10/site-packages (from tensorflow_hub) (4.25.1)\n",
      "Requirement already satisfied: tf-keras>=2.14.1 in /opt/conda/lib/python3.10/site-packages (from tensorflow_hub) (2.15.0)\n",
      "Requirement already satisfied: tensorflow-io-gcs-filesystem==0.36.0 in /opt/conda/lib/python3.10/site-packages (from tensorflow_io) (0.36.0)\n",
      "\u001b[33mWARNING: Running pip as the 'root' user can result in broken permissions and conflicting behaviour with the system package manager. It is recommended to use a virtual environment instead: https://pip.pypa.io/warnings/venv\u001b[0m\u001b[33m\n",
      "\u001b[0m"
     ]
    }
   ],
   "source": [
    "!pip install tensorflow_hub tensorflow_io==\"0.34.0\" pydub tqdm"
   ]
  },
  {
   "cell_type": "markdown",
   "id": "b50755dd-0da5-436d-b064-aac11a8b6f2c",
   "metadata": {},
   "source": [
    "additional requirements:\n",
    "tensorflow_hub \n",
    "tensorflow_io\n",
    "pydub\n",
    "\n",
    "APT PACKAGES \n",
    "apt-get update -qq && apt-get install ffmpeg -y"
   ]
  },
  {
   "cell_type": "code",
   "execution_count": 2,
   "id": "7b6c2dcf-1cd0-4951-988e-ca44e2a6f825",
   "metadata": {},
   "outputs": [
    {
     "name": "stdout",
     "output_type": "stream",
     "text": [
      "Reading package lists... Done\n",
      "Building dependency tree... Done\n",
      "Reading state information... Done\n",
      "The following additional packages will be installed:\n",
      "  alsa-topology-conf alsa-ucm-conf dbus i965-va-driver intel-media-va-driver\n",
      "  libaacs0 libaom3 libapparmor1 libasound2 libasound2-data libass9 libasyncns0\n",
      "  libavc1394-0 libavcodec58 libavdevice58 libavfilter7 libavformat58\n",
      "  libavutil56 libbdplus0 libblas3 libbluray2 libbs2b0 libcaca0\n",
      "  libcairo-gobject2 libcdio-cdda2 libcdio-paranoia2 libcdio19 libchromaprint1\n",
      "  libcodec2-1.0 libdav1d5 libdbus-1-3 libdc1394-25 libdecor-0-0\n",
      "  libdecor-0-plugin-1-cairo libdrm-amdgpu1 libdrm-common libdrm-intel1\n",
      "  libdrm-nouveau2 libdrm-radeon1 libdrm2 libedit2 libelf1 libflac8 libflite1\n",
      "  libgbm1 libgdk-pixbuf-2.0-0 libgdk-pixbuf2.0-bin libgdk-pixbuf2.0-common\n",
      "  libgfortran5 libgl1 libgl1-amber-dri libgl1-mesa-dri libglapi-mesa libglvnd0\n",
      "  libglx-mesa0 libglx0 libgme0 libgomp1 libgsm1 libicu70 libiec61883-0\n",
      "  libigdgmm12 libjack-jackd2-0 liblapack3 liblilv-0-0 libllvm15 libmfx1\n",
      "  libmp3lame0 libmpg123-0 libmysofa1 libnorm1 libnuma1 libogg0 libopenal-data\n",
      "  libopenal1 libopenjp2-7 libopenmpt0 libopus0 libpciaccess0 libpgm-5.3-0\n",
      "  libpocketsphinx3 libpostproc55 libpulse0 libquadmath0 librabbitmq4\n",
      "  libraw1394-11 librsvg2-2 librsvg2-common librubberband2 libsamplerate0\n",
      "  libsdl2-2.0-0 libsensors-config libsensors5 libserd-0-0 libshine3 libslang2\n",
      "  libsnappy1v5 libsndfile1 libsndio7.0 libsodium23 libsord-0-0 libsoxr0\n",
      "  libspeex1 libsphinxbase3 libsratom-0-0 libsrt1.4-gnutls libssh-gcrypt-4\n",
      "  libswresample3 libswscale5 libtheora0 libtwolame0 libudfread0 libusb-1.0-0\n",
      "  libva-drm2 libva-x11-2 libva2 libvdpau1 libvidstab1.1 libvorbis0a\n",
      "  libvorbisenc2 libvorbisfile3 libvpx7 libwayland-client0 libwayland-cursor0\n",
      "  libwayland-egl1 libwayland-server0 libwebpmux3 libx11-xcb1 libx264-163\n",
      "  libx265-199 libxcb-dri2-0 libxcb-dri3-0 libxcb-glx0 libxcb-present0\n",
      "  libxcb-randr0 libxcb-shape0 libxcb-sync1 libxcb-xfixes0 libxcursor1\n",
      "  libxfixes3 libxi6 libxinerama1 libxkbcommon0 libxml2 libxrandr2\n",
      "  libxshmfence1 libxss1 libxv1 libxvidcore4 libxxf86vm1 libzimg2 libzmq5\n",
      "  libzvbi-common libzvbi0 mesa-va-drivers mesa-vdpau-drivers\n",
      "  ocl-icd-libopencl1 pocketsphinx-en-us shared-mime-info va-driver-all\n",
      "  vdpau-driver-all xkb-data\n",
      "Suggested packages:\n",
      "  default-dbus-session-bus | dbus-session-bus ffmpeg-doc\n",
      "  i965-va-driver-shaders libasound2-plugins alsa-utils libcuda1 libnvcuvid1\n",
      "  libnvidia-encode1 libbluray-bdj jackd2 libportaudio2 opus-tools pciutils\n",
      "  pulseaudio libraw1394-doc librsvg2-bin xdg-utils lm-sensors serdi sndiod\n",
      "  sordi speex opencl-icd libvdpau-va-gl1\n",
      "The following NEW packages will be installed:\n",
      "  alsa-topology-conf alsa-ucm-conf dbus ffmpeg i965-va-driver\n",
      "  intel-media-va-driver libaacs0 libaom3 libapparmor1 libasound2\n",
      "  libasound2-data libass9 libasyncns0 libavc1394-0 libavcodec58 libavdevice58\n",
      "  libavfilter7 libavformat58 libavutil56 libbdplus0 libblas3 libbluray2\n",
      "  libbs2b0 libcaca0 libcairo-gobject2 libcdio-cdda2 libcdio-paranoia2\n",
      "  libcdio19 libchromaprint1 libcodec2-1.0 libdav1d5 libdbus-1-3 libdc1394-25\n",
      "  libdecor-0-0 libdecor-0-plugin-1-cairo libdrm-amdgpu1 libdrm-common\n",
      "  libdrm-intel1 libdrm-nouveau2 libdrm-radeon1 libdrm2 libedit2 libelf1\n",
      "  libflac8 libflite1 libgbm1 libgdk-pixbuf-2.0-0 libgdk-pixbuf2.0-bin\n",
      "  libgdk-pixbuf2.0-common libgfortran5 libgl1 libgl1-amber-dri libgl1-mesa-dri\n",
      "  libglapi-mesa libglvnd0 libglx-mesa0 libglx0 libgme0 libgomp1 libgsm1\n",
      "  libicu70 libiec61883-0 libigdgmm12 libjack-jackd2-0 liblapack3 liblilv-0-0\n",
      "  libllvm15 libmfx1 libmp3lame0 libmpg123-0 libmysofa1 libnorm1 libnuma1\n",
      "  libogg0 libopenal-data libopenal1 libopenjp2-7 libopenmpt0 libopus0\n",
      "  libpciaccess0 libpgm-5.3-0 libpocketsphinx3 libpostproc55 libpulse0\n",
      "  libquadmath0 librabbitmq4 libraw1394-11 librsvg2-2 librsvg2-common\n",
      "  librubberband2 libsamplerate0 libsdl2-2.0-0 libsensors-config libsensors5\n",
      "  libserd-0-0 libshine3 libslang2 libsnappy1v5 libsndfile1 libsndio7.0\n",
      "  libsodium23 libsord-0-0 libsoxr0 libspeex1 libsphinxbase3 libsratom-0-0\n",
      "  libsrt1.4-gnutls libssh-gcrypt-4 libswresample3 libswscale5 libtheora0\n",
      "  libtwolame0 libudfread0 libusb-1.0-0 libva-drm2 libva-x11-2 libva2 libvdpau1\n",
      "  libvidstab1.1 libvorbis0a libvorbisenc2 libvorbisfile3 libvpx7\n",
      "  libwayland-client0 libwayland-cursor0 libwayland-egl1 libwayland-server0\n",
      "  libwebpmux3 libx11-xcb1 libx264-163 libx265-199 libxcb-dri2-0 libxcb-dri3-0\n",
      "  libxcb-glx0 libxcb-present0 libxcb-randr0 libxcb-shape0 libxcb-sync1\n",
      "  libxcb-xfixes0 libxcursor1 libxfixes3 libxi6 libxinerama1 libxkbcommon0\n",
      "  libxml2 libxrandr2 libxshmfence1 libxss1 libxv1 libxvidcore4 libxxf86vm1\n",
      "  libzimg2 libzmq5 libzvbi-common libzvbi0 mesa-va-drivers mesa-vdpau-drivers\n",
      "  ocl-icd-libopencl1 pocketsphinx-en-us shared-mime-info va-driver-all\n",
      "  vdpau-driver-all xkb-data\n",
      "0 upgraded, 163 newly installed, 0 to remove and 36 not upgraded.\n",
      "Need to get 150 MB of archives.\n",
      "After this operation, 473 MB of additional disk space will be used.\n",
      "Get:1 http://archive.ubuntu.com/ubuntu jammy-updates/main amd64 libapparmor1 amd64 3.0.4-2ubuntu2.3 [39.3 kB]\n",
      "Get:2 http://archive.ubuntu.com/ubuntu jammy-updates/main amd64 libdbus-1-3 amd64 1.12.20-2ubuntu4.1 [189 kB]\n",
      "Get:3 http://archive.ubuntu.com/ubuntu jammy-updates/main amd64 dbus amd64 1.12.20-2ubuntu4.1 [158 kB]\n",
      "Get:4 http://archive.ubuntu.com/ubuntu jammy/main amd64 libelf1 amd64 0.186-1build1 [51.0 kB]\n",
      "Get:5 http://archive.ubuntu.com/ubuntu jammy/main amd64 libicu70 amd64 70.1-2 [10.6 MB]\n",
      "Get:6 http://archive.ubuntu.com/ubuntu jammy/main amd64 libslang2 amd64 2.3.2-5build4 [468 kB]\n",
      "Get:7 http://archive.ubuntu.com/ubuntu jammy-updates/main amd64 libxml2 amd64 2.9.13+dfsg-1ubuntu0.3 [763 kB]\n",
      "Get:8 http://archive.ubuntu.com/ubuntu jammy/main amd64 shared-mime-info amd64 2.1-2 [454 kB]\n",
      "Get:9 http://archive.ubuntu.com/ubuntu jammy/main amd64 xkb-data all 2.33-1 [394 kB]\n",
      "Get:10 http://archive.ubuntu.com/ubuntu jammy-updates/main amd64 libdrm-common all 2.4.113-2~ubuntu0.22.04.1 [5450 B]\n",
      "Get:11 http://archive.ubuntu.com/ubuntu jammy-updates/main amd64 libdrm2 amd64 2.4.113-2~ubuntu0.22.04.1 [38.1 kB]\n",
      "Get:12 http://archive.ubuntu.com/ubuntu jammy/main amd64 libedit2 amd64 3.1-20210910-1build1 [96.8 kB]\n",
      "Get:13 http://archive.ubuntu.com/ubuntu jammy/main amd64 libnuma1 amd64 2.0.14-3ubuntu2 [22.5 kB]\n",
      "Get:14 http://archive.ubuntu.com/ubuntu jammy-updates/main amd64 libusb-1.0-0 amd64 2:1.0.25-1ubuntu2 [52.7 kB]\n",
      "Get:15 http://archive.ubuntu.com/ubuntu jammy/main amd64 alsa-topology-conf all 1.2.5.1-2 [15.5 kB]\n",
      "Get:16 http://archive.ubuntu.com/ubuntu jammy/main amd64 libasound2-data all 1.2.6.1-1ubuntu1 [19.1 kB]\n",
      "Get:17 http://archive.ubuntu.com/ubuntu jammy/main amd64 libasound2 amd64 1.2.6.1-1ubuntu1 [390 kB]\n",
      "Get:18 http://archive.ubuntu.com/ubuntu jammy-updates/main amd64 alsa-ucm-conf all 1.2.6.3-1ubuntu1.10 [43.4 kB]\n",
      "Get:19 http://archive.ubuntu.com/ubuntu jammy/universe amd64 libaom3 amd64 3.3.0-1 [1748 kB]\n",
      "Get:20 http://archive.ubuntu.com/ubuntu jammy/universe amd64 libva2 amd64 2.14.0-1 [65.0 kB]\n",
      "Get:21 http://archive.ubuntu.com/ubuntu jammy/universe amd64 libmfx1 amd64 22.3.0-1 [3105 kB]\n",
      "Get:22 http://archive.ubuntu.com/ubuntu jammy/universe amd64 libva-drm2 amd64 2.14.0-1 [7502 B]\n",
      "Get:23 http://archive.ubuntu.com/ubuntu jammy/main amd64 libxfixes3 amd64 1:6.0.0-1 [11.7 kB]\n",
      "Get:24 http://archive.ubuntu.com/ubuntu jammy/universe amd64 libva-x11-2 amd64 2.14.0-1 [12.6 kB]\n",
      "Get:25 http://archive.ubuntu.com/ubuntu jammy/main amd64 libvdpau1 amd64 1.4-3build2 [27.0 kB]\n",
      "Get:26 http://archive.ubuntu.com/ubuntu jammy/universe amd64 ocl-icd-libopencl1 amd64 2.2.14-3 [39.1 kB]\n",
      "Get:27 http://archive.ubuntu.com/ubuntu jammy-updates/universe amd64 libavutil56 amd64 7:4.4.2-0ubuntu0.22.04.1 [290 kB]\n",
      "Get:28 http://archive.ubuntu.com/ubuntu jammy/universe amd64 libcodec2-1.0 amd64 1.0.1-3 [8435 kB]\n",
      "Get:29 http://archive.ubuntu.com/ubuntu jammy/universe amd64 libdav1d5 amd64 0.9.2-1 [463 kB]\n",
      "Get:30 http://archive.ubuntu.com/ubuntu jammy/universe amd64 libgsm1 amd64 1.0.19-1 [27.7 kB]\n",
      "Get:31 http://archive.ubuntu.com/ubuntu jammy/main amd64 libmp3lame0 amd64 3.100-3build2 [141 kB]\n",
      "Get:32 http://archive.ubuntu.com/ubuntu jammy/main amd64 libopenjp2-7 amd64 2.4.0-6 [158 kB]\n",
      "Get:33 http://archive.ubuntu.com/ubuntu jammy/main amd64 libopus0 amd64 1.3.1-0.1build2 [203 kB]\n",
      "Get:34 http://archive.ubuntu.com/ubuntu jammy/main amd64 libcairo-gobject2 amd64 1.16.0-5ubuntu2 [19.4 kB]\n",
      "Get:35 http://archive.ubuntu.com/ubuntu jammy-updates/main amd64 libgdk-pixbuf2.0-common all 2.42.8+dfsg-1ubuntu0.2 [5530 B]\n",
      "Get:36 http://archive.ubuntu.com/ubuntu jammy-updates/main amd64 libgdk-pixbuf-2.0-0 amd64 2.42.8+dfsg-1ubuntu0.2 [148 kB]\n",
      "Get:37 http://archive.ubuntu.com/ubuntu jammy-updates/main amd64 librsvg2-2 amd64 2.52.5+dfsg-3ubuntu0.2 [2974 kB]\n",
      "Get:38 http://archive.ubuntu.com/ubuntu jammy/universe amd64 libshine3 amd64 3.1.1-2 [23.2 kB]\n",
      "Get:39 http://archive.ubuntu.com/ubuntu jammy/main amd64 libsnappy1v5 amd64 1.1.8-1build3 [17.5 kB]\n",
      "Get:40 http://archive.ubuntu.com/ubuntu jammy/main amd64 libspeex1 amd64 1.2~rc1.2-1.1ubuntu3 [57.9 kB]\n",
      "Get:41 http://archive.ubuntu.com/ubuntu jammy-updates/main amd64 libgomp1 amd64 12.3.0-1ubuntu1~22.04 [126 kB]\n",
      "Get:42 http://archive.ubuntu.com/ubuntu jammy/main amd64 libsoxr0 amd64 0.1.3-4build2 [79.8 kB]\n",
      "Get:43 http://archive.ubuntu.com/ubuntu jammy-updates/universe amd64 libswresample3 amd64 7:4.4.2-0ubuntu0.22.04.1 [62.2 kB]\n",
      "Get:44 http://archive.ubuntu.com/ubuntu jammy/main amd64 libogg0 amd64 1.3.5-0ubuntu3 [22.9 kB]\n",
      "Get:45 http://archive.ubuntu.com/ubuntu jammy/main amd64 libtheora0 amd64 1.1.1+dfsg.1-15ubuntu4 [209 kB]\n",
      "Get:46 http://archive.ubuntu.com/ubuntu jammy/main amd64 libtwolame0 amd64 0.4.0-2build2 [52.5 kB]\n",
      "Get:47 http://archive.ubuntu.com/ubuntu jammy/main amd64 libvorbis0a amd64 1.3.7-1build2 [99.2 kB]\n",
      "Get:48 http://archive.ubuntu.com/ubuntu jammy/main amd64 libvorbisenc2 amd64 1.3.7-1build2 [82.6 kB]\n",
      "Get:49 http://archive.ubuntu.com/ubuntu jammy-updates/main amd64 libvpx7 amd64 1.11.0-2ubuntu2.2 [1078 kB]\n",
      "Get:50 http://archive.ubuntu.com/ubuntu jammy-updates/main amd64 libwebpmux3 amd64 1.2.2-2ubuntu0.22.04.2 [20.5 kB]\n",
      "Get:51 http://archive.ubuntu.com/ubuntu jammy/universe amd64 libx264-163 amd64 2:0.163.3060+git5db6aa6-2build1 [591 kB]\n",
      "Get:52 http://archive.ubuntu.com/ubuntu jammy/universe amd64 libx265-199 amd64 3.5-2 [1170 kB]\n",
      "Get:53 http://archive.ubuntu.com/ubuntu jammy/universe amd64 libxvidcore4 amd64 2:1.3.7-1 [201 kB]\n",
      "Get:54 http://archive.ubuntu.com/ubuntu jammy/universe amd64 libzvbi-common all 0.2.35-19 [35.5 kB]\n",
      "Get:55 http://archive.ubuntu.com/ubuntu jammy/universe amd64 libzvbi0 amd64 0.2.35-19 [262 kB]\n",
      "Get:56 http://archive.ubuntu.com/ubuntu jammy-updates/universe amd64 libavcodec58 amd64 7:4.4.2-0ubuntu0.22.04.1 [5567 kB]\n",
      "Get:57 http://archive.ubuntu.com/ubuntu jammy/main amd64 libraw1394-11 amd64 2.1.2-2build2 [27.0 kB]\n",
      "Get:58 http://archive.ubuntu.com/ubuntu jammy/main amd64 libavc1394-0 amd64 0.5.4-5build2 [17.0 kB]\n",
      "Get:59 http://archive.ubuntu.com/ubuntu jammy/universe amd64 libass9 amd64 1:0.15.2-1 [97.5 kB]\n",
      "Get:60 http://archive.ubuntu.com/ubuntu jammy/universe amd64 libudfread0 amd64 1.1.2-1 [16.2 kB]\n",
      "Get:61 http://archive.ubuntu.com/ubuntu jammy/universe amd64 libbluray2 amd64 1:1.3.1-1 [159 kB]\n",
      "Get:62 http://archive.ubuntu.com/ubuntu jammy/universe amd64 libchromaprint1 amd64 1.5.1-2 [28.4 kB]\n",
      "Get:63 http://archive.ubuntu.com/ubuntu jammy/universe amd64 libgme0 amd64 0.6.3-2 [127 kB]\n",
      "Get:64 http://archive.ubuntu.com/ubuntu jammy/main amd64 libmpg123-0 amd64 1.29.3-1build1 [172 kB]\n",
      "Get:65 http://archive.ubuntu.com/ubuntu jammy/main amd64 libvorbisfile3 amd64 1.3.7-1build2 [17.1 kB]\n",
      "Get:66 http://archive.ubuntu.com/ubuntu jammy/universe amd64 libopenmpt0 amd64 0.6.1-1 [592 kB]\n",
      "Get:67 http://archive.ubuntu.com/ubuntu jammy/main amd64 librabbitmq4 amd64 0.10.0-1ubuntu2 [39.3 kB]\n",
      "Get:68 http://archive.ubuntu.com/ubuntu jammy/universe amd64 libsrt1.4-gnutls amd64 1.4.4-4 [309 kB]\n",
      "Get:69 http://archive.ubuntu.com/ubuntu jammy-updates/main amd64 libssh-gcrypt-4 amd64 0.9.6-2ubuntu0.22.04.3 [223 kB]\n",
      "Get:70 http://archive.ubuntu.com/ubuntu jammy/universe amd64 libnorm1 amd64 1.5.9+dfsg-2 [221 kB]\n",
      "Get:71 http://archive.ubuntu.com/ubuntu jammy/universe amd64 libpgm-5.3-0 amd64 5.3.128~dfsg-2 [161 kB]\n",
      "Get:72 http://archive.ubuntu.com/ubuntu jammy/main amd64 libsodium23 amd64 1.0.18-1build2 [164 kB]\n",
      "Get:73 http://archive.ubuntu.com/ubuntu jammy/universe amd64 libzmq5 amd64 4.3.4-2 [256 kB]\n",
      "Get:74 http://archive.ubuntu.com/ubuntu jammy-updates/universe amd64 libavformat58 amd64 7:4.4.2-0ubuntu0.22.04.1 [1103 kB]\n",
      "Get:75 http://archive.ubuntu.com/ubuntu jammy/universe amd64 libbs2b0 amd64 3.1.0+dfsg-2.2build1 [10.2 kB]\n",
      "Get:76 http://archive.ubuntu.com/ubuntu jammy/universe amd64 libflite1 amd64 2.2-3 [13.7 MB]\n",
      "Get:77 http://archive.ubuntu.com/ubuntu jammy/universe amd64 libserd-0-0 amd64 0.30.10-2 [40.8 kB]\n",
      "Get:78 http://archive.ubuntu.com/ubuntu jammy/universe amd64 libsord-0-0 amd64 0.16.8-2 [21.2 kB]\n",
      "Get:79 http://archive.ubuntu.com/ubuntu jammy/universe amd64 libsratom-0-0 amd64 0.6.8-1 [17.0 kB]\n",
      "Get:80 http://archive.ubuntu.com/ubuntu jammy/universe amd64 liblilv-0-0 amd64 0.24.12-2 [42.8 kB]\n",
      "Get:81 http://archive.ubuntu.com/ubuntu jammy/universe amd64 libmysofa1 amd64 1.2.1~dfsg0-1 [1157 kB]\n",
      "Get:82 http://archive.ubuntu.com/ubuntu jammy/main amd64 libblas3 amd64 3.10.0-2ubuntu1 [228 kB]\n",
      "Get:83 http://archive.ubuntu.com/ubuntu jammy-updates/main amd64 libquadmath0 amd64 12.3.0-1ubuntu1~22.04 [154 kB]\n",
      "Get:84 http://archive.ubuntu.com/ubuntu jammy-updates/main amd64 libgfortran5 amd64 12.3.0-1ubuntu1~22.04 [879 kB]\n",
      "Get:85 http://archive.ubuntu.com/ubuntu jammy/main amd64 liblapack3 amd64 3.10.0-2ubuntu1 [2504 kB]\n",
      "Get:86 http://archive.ubuntu.com/ubuntu jammy/main amd64 libasyncns0 amd64 0.8-6build2 [12.8 kB]\n",
      "Get:87 http://archive.ubuntu.com/ubuntu jammy-updates/main amd64 libflac8 amd64 1.3.3-2ubuntu0.2 [111 kB]\n",
      "Get:88 http://archive.ubuntu.com/ubuntu jammy-updates/main amd64 libsndfile1 amd64 1.0.31-2ubuntu0.1 [197 kB]\n",
      "Get:89 http://archive.ubuntu.com/ubuntu jammy-updates/main amd64 libx11-xcb1 amd64 2:1.7.5-1ubuntu0.3 [7802 B]\n",
      "Get:90 http://archive.ubuntu.com/ubuntu jammy-updates/main amd64 libpulse0 amd64 1:15.99.1+dfsg1-1ubuntu2.1 [297 kB]\n",
      "Get:91 http://archive.ubuntu.com/ubuntu jammy/universe amd64 libsphinxbase3 amd64 0.8+5prealpha+1-13build1 [126 kB]\n",
      "Get:92 http://archive.ubuntu.com/ubuntu jammy/universe amd64 libpocketsphinx3 amd64 0.8.0+real5prealpha+1-14ubuntu1 [132 kB]\n",
      "Get:93 http://archive.ubuntu.com/ubuntu jammy-updates/universe amd64 libpostproc55 amd64 7:4.4.2-0ubuntu0.22.04.1 [60.1 kB]\n",
      "Get:94 http://archive.ubuntu.com/ubuntu jammy/main amd64 libsamplerate0 amd64 0.2.2-1build1 [1359 kB]\n",
      "Get:95 http://archive.ubuntu.com/ubuntu jammy/universe amd64 librubberband2 amd64 2.0.0-2 [90.0 kB]\n",
      "Get:96 http://archive.ubuntu.com/ubuntu jammy-updates/universe amd64 libswscale5 amd64 7:4.4.2-0ubuntu0.22.04.1 [180 kB]\n",
      "Get:97 http://archive.ubuntu.com/ubuntu jammy/universe amd64 libvidstab1.1 amd64 1.1.0-2 [35.0 kB]\n",
      "Get:98 http://archive.ubuntu.com/ubuntu jammy/universe amd64 libzimg2 amd64 3.0.3+ds1-1 [241 kB]\n",
      "Get:99 http://archive.ubuntu.com/ubuntu jammy-updates/universe amd64 libavfilter7 amd64 7:4.4.2-0ubuntu0.22.04.1 [1496 kB]\n",
      "Get:100 http://archive.ubuntu.com/ubuntu jammy/main amd64 libcaca0 amd64 0.99.beta19-2.2ubuntu4 [224 kB]\n",
      "Get:101 http://archive.ubuntu.com/ubuntu jammy/main amd64 libcdio19 amd64 2.1.0-3build1 [63.3 kB]\n",
      "Get:102 http://archive.ubuntu.com/ubuntu jammy/main amd64 libcdio-cdda2 amd64 10.2+2.0.0-1build3 [16.7 kB]\n",
      "Get:103 http://archive.ubuntu.com/ubuntu jammy/main amd64 libcdio-paranoia2 amd64 10.2+2.0.0-1build3 [15.9 kB]\n",
      "Get:104 http://archive.ubuntu.com/ubuntu jammy/universe amd64 libdc1394-25 amd64 2.2.6-4 [88.8 kB]\n",
      "Get:105 http://archive.ubuntu.com/ubuntu jammy/main amd64 libglvnd0 amd64 1.4.0-1 [73.6 kB]\n",
      "Get:106 http://archive.ubuntu.com/ubuntu jammy-updates/main amd64 libglapi-mesa amd64 23.2.1-1ubuntu3.1~22.04.2 [37.1 kB]\n",
      "Get:107 http://archive.ubuntu.com/ubuntu jammy/main amd64 libxcb-dri2-0 amd64 1.14-3ubuntu3 [7206 B]\n",
      "Get:108 http://archive.ubuntu.com/ubuntu jammy/main amd64 libxcb-dri3-0 amd64 1.14-3ubuntu3 [6968 B]\n",
      "Get:109 http://archive.ubuntu.com/ubuntu jammy/main amd64 libxcb-glx0 amd64 1.14-3ubuntu3 [25.9 kB]\n",
      "Get:110 http://archive.ubuntu.com/ubuntu jammy/main amd64 libxcb-present0 amd64 1.14-3ubuntu3 [5734 B]\n",
      "Get:111 http://archive.ubuntu.com/ubuntu jammy/main amd64 libxcb-randr0 amd64 1.14-3ubuntu3 [18.3 kB]\n",
      "Get:112 http://archive.ubuntu.com/ubuntu jammy/main amd64 libxcb-sync1 amd64 1.14-3ubuntu3 [9416 B]\n",
      "Get:113 http://archive.ubuntu.com/ubuntu jammy/main amd64 libxcb-xfixes0 amd64 1.14-3ubuntu3 [9996 B]\n",
      "Get:114 http://archive.ubuntu.com/ubuntu jammy/main amd64 libxshmfence1 amd64 1.3-1build4 [5394 B]\n",
      "Get:115 http://archive.ubuntu.com/ubuntu jammy/main amd64 libxxf86vm1 amd64 1:1.1.4-1build3 [10.4 kB]\n",
      "Get:116 http://archive.ubuntu.com/ubuntu jammy-updates/main amd64 libdrm-amdgpu1 amd64 2.4.113-2~ubuntu0.22.04.1 [19.9 kB]\n",
      "Get:117 http://archive.ubuntu.com/ubuntu jammy/main amd64 libpciaccess0 amd64 0.16-3 [19.1 kB]\n",
      "Get:118 http://archive.ubuntu.com/ubuntu jammy-updates/main amd64 libdrm-intel1 amd64 2.4.113-2~ubuntu0.22.04.1 [66.7 kB]\n",
      "Get:119 http://archive.ubuntu.com/ubuntu jammy-updates/main amd64 libdrm-nouveau2 amd64 2.4.113-2~ubuntu0.22.04.1 [17.5 kB]\n",
      "Get:120 http://archive.ubuntu.com/ubuntu jammy-updates/main amd64 libdrm-radeon1 amd64 2.4.113-2~ubuntu0.22.04.1 [21.6 kB]\n",
      "Get:121 http://archive.ubuntu.com/ubuntu jammy-updates/main amd64 libllvm15 amd64 1:15.0.7-0ubuntu0.22.04.3 [25.4 MB]\n",
      "Get:122 http://archive.ubuntu.com/ubuntu jammy/main amd64 libsensors-config all 1:3.6.0-7ubuntu1 [5274 B]\n",
      "Get:123 http://archive.ubuntu.com/ubuntu jammy/main amd64 libsensors5 amd64 1:3.6.0-7ubuntu1 [26.3 kB]\n",
      "Get:124 http://archive.ubuntu.com/ubuntu jammy-updates/main amd64 libgl1-mesa-dri amd64 23.2.1-1ubuntu3.1~22.04.2 [8860 kB]\n",
      "Get:125 http://archive.ubuntu.com/ubuntu jammy-updates/main amd64 libglx-mesa0 amd64 23.2.1-1ubuntu3.1~22.04.2 [158 kB]\n",
      "Get:126 http://archive.ubuntu.com/ubuntu jammy/main amd64 libglx0 amd64 1.4.0-1 [41.0 kB]\n",
      "Get:127 http://archive.ubuntu.com/ubuntu jammy/main amd64 libgl1 amd64 1.4.0-1 [110 kB]\n",
      "Get:128 http://archive.ubuntu.com/ubuntu jammy/main amd64 libiec61883-0 amd64 1.2.0-4build3 [25.9 kB]\n",
      "Get:129 http://archive.ubuntu.com/ubuntu jammy/main amd64 libjack-jackd2-0 amd64 1.9.20~dfsg-1 [293 kB]\n",
      "Get:130 http://archive.ubuntu.com/ubuntu jammy/universe amd64 libopenal-data all 1:1.19.1-2build3 [164 kB]\n",
      "Get:131 http://archive.ubuntu.com/ubuntu jammy/universe amd64 libsndio7.0 amd64 1.8.1-1.1 [29.3 kB]\n",
      "Get:132 http://archive.ubuntu.com/ubuntu jammy/universe amd64 libopenal1 amd64 1:1.19.1-2build3 [535 kB]\n",
      "Get:133 http://archive.ubuntu.com/ubuntu jammy-updates/main amd64 libwayland-client0 amd64 1.20.0-1ubuntu0.1 [25.9 kB]\n",
      "Get:134 http://archive.ubuntu.com/ubuntu jammy/main amd64 libdecor-0-0 amd64 0.1.0-3build1 [15.1 kB]\n",
      "Get:135 http://archive.ubuntu.com/ubuntu jammy-updates/main amd64 libwayland-server0 amd64 1.20.0-1ubuntu0.1 [34.3 kB]\n",
      "Get:136 http://archive.ubuntu.com/ubuntu jammy-updates/main amd64 libgbm1 amd64 23.2.1-1ubuntu3.1~22.04.2 [33.5 kB]\n",
      "Get:137 http://archive.ubuntu.com/ubuntu jammy-updates/main amd64 libwayland-cursor0 amd64 1.20.0-1ubuntu0.1 [10.7 kB]\n",
      "Get:138 http://archive.ubuntu.com/ubuntu jammy-updates/main amd64 libwayland-egl1 amd64 1.20.0-1ubuntu0.1 [5582 B]\n",
      "Get:139 http://archive.ubuntu.com/ubuntu jammy/main amd64 libxcursor1 amd64 1:1.2.0-2build4 [20.9 kB]\n",
      "Get:140 http://archive.ubuntu.com/ubuntu jammy/main amd64 libxi6 amd64 2:1.8-1build1 [32.6 kB]\n",
      "Get:141 http://archive.ubuntu.com/ubuntu jammy/main amd64 libxinerama1 amd64 2:1.1.4-3 [7382 B]\n",
      "Get:142 http://archive.ubuntu.com/ubuntu jammy/main amd64 libxkbcommon0 amd64 1.4.0-1 [125 kB]\n",
      "Get:143 http://archive.ubuntu.com/ubuntu jammy/main amd64 libxrandr2 amd64 2:1.5.2-1build1 [20.4 kB]\n",
      "Get:144 http://archive.ubuntu.com/ubuntu jammy/main amd64 libxss1 amd64 1:1.2.3-1build2 [8476 B]\n",
      "Get:145 http://archive.ubuntu.com/ubuntu jammy-updates/main amd64 libsdl2-2.0-0 amd64 2.0.20+dfsg-2ubuntu1.22.04.1 [582 kB]\n",
      "Get:146 http://archive.ubuntu.com/ubuntu jammy/main amd64 libxcb-shape0 amd64 1.14-3ubuntu3 [6158 B]\n",
      "Get:147 http://archive.ubuntu.com/ubuntu jammy/main amd64 libxv1 amd64 2:1.0.11-1build2 [11.2 kB]\n",
      "Get:148 http://archive.ubuntu.com/ubuntu jammy-updates/universe amd64 libavdevice58 amd64 7:4.4.2-0ubuntu0.22.04.1 [87.5 kB]\n",
      "Get:149 http://archive.ubuntu.com/ubuntu jammy-updates/universe amd64 ffmpeg amd64 7:4.4.2-0ubuntu0.22.04.1 [1696 kB]\n",
      "Get:150 http://archive.ubuntu.com/ubuntu jammy/universe amd64 libigdgmm12 amd64 22.1.2+ds1-1 [139 kB]\n",
      "Get:151 http://archive.ubuntu.com/ubuntu jammy-updates/universe amd64 intel-media-va-driver amd64 22.3.1+dfsg1-1ubuntu2 [2283 kB]\n",
      "Get:152 http://archive.ubuntu.com/ubuntu jammy/universe amd64 libaacs0 amd64 0.11.1-1 [64.1 kB]\n",
      "Get:153 http://archive.ubuntu.com/ubuntu jammy/universe amd64 libbdplus0 amd64 0.2.0-1 [52.2 kB]\n",
      "Get:154 http://archive.ubuntu.com/ubuntu jammy/main amd64 libdecor-0-plugin-1-cairo amd64 0.1.0-3build1 [20.4 kB]\n",
      "Get:155 http://archive.ubuntu.com/ubuntu jammy-updates/main amd64 libgdk-pixbuf2.0-bin amd64 2.42.8+dfsg-1ubuntu0.2 [14.2 kB]\n",
      "Get:156 http://archive.ubuntu.com/ubuntu jammy-updates/main amd64 libgl1-amber-dri amd64 21.3.9-0ubuntu1~22.04.1 [4218 kB]\n",
      "Get:157 http://archive.ubuntu.com/ubuntu jammy-updates/main amd64 librsvg2-common amd64 2.52.5+dfsg-3ubuntu0.2 [17.7 kB]\n",
      "Get:158 http://archive.ubuntu.com/ubuntu jammy-updates/universe amd64 mesa-va-drivers amd64 23.2.1-1ubuntu3.1~22.04.2 [4100 kB]\n",
      "Get:159 http://archive.ubuntu.com/ubuntu jammy-updates/main amd64 mesa-vdpau-drivers amd64 23.2.1-1ubuntu3.1~22.04.2 [3820 kB]\n",
      "Get:160 http://archive.ubuntu.com/ubuntu jammy/universe amd64 i965-va-driver amd64 2.4.1+dfsg1-1 [302 kB]\n",
      "Get:161 http://archive.ubuntu.com/ubuntu jammy/universe amd64 va-driver-all amd64 2.14.0-1 [3984 B]\n",
      "Get:162 http://archive.ubuntu.com/ubuntu jammy/main amd64 vdpau-driver-all amd64 1.4-3build2 [4510 B]\n",
      "Get:163 http://archive.ubuntu.com/ubuntu jammy/universe amd64 pocketsphinx-en-us all 0.8.0+real5prealpha+1-14ubuntu1 [27.6 MB]\n",
      "Fetched 150 MB in 10s (14.5 MB/s)                                              \n",
      "debconf: delaying package configuration, since apt-utils is not installed\n",
      "Selecting previously unselected package libapparmor1:amd64.\n",
      "(Reading database ... 9962 files and directories currently installed.)\n",
      "Preparing to unpack .../000-libapparmor1_3.0.4-2ubuntu2.3_amd64.deb ...\n",
      "Unpacking libapparmor1:amd64 (3.0.4-2ubuntu2.3) ...\n",
      "Selecting previously unselected package libdbus-1-3:amd64.\n",
      "Preparing to unpack .../001-libdbus-1-3_1.12.20-2ubuntu4.1_amd64.deb ...\n",
      "Unpacking libdbus-1-3:amd64 (1.12.20-2ubuntu4.1) ...\n",
      "Selecting previously unselected package dbus.\n",
      "Preparing to unpack .../002-dbus_1.12.20-2ubuntu4.1_amd64.deb ...\n",
      "Unpacking dbus (1.12.20-2ubuntu4.1) ...\n",
      "Selecting previously unselected package libelf1:amd64.\n",
      "Preparing to unpack .../003-libelf1_0.186-1build1_amd64.deb ...\n",
      "Unpacking libelf1:amd64 (0.186-1build1) ...\n",
      "Selecting previously unselected package libicu70:amd64.\n",
      "Preparing to unpack .../004-libicu70_70.1-2_amd64.deb ...\n",
      "Unpacking libicu70:amd64 (70.1-2) ...\n",
      "Selecting previously unselected package libslang2:amd64.\n",
      "Preparing to unpack .../005-libslang2_2.3.2-5build4_amd64.deb ...\n",
      "Unpacking libslang2:amd64 (2.3.2-5build4) ...\n",
      "Selecting previously unselected package libxml2:amd64.\n",
      "Preparing to unpack .../006-libxml2_2.9.13+dfsg-1ubuntu0.3_amd64.deb ...\n",
      "Unpacking libxml2:amd64 (2.9.13+dfsg-1ubuntu0.3) ...\n",
      "Selecting previously unselected package shared-mime-info.\n",
      "Preparing to unpack .../007-shared-mime-info_2.1-2_amd64.deb ...\n",
      "Unpacking shared-mime-info (2.1-2) ...\n",
      "Selecting previously unselected package xkb-data.\n",
      "Preparing to unpack .../008-xkb-data_2.33-1_all.deb ...\n",
      "Unpacking xkb-data (2.33-1) ...\n",
      "Selecting previously unselected package libdrm-common.\n",
      "Preparing to unpack .../009-libdrm-common_2.4.113-2~ubuntu0.22.04.1_all.deb ...\n",
      "Unpacking libdrm-common (2.4.113-2~ubuntu0.22.04.1) ...\n",
      "Selecting previously unselected package libdrm2:amd64.\n",
      "Preparing to unpack .../010-libdrm2_2.4.113-2~ubuntu0.22.04.1_amd64.deb ...\n",
      "Unpacking libdrm2:amd64 (2.4.113-2~ubuntu0.22.04.1) ...\n",
      "Selecting previously unselected package libedit2:amd64.\n",
      "Preparing to unpack .../011-libedit2_3.1-20210910-1build1_amd64.deb ...\n",
      "Unpacking libedit2:amd64 (3.1-20210910-1build1) ...\n",
      "Selecting previously unselected package libnuma1:amd64.\n",
      "Preparing to unpack .../012-libnuma1_2.0.14-3ubuntu2_amd64.deb ...\n",
      "Unpacking libnuma1:amd64 (2.0.14-3ubuntu2) ...\n",
      "Selecting previously unselected package libusb-1.0-0:amd64.\n",
      "Preparing to unpack .../013-libusb-1.0-0_2%3a1.0.25-1ubuntu2_amd64.deb ...\n",
      "Unpacking libusb-1.0-0:amd64 (2:1.0.25-1ubuntu2) ...\n",
      "Selecting previously unselected package alsa-topology-conf.\n",
      "Preparing to unpack .../014-alsa-topology-conf_1.2.5.1-2_all.deb ...\n",
      "Unpacking alsa-topology-conf (1.2.5.1-2) ...\n",
      "Selecting previously unselected package libasound2-data.\n",
      "Preparing to unpack .../015-libasound2-data_1.2.6.1-1ubuntu1_all.deb ...\n",
      "Unpacking libasound2-data (1.2.6.1-1ubuntu1) ...\n",
      "Selecting previously unselected package libasound2:amd64.\n",
      "Preparing to unpack .../016-libasound2_1.2.6.1-1ubuntu1_amd64.deb ...\n",
      "Unpacking libasound2:amd64 (1.2.6.1-1ubuntu1) ...\n",
      "Selecting previously unselected package alsa-ucm-conf.\n",
      "Preparing to unpack .../017-alsa-ucm-conf_1.2.6.3-1ubuntu1.10_all.deb ...\n",
      "Unpacking alsa-ucm-conf (1.2.6.3-1ubuntu1.10) ...\n",
      "Selecting previously unselected package libaom3:amd64.\n",
      "Preparing to unpack .../018-libaom3_3.3.0-1_amd64.deb ...\n",
      "Unpacking libaom3:amd64 (3.3.0-1) ...\n",
      "Selecting previously unselected package libva2:amd64.\n",
      "Preparing to unpack .../019-libva2_2.14.0-1_amd64.deb ...\n",
      "Unpacking libva2:amd64 (2.14.0-1) ...\n",
      "Selecting previously unselected package libmfx1:amd64.\n",
      "Preparing to unpack .../020-libmfx1_22.3.0-1_amd64.deb ...\n",
      "Unpacking libmfx1:amd64 (22.3.0-1) ...\n",
      "Selecting previously unselected package libva-drm2:amd64.\n",
      "Preparing to unpack .../021-libva-drm2_2.14.0-1_amd64.deb ...\n",
      "Unpacking libva-drm2:amd64 (2.14.0-1) ...\n",
      "Selecting previously unselected package libxfixes3:amd64.\n",
      "Preparing to unpack .../022-libxfixes3_1%3a6.0.0-1_amd64.deb ...\n",
      "Unpacking libxfixes3:amd64 (1:6.0.0-1) ...\n",
      "Selecting previously unselected package libva-x11-2:amd64.\n",
      "Preparing to unpack .../023-libva-x11-2_2.14.0-1_amd64.deb ...\n",
      "Unpacking libva-x11-2:amd64 (2.14.0-1) ...\n",
      "Selecting previously unselected package libvdpau1:amd64.\n",
      "Preparing to unpack .../024-libvdpau1_1.4-3build2_amd64.deb ...\n",
      "Unpacking libvdpau1:amd64 (1.4-3build2) ...\n",
      "Selecting previously unselected package ocl-icd-libopencl1:amd64.\n",
      "Preparing to unpack .../025-ocl-icd-libopencl1_2.2.14-3_amd64.deb ...\n",
      "Unpacking ocl-icd-libopencl1:amd64 (2.2.14-3) ...\n",
      "Selecting previously unselected package libavutil56:amd64.\n",
      "Preparing to unpack .../026-libavutil56_7%3a4.4.2-0ubuntu0.22.04.1_amd64.deb ...\n",
      "Unpacking libavutil56:amd64 (7:4.4.2-0ubuntu0.22.04.1) ...\n",
      "Selecting previously unselected package libcodec2-1.0:amd64.\n",
      "Preparing to unpack .../027-libcodec2-1.0_1.0.1-3_amd64.deb ...\n",
      "Unpacking libcodec2-1.0:amd64 (1.0.1-3) ...\n",
      "Selecting previously unselected package libdav1d5:amd64.\n",
      "Preparing to unpack .../028-libdav1d5_0.9.2-1_amd64.deb ...\n",
      "Unpacking libdav1d5:amd64 (0.9.2-1) ...\n",
      "Selecting previously unselected package libgsm1:amd64.\n",
      "Preparing to unpack .../029-libgsm1_1.0.19-1_amd64.deb ...\n",
      "Unpacking libgsm1:amd64 (1.0.19-1) ...\n",
      "Selecting previously unselected package libmp3lame0:amd64.\n",
      "Preparing to unpack .../030-libmp3lame0_3.100-3build2_amd64.deb ...\n",
      "Unpacking libmp3lame0:amd64 (3.100-3build2) ...\n",
      "Selecting previously unselected package libopenjp2-7:amd64.\n",
      "Preparing to unpack .../031-libopenjp2-7_2.4.0-6_amd64.deb ...\n",
      "Unpacking libopenjp2-7:amd64 (2.4.0-6) ...\n",
      "Selecting previously unselected package libopus0:amd64.\n",
      "Preparing to unpack .../032-libopus0_1.3.1-0.1build2_amd64.deb ...\n",
      "Unpacking libopus0:amd64 (1.3.1-0.1build2) ...\n",
      "Selecting previously unselected package libcairo-gobject2:amd64.\n",
      "Preparing to unpack .../033-libcairo-gobject2_1.16.0-5ubuntu2_amd64.deb ...\n",
      "Unpacking libcairo-gobject2:amd64 (1.16.0-5ubuntu2) ...\n",
      "Selecting previously unselected package libgdk-pixbuf2.0-common.\n",
      "Preparing to unpack .../034-libgdk-pixbuf2.0-common_2.42.8+dfsg-1ubuntu0.2_all.deb ...\n",
      "Unpacking libgdk-pixbuf2.0-common (2.42.8+dfsg-1ubuntu0.2) ...\n",
      "Selecting previously unselected package libgdk-pixbuf-2.0-0:amd64.\n",
      "Preparing to unpack .../035-libgdk-pixbuf-2.0-0_2.42.8+dfsg-1ubuntu0.2_amd64.deb ...\n",
      "Unpacking libgdk-pixbuf-2.0-0:amd64 (2.42.8+dfsg-1ubuntu0.2) ...\n",
      "Selecting previously unselected package librsvg2-2:amd64.\n",
      "Preparing to unpack .../036-librsvg2-2_2.52.5+dfsg-3ubuntu0.2_amd64.deb ...\n",
      "Unpacking librsvg2-2:amd64 (2.52.5+dfsg-3ubuntu0.2) ...\n",
      "Selecting previously unselected package libshine3:amd64.\n",
      "Preparing to unpack .../037-libshine3_3.1.1-2_amd64.deb ...\n",
      "Unpacking libshine3:amd64 (3.1.1-2) ...\n",
      "Selecting previously unselected package libsnappy1v5:amd64.\n",
      "Preparing to unpack .../038-libsnappy1v5_1.1.8-1build3_amd64.deb ...\n",
      "Unpacking libsnappy1v5:amd64 (1.1.8-1build3) ...\n",
      "Selecting previously unselected package libspeex1:amd64.\n",
      "Preparing to unpack .../039-libspeex1_1.2~rc1.2-1.1ubuntu3_amd64.deb ...\n",
      "Unpacking libspeex1:amd64 (1.2~rc1.2-1.1ubuntu3) ...\n",
      "Selecting previously unselected package libgomp1:amd64.\n",
      "Preparing to unpack .../040-libgomp1_12.3.0-1ubuntu1~22.04_amd64.deb ...\n",
      "Unpacking libgomp1:amd64 (12.3.0-1ubuntu1~22.04) ...\n",
      "Selecting previously unselected package libsoxr0:amd64.\n",
      "Preparing to unpack .../041-libsoxr0_0.1.3-4build2_amd64.deb ...\n",
      "Unpacking libsoxr0:amd64 (0.1.3-4build2) ...\n",
      "Selecting previously unselected package libswresample3:amd64.\n",
      "Preparing to unpack .../042-libswresample3_7%3a4.4.2-0ubuntu0.22.04.1_amd64.deb ...\n",
      "Unpacking libswresample3:amd64 (7:4.4.2-0ubuntu0.22.04.1) ...\n",
      "Selecting previously unselected package libogg0:amd64.\n",
      "Preparing to unpack .../043-libogg0_1.3.5-0ubuntu3_amd64.deb ...\n",
      "Unpacking libogg0:amd64 (1.3.5-0ubuntu3) ...\n",
      "Selecting previously unselected package libtheora0:amd64.\n",
      "Preparing to unpack .../044-libtheora0_1.1.1+dfsg.1-15ubuntu4_amd64.deb ...\n",
      "Unpacking libtheora0:amd64 (1.1.1+dfsg.1-15ubuntu4) ...\n",
      "Selecting previously unselected package libtwolame0:amd64.\n",
      "Preparing to unpack .../045-libtwolame0_0.4.0-2build2_amd64.deb ...\n",
      "Unpacking libtwolame0:amd64 (0.4.0-2build2) ...\n",
      "Selecting previously unselected package libvorbis0a:amd64.\n",
      "Preparing to unpack .../046-libvorbis0a_1.3.7-1build2_amd64.deb ...\n",
      "Unpacking libvorbis0a:amd64 (1.3.7-1build2) ...\n",
      "Selecting previously unselected package libvorbisenc2:amd64.\n",
      "Preparing to unpack .../047-libvorbisenc2_1.3.7-1build2_amd64.deb ...\n",
      "Unpacking libvorbisenc2:amd64 (1.3.7-1build2) ...\n",
      "Selecting previously unselected package libvpx7:amd64.\n",
      "Preparing to unpack .../048-libvpx7_1.11.0-2ubuntu2.2_amd64.deb ...\n",
      "Unpacking libvpx7:amd64 (1.11.0-2ubuntu2.2) ...\n",
      "Selecting previously unselected package libwebpmux3:amd64.\n",
      "Preparing to unpack .../049-libwebpmux3_1.2.2-2ubuntu0.22.04.2_amd64.deb ...\n",
      "Unpacking libwebpmux3:amd64 (1.2.2-2ubuntu0.22.04.2) ...\n",
      "Selecting previously unselected package libx264-163:amd64.\n",
      "Preparing to unpack .../050-libx264-163_2%3a0.163.3060+git5db6aa6-2build1_amd64.deb ...\n",
      "Unpacking libx264-163:amd64 (2:0.163.3060+git5db6aa6-2build1) ...\n",
      "Selecting previously unselected package libx265-199:amd64.\n",
      "Preparing to unpack .../051-libx265-199_3.5-2_amd64.deb ...\n",
      "Unpacking libx265-199:amd64 (3.5-2) ...\n",
      "Selecting previously unselected package libxvidcore4:amd64.\n",
      "Preparing to unpack .../052-libxvidcore4_2%3a1.3.7-1_amd64.deb ...\n",
      "Unpacking libxvidcore4:amd64 (2:1.3.7-1) ...\n",
      "Selecting previously unselected package libzvbi-common.\n",
      "Preparing to unpack .../053-libzvbi-common_0.2.35-19_all.deb ...\n",
      "Unpacking libzvbi-common (0.2.35-19) ...\n",
      "Selecting previously unselected package libzvbi0:amd64.\n",
      "Preparing to unpack .../054-libzvbi0_0.2.35-19_amd64.deb ...\n",
      "Unpacking libzvbi0:amd64 (0.2.35-19) ...\n",
      "Selecting previously unselected package libavcodec58:amd64.\n",
      "Preparing to unpack .../055-libavcodec58_7%3a4.4.2-0ubuntu0.22.04.1_amd64.deb ...\n",
      "Unpacking libavcodec58:amd64 (7:4.4.2-0ubuntu0.22.04.1) ...\n",
      "Selecting previously unselected package libraw1394-11:amd64.\n",
      "Preparing to unpack .../056-libraw1394-11_2.1.2-2build2_amd64.deb ...\n",
      "Unpacking libraw1394-11:amd64 (2.1.2-2build2) ...\n",
      "Selecting previously unselected package libavc1394-0:amd64.\n",
      "Preparing to unpack .../057-libavc1394-0_0.5.4-5build2_amd64.deb ...\n",
      "Unpacking libavc1394-0:amd64 (0.5.4-5build2) ...\n",
      "Selecting previously unselected package libass9:amd64.\n",
      "Preparing to unpack .../058-libass9_1%3a0.15.2-1_amd64.deb ...\n",
      "Unpacking libass9:amd64 (1:0.15.2-1) ...\n",
      "Selecting previously unselected package libudfread0:amd64.\n",
      "Preparing to unpack .../059-libudfread0_1.1.2-1_amd64.deb ...\n",
      "Unpacking libudfread0:amd64 (1.1.2-1) ...\n",
      "Selecting previously unselected package libbluray2:amd64.\n",
      "Preparing to unpack .../060-libbluray2_1%3a1.3.1-1_amd64.deb ...\n",
      "Unpacking libbluray2:amd64 (1:1.3.1-1) ...\n",
      "Selecting previously unselected package libchromaprint1:amd64.\n",
      "Preparing to unpack .../061-libchromaprint1_1.5.1-2_amd64.deb ...\n",
      "Unpacking libchromaprint1:amd64 (1.5.1-2) ...\n",
      "Selecting previously unselected package libgme0:amd64.\n",
      "Preparing to unpack .../062-libgme0_0.6.3-2_amd64.deb ...\n",
      "Unpacking libgme0:amd64 (0.6.3-2) ...\n",
      "Selecting previously unselected package libmpg123-0:amd64.\n",
      "Preparing to unpack .../063-libmpg123-0_1.29.3-1build1_amd64.deb ...\n",
      "Unpacking libmpg123-0:amd64 (1.29.3-1build1) ...\n",
      "Selecting previously unselected package libvorbisfile3:amd64.\n",
      "Preparing to unpack .../064-libvorbisfile3_1.3.7-1build2_amd64.deb ...\n",
      "Unpacking libvorbisfile3:amd64 (1.3.7-1build2) ...\n",
      "Selecting previously unselected package libopenmpt0:amd64.\n",
      "Preparing to unpack .../065-libopenmpt0_0.6.1-1_amd64.deb ...\n",
      "Unpacking libopenmpt0:amd64 (0.6.1-1) ...\n",
      "Selecting previously unselected package librabbitmq4:amd64.\n",
      "Preparing to unpack .../066-librabbitmq4_0.10.0-1ubuntu2_amd64.deb ...\n",
      "Unpacking librabbitmq4:amd64 (0.10.0-1ubuntu2) ...\n",
      "Selecting previously unselected package libsrt1.4-gnutls:amd64.\n",
      "Preparing to unpack .../067-libsrt1.4-gnutls_1.4.4-4_amd64.deb ...\n",
      "Unpacking libsrt1.4-gnutls:amd64 (1.4.4-4) ...\n",
      "Selecting previously unselected package libssh-gcrypt-4:amd64.\n",
      "Preparing to unpack .../068-libssh-gcrypt-4_0.9.6-2ubuntu0.22.04.3_amd64.deb ...\n",
      "Unpacking libssh-gcrypt-4:amd64 (0.9.6-2ubuntu0.22.04.3) ...\n",
      "Selecting previously unselected package libnorm1:amd64.\n",
      "Preparing to unpack .../069-libnorm1_1.5.9+dfsg-2_amd64.deb ...\n",
      "Unpacking libnorm1:amd64 (1.5.9+dfsg-2) ...\n",
      "Selecting previously unselected package libpgm-5.3-0:amd64.\n",
      "Preparing to unpack .../070-libpgm-5.3-0_5.3.128~dfsg-2_amd64.deb ...\n",
      "Unpacking libpgm-5.3-0:amd64 (5.3.128~dfsg-2) ...\n",
      "Selecting previously unselected package libsodium23:amd64.\n",
      "Preparing to unpack .../071-libsodium23_1.0.18-1build2_amd64.deb ...\n",
      "Unpacking libsodium23:amd64 (1.0.18-1build2) ...\n",
      "Selecting previously unselected package libzmq5:amd64.\n",
      "Preparing to unpack .../072-libzmq5_4.3.4-2_amd64.deb ...\n",
      "Unpacking libzmq5:amd64 (4.3.4-2) ...\n",
      "Selecting previously unselected package libavformat58:amd64.\n",
      "Preparing to unpack .../073-libavformat58_7%3a4.4.2-0ubuntu0.22.04.1_amd64.deb ...\n",
      "Unpacking libavformat58:amd64 (7:4.4.2-0ubuntu0.22.04.1) ...\n",
      "Selecting previously unselected package libbs2b0:amd64.\n",
      "Preparing to unpack .../074-libbs2b0_3.1.0+dfsg-2.2build1_amd64.deb ...\n",
      "Unpacking libbs2b0:amd64 (3.1.0+dfsg-2.2build1) ...\n",
      "Selecting previously unselected package libflite1:amd64.\n",
      "Preparing to unpack .../075-libflite1_2.2-3_amd64.deb ...\n",
      "Unpacking libflite1:amd64 (2.2-3) ...\n",
      "Selecting previously unselected package libserd-0-0:amd64.\n",
      "Preparing to unpack .../076-libserd-0-0_0.30.10-2_amd64.deb ...\n",
      "Unpacking libserd-0-0:amd64 (0.30.10-2) ...\n",
      "Selecting previously unselected package libsord-0-0:amd64.\n",
      "Preparing to unpack .../077-libsord-0-0_0.16.8-2_amd64.deb ...\n",
      "Unpacking libsord-0-0:amd64 (0.16.8-2) ...\n",
      "Selecting previously unselected package libsratom-0-0:amd64.\n",
      "Preparing to unpack .../078-libsratom-0-0_0.6.8-1_amd64.deb ...\n",
      "Unpacking libsratom-0-0:amd64 (0.6.8-1) ...\n",
      "Selecting previously unselected package liblilv-0-0:amd64.\n",
      "Preparing to unpack .../079-liblilv-0-0_0.24.12-2_amd64.deb ...\n",
      "Unpacking liblilv-0-0:amd64 (0.24.12-2) ...\n",
      "Selecting previously unselected package libmysofa1:amd64.\n",
      "Preparing to unpack .../080-libmysofa1_1.2.1~dfsg0-1_amd64.deb ...\n",
      "Unpacking libmysofa1:amd64 (1.2.1~dfsg0-1) ...\n",
      "Selecting previously unselected package libblas3:amd64.\n",
      "Preparing to unpack .../081-libblas3_3.10.0-2ubuntu1_amd64.deb ...\n",
      "Unpacking libblas3:amd64 (3.10.0-2ubuntu1) ...\n",
      "Selecting previously unselected package libquadmath0:amd64.\n",
      "Preparing to unpack .../082-libquadmath0_12.3.0-1ubuntu1~22.04_amd64.deb ...\n",
      "Unpacking libquadmath0:amd64 (12.3.0-1ubuntu1~22.04) ...\n",
      "Selecting previously unselected package libgfortran5:amd64.\n",
      "Preparing to unpack .../083-libgfortran5_12.3.0-1ubuntu1~22.04_amd64.deb ...\n",
      "Unpacking libgfortran5:amd64 (12.3.0-1ubuntu1~22.04) ...\n",
      "Selecting previously unselected package liblapack3:amd64.\n",
      "Preparing to unpack .../084-liblapack3_3.10.0-2ubuntu1_amd64.deb ...\n",
      "Unpacking liblapack3:amd64 (3.10.0-2ubuntu1) ...\n",
      "Selecting previously unselected package libasyncns0:amd64.\n",
      "Preparing to unpack .../085-libasyncns0_0.8-6build2_amd64.deb ...\n",
      "Unpacking libasyncns0:amd64 (0.8-6build2) ...\n",
      "Selecting previously unselected package libflac8:amd64.\n",
      "Preparing to unpack .../086-libflac8_1.3.3-2ubuntu0.2_amd64.deb ...\n",
      "Unpacking libflac8:amd64 (1.3.3-2ubuntu0.2) ...\n",
      "Selecting previously unselected package libsndfile1:amd64.\n",
      "Preparing to unpack .../087-libsndfile1_1.0.31-2ubuntu0.1_amd64.deb ...\n",
      "Unpacking libsndfile1:amd64 (1.0.31-2ubuntu0.1) ...\n",
      "Selecting previously unselected package libx11-xcb1:amd64.\n",
      "Preparing to unpack .../088-libx11-xcb1_2%3a1.7.5-1ubuntu0.3_amd64.deb ...\n",
      "Unpacking libx11-xcb1:amd64 (2:1.7.5-1ubuntu0.3) ...\n",
      "Selecting previously unselected package libpulse0:amd64.\n",
      "Preparing to unpack .../089-libpulse0_1%3a15.99.1+dfsg1-1ubuntu2.1_amd64.deb ...\n",
      "Unpacking libpulse0:amd64 (1:15.99.1+dfsg1-1ubuntu2.1) ...\n",
      "Selecting previously unselected package libsphinxbase3:amd64.\n",
      "Preparing to unpack .../090-libsphinxbase3_0.8+5prealpha+1-13build1_amd64.deb ...\n",
      "Unpacking libsphinxbase3:amd64 (0.8+5prealpha+1-13build1) ...\n",
      "Selecting previously unselected package libpocketsphinx3:amd64.\n",
      "Preparing to unpack .../091-libpocketsphinx3_0.8.0+real5prealpha+1-14ubuntu1_amd64.deb ...\n",
      "Unpacking libpocketsphinx3:amd64 (0.8.0+real5prealpha+1-14ubuntu1) ...\n",
      "Selecting previously unselected package libpostproc55:amd64.\n",
      "Preparing to unpack .../092-libpostproc55_7%3a4.4.2-0ubuntu0.22.04.1_amd64.deb ...\n",
      "Unpacking libpostproc55:amd64 (7:4.4.2-0ubuntu0.22.04.1) ...\n",
      "Selecting previously unselected package libsamplerate0:amd64.\n",
      "Preparing to unpack .../093-libsamplerate0_0.2.2-1build1_amd64.deb ...\n",
      "Unpacking libsamplerate0:amd64 (0.2.2-1build1) ...\n",
      "Selecting previously unselected package librubberband2:amd64.\n",
      "Preparing to unpack .../094-librubberband2_2.0.0-2_amd64.deb ...\n",
      "Unpacking librubberband2:amd64 (2.0.0-2) ...\n",
      "Selecting previously unselected package libswscale5:amd64.\n",
      "Preparing to unpack .../095-libswscale5_7%3a4.4.2-0ubuntu0.22.04.1_amd64.deb ...\n",
      "Unpacking libswscale5:amd64 (7:4.4.2-0ubuntu0.22.04.1) ...\n",
      "Selecting previously unselected package libvidstab1.1:amd64.\n",
      "Preparing to unpack .../096-libvidstab1.1_1.1.0-2_amd64.deb ...\n",
      "Unpacking libvidstab1.1:amd64 (1.1.0-2) ...\n",
      "Selecting previously unselected package libzimg2:amd64.\n",
      "Preparing to unpack .../097-libzimg2_3.0.3+ds1-1_amd64.deb ...\n",
      "Unpacking libzimg2:amd64 (3.0.3+ds1-1) ...\n",
      "Selecting previously unselected package libavfilter7:amd64.\n",
      "Preparing to unpack .../098-libavfilter7_7%3a4.4.2-0ubuntu0.22.04.1_amd64.deb ...\n",
      "Unpacking libavfilter7:amd64 (7:4.4.2-0ubuntu0.22.04.1) ...\n",
      "Selecting previously unselected package libcaca0:amd64.\n",
      "Preparing to unpack .../099-libcaca0_0.99.beta19-2.2ubuntu4_amd64.deb ...\n",
      "Unpacking libcaca0:amd64 (0.99.beta19-2.2ubuntu4) ...\n",
      "Selecting previously unselected package libcdio19:amd64.\n",
      "Preparing to unpack .../100-libcdio19_2.1.0-3build1_amd64.deb ...\n",
      "Unpacking libcdio19:amd64 (2.1.0-3build1) ...\n",
      "Selecting previously unselected package libcdio-cdda2:amd64.\n",
      "Preparing to unpack .../101-libcdio-cdda2_10.2+2.0.0-1build3_amd64.deb ...\n",
      "Unpacking libcdio-cdda2:amd64 (10.2+2.0.0-1build3) ...\n",
      "Selecting previously unselected package libcdio-paranoia2:amd64.\n",
      "Preparing to unpack .../102-libcdio-paranoia2_10.2+2.0.0-1build3_amd64.deb ...\n",
      "Unpacking libcdio-paranoia2:amd64 (10.2+2.0.0-1build3) ...\n",
      "Selecting previously unselected package libdc1394-25:amd64.\n",
      "Preparing to unpack .../103-libdc1394-25_2.2.6-4_amd64.deb ...\n",
      "Unpacking libdc1394-25:amd64 (2.2.6-4) ...\n",
      "Selecting previously unselected package libglvnd0:amd64.\n",
      "Preparing to unpack .../104-libglvnd0_1.4.0-1_amd64.deb ...\n",
      "Unpacking libglvnd0:amd64 (1.4.0-1) ...\n",
      "Selecting previously unselected package libglapi-mesa:amd64.\n",
      "Preparing to unpack .../105-libglapi-mesa_23.2.1-1ubuntu3.1~22.04.2_amd64.deb ...\n",
      "Unpacking libglapi-mesa:amd64 (23.2.1-1ubuntu3.1~22.04.2) ...\n",
      "Selecting previously unselected package libxcb-dri2-0:amd64.\n",
      "Preparing to unpack .../106-libxcb-dri2-0_1.14-3ubuntu3_amd64.deb ...\n",
      "Unpacking libxcb-dri2-0:amd64 (1.14-3ubuntu3) ...\n",
      "Selecting previously unselected package libxcb-dri3-0:amd64.\n",
      "Preparing to unpack .../107-libxcb-dri3-0_1.14-3ubuntu3_amd64.deb ...\n",
      "Unpacking libxcb-dri3-0:amd64 (1.14-3ubuntu3) ...\n",
      "Selecting previously unselected package libxcb-glx0:amd64.\n",
      "Preparing to unpack .../108-libxcb-glx0_1.14-3ubuntu3_amd64.deb ...\n",
      "Unpacking libxcb-glx0:amd64 (1.14-3ubuntu3) ...\n",
      "Selecting previously unselected package libxcb-present0:amd64.\n",
      "Preparing to unpack .../109-libxcb-present0_1.14-3ubuntu3_amd64.deb ...\n",
      "Unpacking libxcb-present0:amd64 (1.14-3ubuntu3) ...\n",
      "Selecting previously unselected package libxcb-randr0:amd64.\n",
      "Preparing to unpack .../110-libxcb-randr0_1.14-3ubuntu3_amd64.deb ...\n",
      "Unpacking libxcb-randr0:amd64 (1.14-3ubuntu3) ...\n",
      "Selecting previously unselected package libxcb-sync1:amd64.\n",
      "Preparing to unpack .../111-libxcb-sync1_1.14-3ubuntu3_amd64.deb ...\n",
      "Unpacking libxcb-sync1:amd64 (1.14-3ubuntu3) ...\n",
      "Selecting previously unselected package libxcb-xfixes0:amd64.\n",
      "Preparing to unpack .../112-libxcb-xfixes0_1.14-3ubuntu3_amd64.deb ...\n",
      "Unpacking libxcb-xfixes0:amd64 (1.14-3ubuntu3) ...\n",
      "Selecting previously unselected package libxshmfence1:amd64.\n",
      "Preparing to unpack .../113-libxshmfence1_1.3-1build4_amd64.deb ...\n",
      "Unpacking libxshmfence1:amd64 (1.3-1build4) ...\n",
      "Selecting previously unselected package libxxf86vm1:amd64.\n",
      "Preparing to unpack .../114-libxxf86vm1_1%3a1.1.4-1build3_amd64.deb ...\n",
      "Unpacking libxxf86vm1:amd64 (1:1.1.4-1build3) ...\n",
      "Selecting previously unselected package libdrm-amdgpu1:amd64.\n",
      "Preparing to unpack .../115-libdrm-amdgpu1_2.4.113-2~ubuntu0.22.04.1_amd64.deb ...\n",
      "Unpacking libdrm-amdgpu1:amd64 (2.4.113-2~ubuntu0.22.04.1) ...\n",
      "Selecting previously unselected package libpciaccess0:amd64.\n",
      "Preparing to unpack .../116-libpciaccess0_0.16-3_amd64.deb ...\n",
      "Unpacking libpciaccess0:amd64 (0.16-3) ...\n",
      "Selecting previously unselected package libdrm-intel1:amd64.\n",
      "Preparing to unpack .../117-libdrm-intel1_2.4.113-2~ubuntu0.22.04.1_amd64.deb ...\n",
      "Unpacking libdrm-intel1:amd64 (2.4.113-2~ubuntu0.22.04.1) ...\n",
      "Selecting previously unselected package libdrm-nouveau2:amd64.\n",
      "Preparing to unpack .../118-libdrm-nouveau2_2.4.113-2~ubuntu0.22.04.1_amd64.deb ...\n",
      "Unpacking libdrm-nouveau2:amd64 (2.4.113-2~ubuntu0.22.04.1) ...\n",
      "Selecting previously unselected package libdrm-radeon1:amd64.\n",
      "Preparing to unpack .../119-libdrm-radeon1_2.4.113-2~ubuntu0.22.04.1_amd64.deb ...\n",
      "Unpacking libdrm-radeon1:amd64 (2.4.113-2~ubuntu0.22.04.1) ...\n",
      "Selecting previously unselected package libllvm15:amd64.\n",
      "Preparing to unpack .../120-libllvm15_1%3a15.0.7-0ubuntu0.22.04.3_amd64.deb ...\n",
      "Unpacking libllvm15:amd64 (1:15.0.7-0ubuntu0.22.04.3) ...\n",
      "Selecting previously unselected package libsensors-config.\n",
      "Preparing to unpack .../121-libsensors-config_1%3a3.6.0-7ubuntu1_all.deb ...\n",
      "Unpacking libsensors-config (1:3.6.0-7ubuntu1) ...\n",
      "Selecting previously unselected package libsensors5:amd64.\n",
      "Preparing to unpack .../122-libsensors5_1%3a3.6.0-7ubuntu1_amd64.deb ...\n",
      "Unpacking libsensors5:amd64 (1:3.6.0-7ubuntu1) ...\n",
      "Selecting previously unselected package libgl1-mesa-dri:amd64.\n",
      "Preparing to unpack .../123-libgl1-mesa-dri_23.2.1-1ubuntu3.1~22.04.2_amd64.deb ...\n",
      "Unpacking libgl1-mesa-dri:amd64 (23.2.1-1ubuntu3.1~22.04.2) ...\n",
      "Selecting previously unselected package libglx-mesa0:amd64.\n",
      "Preparing to unpack .../124-libglx-mesa0_23.2.1-1ubuntu3.1~22.04.2_amd64.deb ...\n",
      "Unpacking libglx-mesa0:amd64 (23.2.1-1ubuntu3.1~22.04.2) ...\n",
      "Selecting previously unselected package libglx0:amd64.\n",
      "Preparing to unpack .../125-libglx0_1.4.0-1_amd64.deb ...\n",
      "Unpacking libglx0:amd64 (1.4.0-1) ...\n",
      "Selecting previously unselected package libgl1:amd64.\n",
      "Preparing to unpack .../126-libgl1_1.4.0-1_amd64.deb ...\n",
      "Unpacking libgl1:amd64 (1.4.0-1) ...\n",
      "Selecting previously unselected package libiec61883-0:amd64.\n",
      "Preparing to unpack .../127-libiec61883-0_1.2.0-4build3_amd64.deb ...\n",
      "Unpacking libiec61883-0:amd64 (1.2.0-4build3) ...\n",
      "Selecting previously unselected package libjack-jackd2-0:amd64.\n",
      "Preparing to unpack .../128-libjack-jackd2-0_1.9.20~dfsg-1_amd64.deb ...\n",
      "Unpacking libjack-jackd2-0:amd64 (1.9.20~dfsg-1) ...\n",
      "Selecting previously unselected package libopenal-data.\n",
      "Preparing to unpack .../129-libopenal-data_1%3a1.19.1-2build3_all.deb ...\n",
      "Unpacking libopenal-data (1:1.19.1-2build3) ...\n",
      "Selecting previously unselected package libsndio7.0:amd64.\n",
      "Preparing to unpack .../130-libsndio7.0_1.8.1-1.1_amd64.deb ...\n",
      "Unpacking libsndio7.0:amd64 (1.8.1-1.1) ...\n",
      "Selecting previously unselected package libopenal1:amd64.\n",
      "Preparing to unpack .../131-libopenal1_1%3a1.19.1-2build3_amd64.deb ...\n",
      "Unpacking libopenal1:amd64 (1:1.19.1-2build3) ...\n",
      "Selecting previously unselected package libwayland-client0:amd64.\n",
      "Preparing to unpack .../132-libwayland-client0_1.20.0-1ubuntu0.1_amd64.deb ...\n",
      "Unpacking libwayland-client0:amd64 (1.20.0-1ubuntu0.1) ...\n",
      "Selecting previously unselected package libdecor-0-0:amd64.\n",
      "Preparing to unpack .../133-libdecor-0-0_0.1.0-3build1_amd64.deb ...\n",
      "Unpacking libdecor-0-0:amd64 (0.1.0-3build1) ...\n",
      "Selecting previously unselected package libwayland-server0:amd64.\n",
      "Preparing to unpack .../134-libwayland-server0_1.20.0-1ubuntu0.1_amd64.deb ...\n",
      "Unpacking libwayland-server0:amd64 (1.20.0-1ubuntu0.1) ...\n",
      "Selecting previously unselected package libgbm1:amd64.\n",
      "Preparing to unpack .../135-libgbm1_23.2.1-1ubuntu3.1~22.04.2_amd64.deb ...\n",
      "Unpacking libgbm1:amd64 (23.2.1-1ubuntu3.1~22.04.2) ...\n",
      "Selecting previously unselected package libwayland-cursor0:amd64.\n",
      "Preparing to unpack .../136-libwayland-cursor0_1.20.0-1ubuntu0.1_amd64.deb ...\n",
      "Unpacking libwayland-cursor0:amd64 (1.20.0-1ubuntu0.1) ...\n",
      "Selecting previously unselected package libwayland-egl1:amd64.\n",
      "Preparing to unpack .../137-libwayland-egl1_1.20.0-1ubuntu0.1_amd64.deb ...\n",
      "Unpacking libwayland-egl1:amd64 (1.20.0-1ubuntu0.1) ...\n",
      "Selecting previously unselected package libxcursor1:amd64.\n",
      "Preparing to unpack .../138-libxcursor1_1%3a1.2.0-2build4_amd64.deb ...\n",
      "Unpacking libxcursor1:amd64 (1:1.2.0-2build4) ...\n",
      "Selecting previously unselected package libxi6:amd64.\n",
      "Preparing to unpack .../139-libxi6_2%3a1.8-1build1_amd64.deb ...\n",
      "Unpacking libxi6:amd64 (2:1.8-1build1) ...\n",
      "Selecting previously unselected package libxinerama1:amd64.\n",
      "Preparing to unpack .../140-libxinerama1_2%3a1.1.4-3_amd64.deb ...\n",
      "Unpacking libxinerama1:amd64 (2:1.1.4-3) ...\n",
      "Selecting previously unselected package libxkbcommon0:amd64.\n",
      "Preparing to unpack .../141-libxkbcommon0_1.4.0-1_amd64.deb ...\n",
      "Unpacking libxkbcommon0:amd64 (1.4.0-1) ...\n",
      "Selecting previously unselected package libxrandr2:amd64.\n",
      "Preparing to unpack .../142-libxrandr2_2%3a1.5.2-1build1_amd64.deb ...\n",
      "Unpacking libxrandr2:amd64 (2:1.5.2-1build1) ...\n",
      "Selecting previously unselected package libxss1:amd64.\n",
      "Preparing to unpack .../143-libxss1_1%3a1.2.3-1build2_amd64.deb ...\n",
      "Unpacking libxss1:amd64 (1:1.2.3-1build2) ...\n",
      "Selecting previously unselected package libsdl2-2.0-0:amd64.\n",
      "Preparing to unpack .../144-libsdl2-2.0-0_2.0.20+dfsg-2ubuntu1.22.04.1_amd64.deb ...\n",
      "Unpacking libsdl2-2.0-0:amd64 (2.0.20+dfsg-2ubuntu1.22.04.1) ...\n",
      "Selecting previously unselected package libxcb-shape0:amd64.\n",
      "Preparing to unpack .../145-libxcb-shape0_1.14-3ubuntu3_amd64.deb ...\n",
      "Unpacking libxcb-shape0:amd64 (1.14-3ubuntu3) ...\n",
      "Selecting previously unselected package libxv1:amd64.\n",
      "Preparing to unpack .../146-libxv1_2%3a1.0.11-1build2_amd64.deb ...\n",
      "Unpacking libxv1:amd64 (2:1.0.11-1build2) ...\n",
      "Selecting previously unselected package libavdevice58:amd64.\n",
      "Preparing to unpack .../147-libavdevice58_7%3a4.4.2-0ubuntu0.22.04.1_amd64.deb ...\n",
      "Unpacking libavdevice58:amd64 (7:4.4.2-0ubuntu0.22.04.1) ...\n",
      "Selecting previously unselected package ffmpeg.\n",
      "Preparing to unpack .../148-ffmpeg_7%3a4.4.2-0ubuntu0.22.04.1_amd64.deb ...\n",
      "Unpacking ffmpeg (7:4.4.2-0ubuntu0.22.04.1) ...\n",
      "Selecting previously unselected package libigdgmm12:amd64.\n",
      "Preparing to unpack .../149-libigdgmm12_22.1.2+ds1-1_amd64.deb ...\n",
      "Unpacking libigdgmm12:amd64 (22.1.2+ds1-1) ...\n",
      "Selecting previously unselected package intel-media-va-driver:amd64.\n",
      "Preparing to unpack .../150-intel-media-va-driver_22.3.1+dfsg1-1ubuntu2_amd64.deb ...\n",
      "Unpacking intel-media-va-driver:amd64 (22.3.1+dfsg1-1ubuntu2) ...\n",
      "Selecting previously unselected package libaacs0:amd64.\n",
      "Preparing to unpack .../151-libaacs0_0.11.1-1_amd64.deb ...\n",
      "Unpacking libaacs0:amd64 (0.11.1-1) ...\n",
      "Selecting previously unselected package libbdplus0:amd64.\n",
      "Preparing to unpack .../152-libbdplus0_0.2.0-1_amd64.deb ...\n",
      "Unpacking libbdplus0:amd64 (0.2.0-1) ...\n",
      "Selecting previously unselected package libdecor-0-plugin-1-cairo:amd64.\n",
      "Preparing to unpack .../153-libdecor-0-plugin-1-cairo_0.1.0-3build1_amd64.deb ...\n",
      "Unpacking libdecor-0-plugin-1-cairo:amd64 (0.1.0-3build1) ...\n",
      "Selecting previously unselected package libgdk-pixbuf2.0-bin.\n",
      "Preparing to unpack .../154-libgdk-pixbuf2.0-bin_2.42.8+dfsg-1ubuntu0.2_amd64.deb ...\n",
      "Unpacking libgdk-pixbuf2.0-bin (2.42.8+dfsg-1ubuntu0.2) ...\n",
      "Selecting previously unselected package libgl1-amber-dri:amd64.\n",
      "Preparing to unpack .../155-libgl1-amber-dri_21.3.9-0ubuntu1~22.04.1_amd64.deb ...\n",
      "Unpacking libgl1-amber-dri:amd64 (21.3.9-0ubuntu1~22.04.1) ...\n",
      "Selecting previously unselected package librsvg2-common:amd64.\n",
      "Preparing to unpack .../156-librsvg2-common_2.52.5+dfsg-3ubuntu0.2_amd64.deb ...\n",
      "Unpacking librsvg2-common:amd64 (2.52.5+dfsg-3ubuntu0.2) ...\n",
      "Selecting previously unselected package mesa-va-drivers:amd64.\n",
      "Preparing to unpack .../157-mesa-va-drivers_23.2.1-1ubuntu3.1~22.04.2_amd64.deb ...\n",
      "Unpacking mesa-va-drivers:amd64 (23.2.1-1ubuntu3.1~22.04.2) ...\n",
      "Selecting previously unselected package mesa-vdpau-drivers:amd64.\n",
      "Preparing to unpack .../158-mesa-vdpau-drivers_23.2.1-1ubuntu3.1~22.04.2_amd64.deb ...\n",
      "Unpacking mesa-vdpau-drivers:amd64 (23.2.1-1ubuntu3.1~22.04.2) ...\n",
      "Selecting previously unselected package i965-va-driver:amd64.\n",
      "Preparing to unpack .../159-i965-va-driver_2.4.1+dfsg1-1_amd64.deb ...\n",
      "Unpacking i965-va-driver:amd64 (2.4.1+dfsg1-1) ...\n",
      "Selecting previously unselected package va-driver-all:amd64.\n",
      "Preparing to unpack .../160-va-driver-all_2.14.0-1_amd64.deb ...\n",
      "Unpacking va-driver-all:amd64 (2.14.0-1) ...\n",
      "Selecting previously unselected package vdpau-driver-all:amd64.\n",
      "Preparing to unpack .../161-vdpau-driver-all_1.4-3build2_amd64.deb ...\n",
      "Unpacking vdpau-driver-all:amd64 (1.4-3build2) ...\n",
      "Selecting previously unselected package pocketsphinx-en-us.\n",
      "Preparing to unpack .../162-pocketsphinx-en-us_0.8.0+real5prealpha+1-14ubuntu1_all.deb ...\n",
      "Unpacking pocketsphinx-en-us (0.8.0+real5prealpha+1-14ubuntu1) ...\n",
      "Setting up libgme0:amd64 (0.6.3-2) ...\n",
      "Setting up libssh-gcrypt-4:amd64 (0.9.6-2ubuntu0.22.04.3) ...\n",
      "Setting up libsrt1.4-gnutls:amd64 (1.4.4-4) ...\n",
      "Setting up libxcb-dri3-0:amd64 (1.14-3ubuntu3) ...\n",
      "Setting up libudfread0:amd64 (1.1.2-1) ...\n",
      "Setting up libwayland-server0:amd64 (1.20.0-1ubuntu0.1) ...\n",
      "Setting up libaom3:amd64 (3.3.0-1) ...\n",
      "Setting up libx11-xcb1:amd64 (2:1.7.5-1ubuntu0.3) ...\n",
      "Setting up libpciaccess0:amd64 (0.16-3) ...\n",
      "Setting up librabbitmq4:amd64 (0.10.0-1ubuntu2) ...\n",
      "Setting up libraw1394-11:amd64 (2.1.2-2build2) ...\n",
      "Setting up libapparmor1:amd64 (3.0.4-2ubuntu2.3) ...\n",
      "Setting up libcodec2-1.0:amd64 (1.0.1-3) ...\n",
      "Setting up libsodium23:amd64 (1.0.18-1build2) ...\n",
      "Setting up libmpg123-0:amd64 (1.29.3-1build1) ...\n",
      "Setting up libxcb-xfixes0:amd64 (1.14-3ubuntu3) ...\n",
      "Setting up libogg0:amd64 (1.3.5-0ubuntu3) ...\n",
      "Setting up libspeex1:amd64 (1.2~rc1.2-1.1ubuntu3) ...\n",
      "Setting up libshine3:amd64 (3.1.1-2) ...\n",
      "Setting up libxi6:amd64 (2:1.8-1build1) ...\n",
      "Setting up libtwolame0:amd64 (0.4.0-2build2) ...\n",
      "Setting up libgsm1:amd64 (1.0.19-1) ...\n",
      "Setting up libglvnd0:amd64 (1.4.0-1) ...\n",
      "Setting up libpgm-5.3-0:amd64 (5.3.128~dfsg-2) ...\n",
      "Setting up libxcb-glx0:amd64 (1.14-3ubuntu3) ...\n",
      "Setting up libedit2:amd64 (3.1-20210910-1build1) ...\n",
      "Setting up libgdk-pixbuf2.0-common (2.42.8+dfsg-1ubuntu0.2) ...\n",
      "Setting up libnorm1:amd64 (1.5.9+dfsg-2) ...\n",
      "Setting up libmysofa1:amd64 (1.2.1~dfsg0-1) ...\n",
      "Setting up libxcb-shape0:amd64 (1.14-3ubuntu3) ...\n",
      "Setting up libsensors-config (1:3.6.0-7ubuntu1) ...\n",
      "Setting up xkb-data (2.33-1) ...\n",
      "Setting up libigdgmm12:amd64 (22.1.2+ds1-1) ...\n",
      "Setting up libgomp1:amd64 (12.3.0-1ubuntu1~22.04) ...\n",
      "Setting up libcdio19:amd64 (2.1.0-3build1) ...\n",
      "Setting up libxvidcore4:amd64 (2:1.3.7-1) ...\n",
      "Setting up libxxf86vm1:amd64 (1:1.1.4-1build3) ...\n",
      "Setting up libsnappy1v5:amd64 (1.1.8-1build3) ...\n",
      "Setting up libflac8:amd64 (1.3.3-2ubuntu0.2) ...\n",
      "Setting up libxcb-present0:amd64 (1.14-3ubuntu3) ...\n",
      "Setting up libasound2-data (1.2.6.1-1ubuntu1) ...\n",
      "Setting up libblas3:amd64 (3.10.0-2ubuntu1) ...\n",
      "update-alternatives: using /usr/lib/x86_64-linux-gnu/blas/libblas.so.3 to provide /usr/lib/x86_64-linux-gnu/libblas.so.3 (libblas.so.3-x86_64-linux-gnu) in auto mode\n",
      "Setting up libass9:amd64 (1:0.15.2-1) ...\n",
      "Setting up libslang2:amd64 (2.3.2-5build4) ...\n",
      "Setting up libva2:amd64 (2.14.0-1) ...\n",
      "Setting up libxfixes3:amd64 (1:6.0.0-1) ...\n",
      "Setting up libxcb-sync1:amd64 (1.14-3ubuntu3) ...\n",
      "Setting up libx264-163:amd64 (2:0.163.3060+git5db6aa6-2build1) ...\n",
      "Setting up libdbus-1-3:amd64 (1.12.20-2ubuntu4.1) ...\n",
      "Setting up dbus (1.12.20-2ubuntu4.1) ...\n",
      "Setting up libopus0:amd64 (1.3.1-0.1build2) ...\n",
      "Setting up libquadmath0:amd64 (12.3.0-1ubuntu1~22.04) ...\n",
      "Setting up libxinerama1:amd64 (2:1.1.4-3) ...\n",
      "Setting up intel-media-va-driver:amd64 (22.3.1+dfsg1-1ubuntu2) ...\n",
      "Setting up libxv1:amd64 (2:1.0.11-1build2) ...\n",
      "Setting up libvorbis0a:amd64 (1.3.7-1build2) ...\n",
      "Setting up libxrandr2:amd64 (2:1.5.2-1build1) ...\n",
      "Setting up libsensors5:amd64 (1:3.6.0-7ubuntu1) ...\n",
      "Setting up libaacs0:amd64 (0.11.1-1) ...\n",
      "Setting up pocketsphinx-en-us (0.8.0+real5prealpha+1-14ubuntu1) ...\n",
      "Setting up libglapi-mesa:amd64 (23.2.1-1ubuntu3.1~22.04.2) ...\n",
      "Setting up libgfortran5:amd64 (12.3.0-1ubuntu1~22.04) ...\n",
      "Setting up libxcb-dri2-0:amd64 (1.14-3ubuntu3) ...\n",
      "Setting up libbdplus0:amd64 (0.2.0-1) ...\n",
      "Setting up libnuma1:amd64 (2.0.14-3ubuntu2) ...\n",
      "Setting up libvidstab1.1:amd64 (1.1.0-2) ...\n",
      "Setting up alsa-topology-conf (1.2.5.1-2) ...\n",
      "Setting up ocl-icd-libopencl1:amd64 (2.2.14-3) ...\n",
      "Setting up libasyncns0:amd64 (0.8-6build2) ...\n",
      "Setting up libxshmfence1:amd64 (1.3-1build4) ...\n",
      "Setting up libvdpau1:amd64 (1.4-3build2) ...\n",
      "Setting up libbs2b0:amd64 (3.1.0+dfsg-2.2build1) ...\n",
      "Setting up libxcb-randr0:amd64 (1.14-3ubuntu3) ...\n",
      "Setting up libtheora0:amd64 (1.1.1+dfsg.1-15ubuntu4) ...\n",
      "Setting up libasound2:amd64 (1.2.6.1-1ubuntu1) ...\n",
      "Setting up libzimg2:amd64 (3.0.3+ds1-1) ...\n",
      "Setting up libopenjp2-7:amd64 (2.4.0-6) ...\n",
      "Setting up libopenal-data (1:1.19.1-2build3) ...\n",
      "Setting up libvpx7:amd64 (1.11.0-2ubuntu2.2) ...\n",
      "Setting up libcairo-gobject2:amd64 (1.16.0-5ubuntu2) ...\n",
      "Setting up libwayland-egl1:amd64 (1.20.0-1ubuntu0.1) ...\n",
      "Setting up libxss1:amd64 (1:1.2.3-1build2) ...\n",
      "Setting up libusb-1.0-0:amd64 (2:1.0.25-1ubuntu2) ...\n",
      "Setting up libdav1d5:amd64 (0.9.2-1) ...\n",
      "Setting up libmfx1:amd64 (22.3.0-1) ...\n",
      "Setting up libsamplerate0:amd64 (0.2.2-1build1) ...\n",
      "Setting up libwebpmux3:amd64 (1.2.2-2ubuntu0.22.04.2) ...\n",
      "Setting up libdrm-common (2.4.113-2~ubuntu0.22.04.1) ...\n",
      "Setting up libelf1:amd64 (0.186-1build1) ...\n",
      "Setting up libzvbi-common (0.2.35-19) ...\n",
      "Setting up libmp3lame0:amd64 (3.100-3build2) ...\n",
      "Setting up libvorbisenc2:amd64 (1.3.7-1build2) ...\n",
      "Setting up libicu70:amd64 (70.1-2) ...\n",
      "Setting up libiec61883-0:amd64 (1.2.0-4build3) ...\n",
      "Setting up libserd-0-0:amd64 (0.30.10-2) ...\n",
      "Setting up libxkbcommon0:amd64 (1.4.0-1) ...\n",
      "Setting up libwayland-client0:amd64 (1.20.0-1ubuntu0.1) ...\n",
      "Setting up libavc1394-0:amd64 (0.5.4-5build2) ...\n",
      "Setting up libzvbi0:amd64 (0.2.35-19) ...\n",
      "Setting up liblapack3:amd64 (3.10.0-2ubuntu1) ...\n",
      "update-alternatives: using /usr/lib/x86_64-linux-gnu/lapack/liblapack.so.3 to provide /usr/lib/x86_64-linux-gnu/liblapack.so.3 (liblapack.so.3-x86_64-linux-gnu) in auto mode\n",
      "Setting up libzmq5:amd64 (4.3.4-2) ...\n",
      "Setting up libcaca0:amd64 (0.99.beta19-2.2ubuntu4) ...\n",
      "Setting up alsa-ucm-conf (1.2.6.3-1ubuntu1.10) ...\n",
      "Setting up libsoxr0:amd64 (0.1.3-4build2) ...\n",
      "Setting up libcdio-cdda2:amd64 (10.2+2.0.0-1build3) ...\n",
      "Setting up libcdio-paranoia2:amd64 (10.2+2.0.0-1build3) ...\n",
      "Setting up libxcursor1:amd64 (1:1.2.0-2build4) ...\n",
      "Setting up libvorbisfile3:amd64 (1.3.7-1build2) ...\n",
      "Setting up libdc1394-25:amd64 (2.2.6-4) ...\n",
      "Setting up libx265-199:amd64 (3.5-2) ...\n",
      "Setting up librubberband2:amd64 (2.0.0-2) ...\n",
      "Setting up libsndio7.0:amd64 (1.8.1-1.1) ...\n",
      "Setting up libjack-jackd2-0:amd64 (1.9.20~dfsg-1) ...\n",
      "Setting up libdrm2:amd64 (2.4.113-2~ubuntu0.22.04.1) ...\n",
      "Setting up libflite1:amd64 (2.2-3) ...\n",
      "Setting up libva-drm2:amd64 (2.14.0-1) ...\n",
      "Setting up libsord-0-0:amd64 (0.16.8-2) ...\n",
      "Setting up libwayland-cursor0:amd64 (1.20.0-1ubuntu0.1) ...\n",
      "Setting up libsratom-0-0:amd64 (0.6.8-1) ...\n",
      "Setting up libdecor-0-0:amd64 (0.1.0-3build1) ...\n",
      "Setting up libsndfile1:amd64 (1.0.31-2ubuntu0.1) ...\n",
      "Setting up libva-x11-2:amd64 (2.14.0-1) ...\n",
      "Setting up liblilv-0-0:amd64 (0.24.12-2) ...\n",
      "Setting up libxml2:amd64 (2.9.13+dfsg-1ubuntu0.3) ...\n",
      "Setting up libopenmpt0:amd64 (0.6.1-1) ...\n",
      "Setting up libdrm-amdgpu1:amd64 (2.4.113-2~ubuntu0.22.04.1) ...\n",
      "Setting up libdrm-nouveau2:amd64 (2.4.113-2~ubuntu0.22.04.1) ...\n",
      "Setting up libgbm1:amd64 (23.2.1-1ubuntu3.1~22.04.2) ...\n",
      "Setting up libpulse0:amd64 (1:15.99.1+dfsg1-1ubuntu2.1) ...\n",
      "Setting up libdrm-radeon1:amd64 (2.4.113-2~ubuntu0.22.04.1) ...\n",
      "Setting up libdrm-intel1:amd64 (2.4.113-2~ubuntu0.22.04.1) ...\n",
      "Setting up libopenal1:amd64 (1:1.19.1-2build3) ...\n",
      "Setting up libavutil56:amd64 (7:4.4.2-0ubuntu0.22.04.1) ...\n",
      "Setting up shared-mime-info (2.1-2) ...\n",
      "Setting up libdecor-0-plugin-1-cairo:amd64 (0.1.0-3build1) ...\n",
      "Setting up libpostproc55:amd64 (7:4.4.2-0ubuntu0.22.04.1) ...\n",
      "Setting up libllvm15:amd64 (1:15.0.7-0ubuntu0.22.04.3) ...\n",
      "Setting up libgdk-pixbuf-2.0-0:amd64 (2.42.8+dfsg-1ubuntu0.2) ...\n",
      "Setting up libswscale5:amd64 (7:4.4.2-0ubuntu0.22.04.1) ...\n",
      "Setting up mesa-va-drivers:amd64 (23.2.1-1ubuntu3.1~22.04.2) ...\n",
      "Setting up libbluray2:amd64 (1:1.3.1-1) ...\n",
      "Setting up libsdl2-2.0-0:amd64 (2.0.20+dfsg-2ubuntu1.22.04.1) ...\n",
      "Setting up i965-va-driver:amd64 (2.4.1+dfsg1-1) ...\n",
      "Setting up libgl1-amber-dri:amd64 (21.3.9-0ubuntu1~22.04.1) ...\n",
      "Setting up mesa-vdpau-drivers:amd64 (23.2.1-1ubuntu3.1~22.04.2) ...\n",
      "Setting up libsphinxbase3:amd64 (0.8+5prealpha+1-13build1) ...\n",
      "Setting up libgl1-mesa-dri:amd64 (23.2.1-1ubuntu3.1~22.04.2) ...\n",
      "Setting up libswresample3:amd64 (7:4.4.2-0ubuntu0.22.04.1) ...\n",
      "Setting up librsvg2-2:amd64 (2.52.5+dfsg-3ubuntu0.2) ...\n",
      "Setting up libpocketsphinx3:amd64 (0.8.0+real5prealpha+1-14ubuntu1) ...\n",
      "Setting up va-driver-all:amd64 (2.14.0-1) ...\n",
      "Setting up librsvg2-common:amd64 (2.52.5+dfsg-3ubuntu0.2) ...\n",
      "Setting up vdpau-driver-all:amd64 (1.4-3build2) ...\n",
      "Setting up libgdk-pixbuf2.0-bin (2.42.8+dfsg-1ubuntu0.2) ...\n",
      "Setting up libavcodec58:amd64 (7:4.4.2-0ubuntu0.22.04.1) ...\n",
      "Setting up libchromaprint1:amd64 (1.5.1-2) ...\n",
      "Setting up libglx-mesa0:amd64 (23.2.1-1ubuntu3.1~22.04.2) ...\n",
      "Setting up libglx0:amd64 (1.4.0-1) ...\n",
      "Setting up libavformat58:amd64 (7:4.4.2-0ubuntu0.22.04.1) ...\n",
      "Setting up libgl1:amd64 (1.4.0-1) ...\n",
      "Setting up libavfilter7:amd64 (7:4.4.2-0ubuntu0.22.04.1) ...\n",
      "Setting up libavdevice58:amd64 (7:4.4.2-0ubuntu0.22.04.1) ...\n",
      "Setting up ffmpeg (7:4.4.2-0ubuntu0.22.04.1) ...\n",
      "Processing triggers for libc-bin (2.35-0ubuntu3.4) ...\n",
      "/sbin/ldconfig.real: /lib/x86_64-linux-gnu/libcuda.so.1 is not a symbolic link\n",
      "\n",
      "Processing triggers for libgdk-pixbuf-2.0-0:amd64 (2.42.8+dfsg-1ubuntu0.2) ...\n"
     ]
    }
   ],
   "source": [
    "!apt-get update -qq && apt-get install ffmpeg -y"
   ]
  },
  {
   "cell_type": "markdown",
   "id": "07e8dd2b-a5db-4615-b399-03f2f1c8d36f",
   "metadata": {},
   "source": [
    "## Data Ingestion\n",
    "\n",
    "### Data Information: \n",
    "\n",
    "The Data comes from the [CharaNet](https://www.kaggle.com/datasets/rayonegautam/charanet/data) Kaggle Dataset.\n",
    "\n",
    "**CharaNet is a dataset of Nepal's endangered bird species audio files collected from xeno-canto.org.**\r\n",
    "\r\n",
    "On the website xeno-canto.org, bird sounds from throughout the globe are shared. The recordings are uploaded on the website by the contributors who travel around. We collected 2215 audio recordings from this website of 41 birds of which 38 of them are listed as endangered species in Nepal. The dataset was increased to 6733 audio recordings after the 10-second split method for all and data augmentation through gaussian noise addition for birds having less than 30 files. A total of 5407 audio recordings were used for training, 639 for validation, and 687 for testing purposes."
   ]
  },
  {
   "cell_type": "code",
   "execution_count": 7,
   "id": "ee886ac1-7ccf-44c9-b32b-d42064dd5122",
   "metadata": {},
   "outputs": [],
   "source": [
    "Train_Path = \"../datafabric/Kaggle_CharaNet/train\"\n",
    "Test_Path = \"../datafabric/Kaggle_CharaNet/test\"\n",
    "Validation_Path = \"../datafabric/Kaggle_CharaNet/val\""
   ]
  },
  {
   "cell_type": "code",
   "execution_count": 28,
   "id": "d9b9efc9-e989-480c-8a51-7dacfcad552f",
   "metadata": {},
   "outputs": [],
   "source": [
    "def generate_shorter_clips(raw_file_path):\n",
    "    # Split bigger clips up into 3 second intervals for easier model training\n",
    "    # Ideally this would be split to the actual bird calls but with enough data this should work too\n",
    "    raw_path_list = raw_file_path.split(\"/\")\n",
    "    raw_audio_folder_path = os.path.join(*raw_path_list[0:-1])\n",
    "    clips_folder_path_list = raw_path_list\n",
    "    # replace Kaggle folder with parsed_clips folder and make directory if it doesnt exist\n",
    "    clips_folder_path_list[2] = \"parsed_clips\"\n",
    "    selected_clips_folder_path = os.path.join(*clips_folder_path_list[0:-1])\n",
    "    os.makedirs(selected_clips_folder_path,exist_ok=True)\n",
    "    parsed_file_name = raw_path_list[-1].split(\".\")[0]\n",
    "    sound = AudioSegment.from_mp3(raw_file_path)\n",
    "    # Get Count of ~ 3 second clips from file\n",
    "    ms_to_s = 1000\n",
    "    num_clips = math.floor(len(sound)/ms_to_s)//3\n",
    "    if num_clips>0:\n",
    "        array_vals = np.array_split(np.array(range(len(sound))),num_clips)\n",
    "        count = 0\n",
    "        for clip in array_vals:\n",
    "            start = int(clip[0])\n",
    "            end = int(clip[-1])\n",
    "            clip = sound[start:end]\n",
    "            clip.export(os.path.join(selected_clips_folder_path,f\"{parsed_file_name}-{count}.wav\"), format=\"wav\")\n",
    "            count += 1\n",
    "    else:\n",
    "        sound.export(os.path.join(selected_clips_folder_path,f\"{parsed_file_name}-0.wav\"), format=\"wav\")"
   ]
  },
  {
   "cell_type": "code",
   "execution_count": 33,
   "id": "dfac6e39-7314-4af6-aa00-1056006e1fa7",
   "metadata": {},
   "outputs": [
    {
     "name": "stdout",
     "output_type": "stream",
     "text": [
      "Generating Short Clips From Training Audio Files\n"
     ]
    },
    {
     "data": {
      "application/vnd.jupyter.widget-view+json": {
       "model_id": "1948cc5f61fa458898af8688e5e52f2a",
       "version_major": 2,
       "version_minor": 0
      },
      "text/plain": [
       "Species Progress:   0%|          | 0/41 [00:00<?, ?it/s]"
      ]
     },
     "metadata": {},
     "output_type": "display_data"
    },
    {
     "data": {
      "application/vnd.jupyter.widget-view+json": {
       "model_id": "",
       "version_major": 2,
       "version_minor": 0
      },
      "text/plain": [
       "Asian Koel Progress:   0%|          | 0/289 [00:00<?, ?it/s]"
      ]
     },
     "metadata": {},
     "output_type": "display_data"
    },
    {
     "data": {
      "application/vnd.jupyter.widget-view+json": {
       "model_id": "",
       "version_major": 2,
       "version_minor": 0
      },
      "text/plain": [
       "Black Kite Progress:   0%|          | 0/288 [00:00<?, ?it/s]"
      ]
     },
     "metadata": {},
     "output_type": "display_data"
    },
    {
     "data": {
      "application/vnd.jupyter.widget-view+json": {
       "model_id": "",
       "version_major": 2,
       "version_minor": 0
      },
      "text/plain": [
       "Black-breasted Parrotbill Progress:   0%|          | 0/42 [00:00<?, ?it/s]"
      ]
     },
     "metadata": {},
     "output_type": "display_data"
    },
    {
     "data": {
      "application/vnd.jupyter.widget-view+json": {
       "model_id": "",
       "version_major": 2,
       "version_minor": 0
      },
      "text/plain": [
       "Black-necked crane Progress:   0%|          | 0/82 [00:00<?, ?it/s]"
      ]
     },
     "metadata": {},
     "output_type": "display_data"
    },
    {
     "data": {
      "application/vnd.jupyter.widget-view+json": {
       "model_id": "",
       "version_major": 2,
       "version_minor": 0
      },
      "text/plain": [
       "Bristled Grassbird Progress:   0%|          | 0/52 [00:00<?, ?it/s]"
      ]
     },
     "metadata": {},
     "output_type": "display_data"
    },
    {
     "data": {
      "application/vnd.jupyter.widget-view+json": {
       "model_id": "",
       "version_major": 2,
       "version_minor": 0
      },
      "text/plain": [
       "Cheer Pheasant Progress:   0%|          | 0/40 [00:00<?, ?it/s]"
      ]
     },
     "metadata": {},
     "output_type": "display_data"
    },
    {
     "data": {
      "application/vnd.jupyter.widget-view+json": {
       "model_id": "",
       "version_major": 2,
       "version_minor": 0
      },
      "text/plain": [
       "Common Cuckoo Progress:   0%|          | 0/416 [00:00<?, ?it/s]"
      ]
     },
     "metadata": {},
     "output_type": "display_data"
    },
    {
     "data": {
      "application/vnd.jupyter.widget-view+json": {
       "model_id": "",
       "version_major": 2,
       "version_minor": 0
      },
      "text/plain": [
       "Common Pochard Progress:   0%|          | 0/203 [00:00<?, ?it/s]"
      ]
     },
     "metadata": {},
     "output_type": "display_data"
    },
    {
     "data": {
      "application/vnd.jupyter.widget-view+json": {
       "model_id": "",
       "version_major": 2,
       "version_minor": 0
      },
      "text/plain": [
       "Common Wood Pigeon Progress:   0%|          | 0/376 [00:00<?, ?it/s]"
      ]
     },
     "metadata": {},
     "output_type": "display_data"
    },
    {
     "data": {
      "application/vnd.jupyter.widget-view+json": {
       "model_id": "",
       "version_major": 2,
       "version_minor": 0
      },
      "text/plain": [
       "Eastern Imperial Eagle Progress:   0%|          | 0/24 [00:00<?, ?it/s]"
      ]
     },
     "metadata": {},
     "output_type": "display_data"
    },
    {
     "data": {
      "application/vnd.jupyter.widget-view+json": {
       "model_id": "",
       "version_major": 2,
       "version_minor": 0
      },
      "text/plain": [
       "Egyptian Vulture Progress:   0%|          | 0/16 [00:00<?, ?it/s]"
      ]
     },
     "metadata": {},
     "output_type": "display_data"
    },
    {
     "data": {
      "application/vnd.jupyter.widget-view+json": {
       "model_id": "",
       "version_major": 2,
       "version_minor": 0
      },
      "text/plain": [
       "Great Slaty Woodpecker Progress:   0%|          | 0/152 [00:00<?, ?it/s]"
      ]
     },
     "metadata": {},
     "output_type": "display_data"
    },
    {
     "data": {
      "application/vnd.jupyter.widget-view+json": {
       "model_id": "",
       "version_major": 2,
       "version_minor": 0
      },
      "text/plain": [
       "Greater Spotted Eagle Progress:   0%|          | 0/205 [00:00<?, ?it/s]"
      ]
     },
     "metadata": {},
     "output_type": "display_data"
    },
    {
     "data": {
      "application/vnd.jupyter.widget-view+json": {
       "model_id": "",
       "version_major": 2,
       "version_minor": 0
      },
      "text/plain": [
       "Grey Treepie Progress:   0%|          | 0/267 [00:00<?, ?it/s]"
      ]
     },
     "metadata": {},
     "output_type": "display_data"
    },
    {
     "data": {
      "application/vnd.jupyter.widget-view+json": {
       "model_id": "",
       "version_major": 2,
       "version_minor": 0
      },
      "text/plain": [
       "Grey-crowned Prinia Progress:   0%|          | 0/24 [00:00<?, ?it/s]"
      ]
     },
     "metadata": {},
     "output_type": "display_data"
    },
    {
     "data": {
      "application/vnd.jupyter.widget-view+json": {
       "model_id": "",
       "version_major": 2,
       "version_minor": 0
      },
      "text/plain": [
       "Grey-sided Thrush Progress:   0%|          | 0/28 [00:00<?, ?it/s]"
      ]
     },
     "metadata": {},
     "output_type": "display_data"
    },
    {
     "data": {
      "application/vnd.jupyter.widget-view+json": {
       "model_id": "",
       "version_major": 2,
       "version_minor": 0
      },
      "text/plain": [
       "Himalayan Monal Progress:   0%|          | 0/76 [00:00<?, ?it/s]"
      ]
     },
     "metadata": {},
     "output_type": "display_data"
    },
    {
     "data": {
      "application/vnd.jupyter.widget-view+json": {
       "model_id": "",
       "version_major": 2,
       "version_minor": 0
      },
      "text/plain": [
       "House Crow Progress:   0%|          | 0/314 [00:00<?, ?it/s]"
      ]
     },
     "metadata": {},
     "output_type": "display_data"
    },
    {
     "data": {
      "application/vnd.jupyter.widget-view+json": {
       "model_id": "",
       "version_major": 2,
       "version_minor": 0
      },
      "text/plain": [
       "House Sparrow Progress:   0%|          | 0/316 [00:00<?, ?it/s]"
      ]
     },
     "metadata": {},
     "output_type": "display_data"
    },
    {
     "data": {
      "application/vnd.jupyter.widget-view+json": {
       "model_id": "",
       "version_major": 2,
       "version_minor": 0
      },
      "text/plain": [
       "Indian Spotted Eagle Progress:   0%|          | 0/14 [00:00<?, ?it/s]"
      ]
     },
     "metadata": {},
     "output_type": "display_data"
    },
    {
     "data": {
      "application/vnd.jupyter.widget-view+json": {
       "model_id": "",
       "version_major": 2,
       "version_minor": 0
      },
      "text/plain": [
       "Jerdon_s Babbler Progress:   0%|          | 0/32 [00:00<?, ?it/s]"
      ]
     },
     "metadata": {},
     "output_type": "display_data"
    },
    {
     "data": {
      "application/vnd.jupyter.widget-view+json": {
       "model_id": "",
       "version_major": 2,
       "version_minor": 0
      },
      "text/plain": [
       "Kashmir Flycatcher Progress:   0%|          | 0/42 [00:00<?, ?it/s]"
      ]
     },
     "metadata": {},
     "output_type": "display_data"
    },
    {
     "data": {
      "application/vnd.jupyter.widget-view+json": {
       "model_id": "",
       "version_major": 2,
       "version_minor": 0
      },
      "text/plain": [
       "Large-billed Crow Progress:   0%|          | 0/284 [00:00<?, ?it/s]"
      ]
     },
     "metadata": {},
     "output_type": "display_data"
    },
    {
     "data": {
      "application/vnd.jupyter.widget-view+json": {
       "model_id": "",
       "version_major": 2,
       "version_minor": 0
      },
      "text/plain": [
       "Long-tailed Duck Progress:   0%|          | 0/179 [00:00<?, ?it/s]"
      ]
     },
     "metadata": {},
     "output_type": "display_data"
    },
    {
     "data": {
      "application/vnd.jupyter.widget-view+json": {
       "model_id": "",
       "version_major": 2,
       "version_minor": 0
      },
      "text/plain": [
       "Pallas_s Fish Eagle Progress:   0%|          | 0/14 [00:00<?, ?it/s]"
      ]
     },
     "metadata": {},
     "output_type": "display_data"
    },
    {
     "data": {
      "application/vnd.jupyter.widget-view+json": {
       "model_id": "",
       "version_major": 2,
       "version_minor": 0
      },
      "text/plain": [
       "Red-billed Blue Magpie Progress:   0%|          | 0/170 [00:00<?, ?it/s]"
      ]
     },
     "metadata": {},
     "output_type": "display_data"
    },
    {
     "data": {
      "application/vnd.jupyter.widget-view+json": {
       "model_id": "",
       "version_major": 2,
       "version_minor": 0
      },
      "text/plain": [
       "Rose-ringed Parakeet Progress:   0%|          | 0/243 [00:00<?, ?it/s]"
      ]
     },
     "metadata": {},
     "output_type": "display_data"
    },
    {
     "data": {
      "application/vnd.jupyter.widget-view+json": {
       "model_id": "",
       "version_major": 2,
       "version_minor": 0
      },
      "text/plain": [
       "Rufous Treepie Progress:   0%|          | 0/239 [00:00<?, ?it/s]"
      ]
     },
     "metadata": {},
     "output_type": "display_data"
    },
    {
     "data": {
      "application/vnd.jupyter.widget-view+json": {
       "model_id": "",
       "version_major": 2,
       "version_minor": 0
      },
      "text/plain": [
       "Rufous-necked Hornbill Progress:   0%|          | 0/36 [00:00<?, ?it/s]"
      ]
     },
     "metadata": {},
     "output_type": "display_data"
    },
    {
     "data": {
      "application/vnd.jupyter.widget-view+json": {
       "model_id": "",
       "version_major": 2,
       "version_minor": 0
      },
      "text/plain": [
       "Rustic Bunting Progress:   0%|          | 0/242 [00:00<?, ?it/s]"
      ]
     },
     "metadata": {},
     "output_type": "display_data"
    },
    {
     "data": {
      "application/vnd.jupyter.widget-view+json": {
       "model_id": "",
       "version_major": 2,
       "version_minor": 0
      },
      "text/plain": [
       "Saker Falcon Progress:   0%|          | 0/44 [00:00<?, ?it/s]"
      ]
     },
     "metadata": {},
     "output_type": "display_data"
    },
    {
     "data": {
      "application/vnd.jupyter.widget-view+json": {
       "model_id": "",
       "version_major": 2,
       "version_minor": 0
      },
      "text/plain": [
       "Sarus Crane Progress:   0%|          | 0/66 [00:00<?, ?it/s]"
      ]
     },
     "metadata": {},
     "output_type": "display_data"
    },
    {
     "data": {
      "application/vnd.jupyter.widget-view+json": {
       "model_id": "",
       "version_major": 2,
       "version_minor": 0
      },
      "text/plain": [
       "Satyr Tragopan Progress:   0%|          | 0/25 [00:00<?, ?it/s]"
      ]
     },
     "metadata": {},
     "output_type": "display_data"
    },
    {
     "data": {
      "application/vnd.jupyter.widget-view+json": {
       "model_id": "",
       "version_major": 2,
       "version_minor": 0
      },
      "text/plain": [
       "Slender-billed Babbler Progress:   0%|          | 0/29 [00:00<?, ?it/s]"
      ]
     },
     "metadata": {},
     "output_type": "display_data"
    },
    {
     "data": {
      "application/vnd.jupyter.widget-view+json": {
       "model_id": "",
       "version_major": 2,
       "version_minor": 0
      },
      "text/plain": [
       "Spiny Babbler Progress:   0%|          | 0/56 [00:00<?, ?it/s]"
      ]
     },
     "metadata": {},
     "output_type": "display_data"
    },
    {
     "data": {
      "application/vnd.jupyter.widget-view+json": {
       "model_id": "",
       "version_major": 2,
       "version_minor": 0
      },
      "text/plain": [
       "Spotted Dove Progress:   0%|          | 0/328 [00:00<?, ?it/s]"
      ]
     },
     "metadata": {},
     "output_type": "display_data"
    },
    {
     "data": {
      "application/vnd.jupyter.widget-view+json": {
       "model_id": "",
       "version_major": 2,
       "version_minor": 0
      },
      "text/plain": [
       "Steppe Eagle Progress:   0%|          | 0/18 [00:00<?, ?it/s]"
      ]
     },
     "metadata": {},
     "output_type": "display_data"
    },
    {
     "data": {
      "application/vnd.jupyter.widget-view+json": {
       "model_id": "",
       "version_major": 2,
       "version_minor": 0
      },
      "text/plain": [
       "Swamp Francolin Progress:   0%|          | 0/40 [00:00<?, ?it/s]"
      ]
     },
     "metadata": {},
     "output_type": "display_data"
    },
    {
     "data": {
      "application/vnd.jupyter.widget-view+json": {
       "model_id": "",
       "version_major": 2,
       "version_minor": 0
      },
      "text/plain": [
       "Swamp Grass-babbler Progress:   0%|          | 0/44 [00:00<?, ?it/s]"
      ]
     },
     "metadata": {},
     "output_type": "display_data"
    },
    {
     "data": {
      "application/vnd.jupyter.widget-view+json": {
       "model_id": "",
       "version_major": 2,
       "version_minor": 0
      },
      "text/plain": [
       "White-throated Bushchat Progress:   0%|          | 0/20 [00:00<?, ?it/s]"
      ]
     },
     "metadata": {},
     "output_type": "display_data"
    },
    {
     "data": {
      "application/vnd.jupyter.widget-view+json": {
       "model_id": "",
       "version_major": 2,
       "version_minor": 0
      },
      "text/plain": [
       "Wood Snipe Progress:   0%|          | 0/32 [00:00<?, ?it/s]"
      ]
     },
     "metadata": {},
     "output_type": "display_data"
    }
   ],
   "source": [
    "species_list = os.listdir(Train_Path)\n",
    "print(\"Generating Short Clips From Training Audio Files\")\n",
    "for species in tqdm(species_list,desc=\"Species Progress\"):\n",
    "    species_audio_files = os.listdir(os.path.join(Train_Path,species))\n",
    "    for audio_file in tqdm(species_audio_files,leave=False,desc=f\"{species} Progress\"):\n",
    "        generate_shorter_clips(os.path.join(Train_Path,species,audio_file))"
   ]
  },
  {
   "cell_type": "markdown",
   "id": "c890504f-4792-42fa-ade3-e61d47833136",
   "metadata": {},
   "source": [
    "## Data Augmentation\n",
    "Similar to Image Recognition in order to produce a robust model you may want to Augment your training set with transformed samples. Here are a few examples that can be used to transform audio clips."
   ]
  },
  {
   "cell_type": "code",
   "execution_count": 34,
   "id": "2a759b6c-23f4-4677-95bb-487ada2f961d",
   "metadata": {},
   "outputs": [],
   "source": [
    "def Add_White_Noise(sound, decibels = 50):\n",
    "    \"\"\"\n",
    "    Add White Noise to an Audio Clip and return the new clip\n",
    "    Note: sound should be an AudioSegment\n",
    "    \"\"\"\n",
    "    noise = WhiteNoise().to_audio_segment(duration=len(sound))-decibels\n",
    "    combined = sound.overlay(noise)\n",
    "    return combined\n",
    "def Normalize_Volume(sound):\n",
    "    \"\"\"\n",
    "    Normalize the Volume of a Clip and return the new clip\n",
    "    Note :sound should be an AudioSegment\n",
    "    \"\"\"\n",
    "    normalized_sound = effects.normalize(sound) \n",
    "    return normalized_sound\n",
    "def Filter_Out_High_Frequency(sound,cutoff = 8e3):\n",
    "    \"\"\"\n",
    "    Filter out High Frequencies in a Clip and return the new clip\n",
    "    Note: sound should be an AudioSegment and cutoff is in Hz (default is 8kHz)\n",
    "    \"\"\"\n",
    "    filtered_sound = effects.low_pass_filter(sound,cutoff) \n",
    "    return filtered_sound\n",
    "def Filter_Out_Low_Frequency(sound,cutoff = 8e3):\n",
    "    \"\"\"\n",
    "    Filter out High Frequencies in a Clip and return the new clip\n",
    "    Note: sound should be an AudioSegment and cutoff is in Hz (default is 8kHz)\n",
    "    \"\"\"\n",
    "    filtered_sound = effects.high_pass_filter(sound,cutoff) \n",
    "    return filtered_sound"
   ]
  },
  {
   "cell_type": "markdown",
   "id": "b342dfae-fb21-4ac8-99d8-c4a02219964d",
   "metadata": {},
   "source": [
    "## Model Training (Spectrograph and CNN)"
   ]
  },
  {
   "cell_type": "code",
   "execution_count": 35,
   "id": "14332e45-e05c-4ea6-9e11-0195c562a33a",
   "metadata": {},
   "outputs": [],
   "source": [
    "def decode_audio(audio_binary):\n",
    "    # Decode WAV-encoded audio files to `float32` tensors, normalized\n",
    "    # to the [-1.0, 1.0] range. Return `float32` audio and a sample rate.\n",
    "    audio, _ = tf.audio.decode_wav(contents=audio_binary,desired_channels=1,)\n",
    "    # Since all the data is single channel (mono), drop the `channels`\n",
    "    # axis from the array.\n",
    "    return tf.squeeze(audio, axis=-1)\n",
    "def get_label(file_path):\n",
    "    parts = tf.strings.split(\n",
    "        input=file_path,\n",
    "        sep=os.path.sep)\n",
    "    # Note: You'll use indexing here instead of tuple unpacking to enable this\n",
    "    # to work in a TensorFlow graph.\n",
    "    return parts[-2]\n",
    "def get_waveform_and_label(file_path):\n",
    "    label = get_label(file_path)\n",
    "    audio_binary = tf.io.read_file(file_path)\n",
    "    waveform = decode_audio(audio_binary)\n",
    "    return waveform, label\n",
    "def get_spectrogram(waveform):\n",
    "    # Zero-padding for an audio waveform with less than 16,000 samples.\n",
    "    input_len = 16000\n",
    "    waveform = waveform[:input_len]\n",
    "    zero_padding = tf.zeros(\n",
    "    [16000] - tf.shape(waveform),\n",
    "    dtype=tf.float32)\n",
    "    # Cast the waveform tensors' dtype to float32.\n",
    "    waveform = tf.cast(waveform, dtype=tf.float32)\n",
    "    # Concatenate the waveform with `zero_padding`, which ensures all audio\n",
    "    # clips are of the same length.\n",
    "    equal_length = tf.concat([waveform, zero_padding], 0)\n",
    "    # Convert the waveform to a spectrogram via a STFT.\n",
    "    spectrogram = tf.signal.stft(\n",
    "    equal_length, frame_length=255, frame_step=128)\n",
    "    # Obtain the magnitude of the STFT.\n",
    "    spectrogram = tf.abs(spectrogram)\n",
    "    # Add a `channels` dimension, so that the spectrogram can be used\n",
    "    # as image-like input data with convolution layers (which expect\n",
    "    # shape (`batch_size`, `height`, `width`, `channels`).\n",
    "    spectrogram = spectrogram[..., tf.newaxis]\n",
    "    return spectrogram\n",
    "def plot_spectrogram(spectrogram, ax):\n",
    "    if len(spectrogram.shape) > 2:\n",
    "        assert len(spectrogram.shape) == 3\n",
    "        spectrogram = np.squeeze(spectrogram, axis=-1)\n",
    "    # Convert the frequencies to log scale and transpose, so that the time is\n",
    "    # represented on the x-axis (columns).\n",
    "    # Add an epsilon to avoid taking a log of zero.\n",
    "    log_spec = np.log(spectrogram.T + np.finfo(float).eps)\n",
    "    height = log_spec.shape[0]\n",
    "    width = log_spec.shape[1]\n",
    "    X = np.linspace(0, np.size(spectrogram), num=width, dtype=int)\n",
    "    Y = range(height)\n",
    "    ax.pcolormesh(X, Y, log_spec)\n",
    "def get_spectrogram_and_label_id(audio, label):\n",
    "    spectrogram = get_spectrogram(audio)\n",
    "    label_id = tf.argmax(label == label_list)\n",
    "    return spectrogram, label_id\n",
    "def preprocess_dataset(files):\n",
    "    files_ds = tf.data.Dataset.from_tensor_slices(files)\n",
    "    output_ds = files_ds.map(\n",
    "        map_func=get_waveform_and_label,\n",
    "        num_parallel_calls=AUTOTUNE)\n",
    "    output_ds = output_ds.map(\n",
    "        map_func=get_spectrogram_and_label_id,\n",
    "        num_parallel_calls=AUTOTUNE)\n",
    "    return output_ds"
   ]
  },
  {
   "cell_type": "code",
   "execution_count": 36,
   "id": "166efdc7-2787-4c28-af62-046b537ab159",
   "metadata": {},
   "outputs": [],
   "source": [
    "# Set the seed value for experiment reproducibility.\n",
    "seed = 1842\n",
    "tf.random.set_seed(seed)\n",
    "np.random.seed(seed)\n",
    "# Turn off warnings for cleaner looking notebook\n",
    "warnings.simplefilter('ignore')"
   ]
  },
  {
   "cell_type": "code",
   "execution_count": 44,
   "id": "a074ffe5-10d1-4915-86db-a3822b807854",
   "metadata": {},
   "outputs": [
    {
     "data": {
      "application/vnd.jupyter.widget-view+json": {
       "model_id": "41bad75610c44c01a0a87ac6a63978f2",
       "version_major": 2,
       "version_minor": 0
      },
      "text/plain": [
       "Loading Clips:   0%|          | 0/40 [00:00<?, ?it/s]"
      ]
     },
     "metadata": {},
     "output_type": "display_data"
    },
    {
     "name": "stdout",
     "output_type": "stream",
     "text": [
      "Number of total examples: 15140\n"
     ]
    }
   ],
   "source": [
    "parsed_clips_dir = \"../datafabric/parsed_clips/train\"\n",
    "label_list = species_list\n",
    "folders = os.listdir(parsed_clips_dir)\n",
    "filenames = tf.io.gfile.glob(str(os.path.join(parsed_clips_dir,folders[0],'*')))\n",
    "for folder in tqdm(folders[1:],desc=\"Loading Clips\"):\n",
    "    filenames_train = tf.io.gfile.glob(str(os.path.join(parsed_clips_dir,folder,'*')))\n",
    "    filenames = tf.concat([filenames, filenames_train], 0)\n",
    "#filenames_Not_Capuchinbird = tf.io.gfile.glob(str(data_dir) + '/Parsed_Not_Capuchinbird_Clips/*')\n",
    "\n",
    "filenames = tf.random.shuffle(filenames)\n",
    "num_samples = len(filenames)\n",
    "print('Number of total examples:', num_samples)"
   ]
  },
  {
   "cell_type": "code",
   "execution_count": 45,
   "id": "9c3de7ac-af8d-4537-ac9b-b6296c613f0a",
   "metadata": {},
   "outputs": [
    {
     "name": "stdout",
     "output_type": "stream",
     "text": [
      "Training set size 12112\n",
      "Validation set size 1514\n",
      "Test set size 1514\n"
     ]
    }
   ],
   "source": [
    "train_split = int(.8*num_samples)\n",
    "val_split = int(.1*num_samples)\n",
    "test_split = num_samples - train_split - val_split\n",
    "train_files = filenames[:train_split]\n",
    "val_files = filenames[train_split: train_split + val_split]\n",
    "test_files = filenames[-1*test_split:]\n",
    "\n",
    "print('Training set size', len(train_files))\n",
    "print('Validation set size', len(val_files))\n",
    "print('Test set size', len(test_files))"
   ]
  },
  {
   "cell_type": "code",
   "execution_count": 46,
   "id": "b8d43528-2d40-448a-869c-cee2da54e719",
   "metadata": {},
   "outputs": [],
   "source": [
    "AUTOTUNE = tf.data.AUTOTUNE\n",
    "\n",
    "files_ds = tf.data.Dataset.from_tensor_slices(train_files)\n",
    "\n",
    "waveform_ds = files_ds.map(\n",
    "    map_func=get_waveform_and_label,\n",
    "    num_parallel_calls=AUTOTUNE)"
   ]
  },
  {
   "cell_type": "code",
   "execution_count": 49,
   "id": "32d48a6b-14b5-463d-885c-ef2f2f471e57",
   "metadata": {},
   "outputs": [],
   "source": [
    "spectrogram_ds = waveform_ds.map(\n",
    "  map_func=get_spectrogram_and_label_id,\n",
    "  num_parallel_calls=AUTOTUNE)"
   ]
  },
  {
   "cell_type": "markdown",
   "id": "f4808ad5-7042-4ac1-a394-30d63dcf0aea",
   "metadata": {},
   "source": [
    "## Train Custom CNN Model"
   ]
  },
  {
   "cell_type": "code",
   "execution_count": 98,
   "id": "940cfde6-ba22-4e8d-b356-704d84735114",
   "metadata": {},
   "outputs": [],
   "source": [
    "train_ds = spectrogram_ds\n",
    "val_ds = preprocess_dataset(val_files)\n",
    "test_ds = preprocess_dataset(test_files)\n",
    "\n",
    "batch_size = 1024\n",
    "train_ds = train_ds.batch(batch_size)\n",
    "val_ds = val_ds.batch(batch_size)\n",
    "\n",
    "train_ds = train_ds.cache().prefetch(AUTOTUNE)\n",
    "val_ds = val_ds.cache().prefetch(AUTOTUNE)"
   ]
  },
  {
   "cell_type": "code",
   "execution_count": 99,
   "id": "d3d92296-d34b-47c0-a482-7d1c66781f1f",
   "metadata": {},
   "outputs": [
    {
     "name": "stdout",
     "output_type": "stream",
     "text": [
      "Input shape: (124, 129, 1)\n",
      "Model: \"sequential_7\"\n",
      "_________________________________________________________________\n",
      " Layer (type)                Output Shape              Param #   \n",
      "=================================================================\n",
      " resizing_7 (Resizing)       (None, 32, 32, 1)         0         \n",
      "                                                                 \n",
      " normalization_9 (Normaliza  (None, 32, 32, 1)         3         \n",
      " tion)                                                           \n",
      "                                                                 \n",
      " conv2d_14 (Conv2D)          (None, 30, 30, 32)        320       \n",
      "                                                                 \n",
      " conv2d_15 (Conv2D)          (None, 28, 28, 64)        18496     \n",
      "                                                                 \n",
      " max_pooling2d_7 (MaxPoolin  (None, 14, 14, 64)        0         \n",
      " g2D)                                                            \n",
      "                                                                 \n",
      " flatten_7 (Flatten)         (None, 12544)             0         \n",
      "                                                                 \n",
      " dropout_14 (Dropout)        (None, 12544)             0         \n",
      "                                                                 \n",
      " dense_14 (Dense)            (None, 128)               1605760   \n",
      "                                                                 \n",
      " dropout_15 (Dropout)        (None, 128)               0         \n",
      "                                                                 \n",
      " dense_15 (Dense)            (None, 41)                5289      \n",
      "                                                                 \n",
      "=================================================================\n",
      "Total params: 1629868 (6.22 MB)\n",
      "Trainable params: 1629865 (6.22 MB)\n",
      "Non-trainable params: 3 (16.00 Byte)\n",
      "_________________________________________________________________\n"
     ]
    }
   ],
   "source": [
    "for spectrogram, _ in spectrogram_ds.take(1):\n",
    "    input_shape = spectrogram.shape\n",
    "print('Input shape:', input_shape)\n",
    "num_labels = len(label_list)\n",
    "\n",
    "# Instantiate the `tf.keras.layers.Normalization` layer.\n",
    "norm_layer = layers.Normalization()\n",
    "# Fit the state of the layer to the spectrograms\n",
    "# with `Normalization.adapt`. using only 10% for speed here.\n",
    "norm_layer.adapt(data=spectrogram_ds.take(val_split).map(map_func=lambda spec, label: spec))\n",
    "\n",
    "cnn_model = models.Sequential([\n",
    "    layers.Input(shape=input_shape),\n",
    "    # Downsample the input.\n",
    "    layers.Resizing(32, 32),\n",
    "    # Normalize.\n",
    "    norm_layer,\n",
    "    layers.Conv2D(32, 3, activation='relu'),\n",
    "    layers.Conv2D(64, 3, activation='relu'),\n",
    "    layers.MaxPooling2D(),\n",
    "    layers.Flatten(),\n",
    "    layers.Dropout(0.25),\n",
    "    layers.Dense(128, activation='relu'),\n",
    "    layers.Dropout(0.5),\n",
    "    layers.Dense(num_labels),\n",
    "])\n",
    "\n",
    "cnn_model.summary()"
   ]
  },
  {
   "cell_type": "code",
   "execution_count": 100,
   "id": "29213b18-4932-46bf-baee-71bc8791933e",
   "metadata": {},
   "outputs": [],
   "source": [
    "cnn_model.compile(\n",
    "    optimizer=tf.keras.optimizers.Adam(),\n",
    "    loss=tf.keras.losses.SparseCategoricalCrossentropy(from_logits=True),\n",
    "    metrics=['accuracy'],\n",
    ")"
   ]
  },
  {
   "cell_type": "markdown",
   "id": "85eb7d82-a9ec-467b-ac49-b6c89d077f20",
   "metadata": {},
   "source": [
    "#### Set up ML FLOW"
   ]
  },
  {
   "cell_type": "code",
   "execution_count": 101,
   "id": "885ab2db-17e8-4c8e-be4c-f9e7061049a6",
   "metadata": {},
   "outputs": [
    {
     "name": "stderr",
     "output_type": "stream",
     "text": [
      "2024/02/21 05:23:47 INFO mlflow.tracking.fluent: Autologging successfully enabled for tensorflow.\n",
      "2024/02/21 05:23:47 INFO mlflow.tracking.fluent: Autologging successfully enabled for statsmodels.\n"
     ]
    }
   ],
   "source": [
    "mlflow.set_experiment(experiment_id=\"961598678667043864\")\n",
    "\n",
    "mlflow.autolog()"
   ]
  },
  {
   "cell_type": "markdown",
   "id": "a0e7d4c7-dad5-425b-bf37-2e1b52bfa22d",
   "metadata": {},
   "source": [
    "#### Set up Tensorboard\n",
    "Optional:\n",
    "\n",
    "```\n",
    "# Clear any logs from previous runs\r\n",
    "rm -rf ./logs/\n",
    "```"
   ]
  },
  {
   "cell_type": "code",
   "execution_count": 102,
   "id": "6e9e3c07-560a-49ff-bffd-79ddaccd8592",
   "metadata": {},
   "outputs": [
    {
     "name": "stdout",
     "output_type": "stream",
     "text": [
      "The tensorboard extension is already loaded. To reload it, use:\n",
      "  %reload_ext tensorboard\n"
     ]
    }
   ],
   "source": [
    "%load_ext tensorboard\n",
    "\n",
    "log_dir = \"/phoenix/tensorboard/tensorlogs/CNN_\" + datetime.datetime.now().strftime(\"%Y%m%d-%H%M%S\")\n",
    "tensorboard_callback = tf.keras.callbacks.TensorBoard(log_dir=log_dir, histogram_freq=1)"
   ]
  },
  {
   "cell_type": "code",
   "execution_count": 103,
   "id": "34db97f3-5fed-4301-9147-a817ae32c61d",
   "metadata": {
    "scrolled": true
   },
   "outputs": [
    {
     "name": "stderr",
     "output_type": "stream",
     "text": [
      "2024/02/21 05:23:48 INFO mlflow.utils.autologging_utils: Created MLflow autologging run with ID 'c35fbce75ada440587668fa4136a3a4f', which will track hyperparameters, performance metrics, model artifacts, and lineage information for the current tensorflow workflow\n"
     ]
    },
    {
     "name": "stdout",
     "output_type": "stream",
     "text": [
      "Epoch 1/100\n",
      " 6/12 [==============>...............] - ETA: 0s - loss: 3.5072 - accuracy: 0.0809WARNING:tensorflow:Callback method `on_train_batch_end` is slow compared to the batch time (batch time: 0.0626s vs `on_train_batch_end` time: 0.0749s). Check your callbacks.\n"
     ]
    },
    {
     "name": "stderr",
     "output_type": "stream",
     "text": [
      "WARNING:tensorflow:Callback method `on_train_batch_end` is slow compared to the batch time (batch time: 0.0626s vs `on_train_batch_end` time: 0.0749s). Check your callbacks.\n"
     ]
    },
    {
     "name": "stdout",
     "output_type": "stream",
     "text": [
      "12/12 [==============================] - 4s 200ms/step - loss: 3.3702 - accuracy: 0.0926 - val_loss: 3.0522 - val_accuracy: 0.1427\n",
      "Epoch 2/100\n",
      "12/12 [==============================] - 2s 190ms/step - loss: 3.0603 - accuracy: 0.1352 - val_loss: 2.8519 - val_accuracy: 0.1764\n",
      "Epoch 3/100\n",
      "12/12 [==============================] - 2s 182ms/step - loss: 2.9106 - accuracy: 0.1738 - val_loss: 2.7171 - val_accuracy: 0.2292\n",
      "Epoch 4/100\n",
      "12/12 [==============================] - 2s 184ms/step - loss: 2.7763 - accuracy: 0.2104 - val_loss: 2.6186 - val_accuracy: 0.2814\n",
      "Epoch 5/100\n",
      "12/12 [==============================] - 2s 180ms/step - loss: 2.6846 - accuracy: 0.2373 - val_loss: 2.5349 - val_accuracy: 0.3012\n",
      "Epoch 6/100\n",
      "12/12 [==============================] - 2s 189ms/step - loss: 2.5874 - accuracy: 0.2588 - val_loss: 2.4572 - val_accuracy: 0.3283\n",
      "Epoch 7/100\n",
      "12/12 [==============================] - 2s 188ms/step - loss: 2.4984 - accuracy: 0.2820 - val_loss: 2.3987 - val_accuracy: 0.3421\n",
      "Epoch 8/100\n",
      "12/12 [==============================] - 2s 176ms/step - loss: 2.4505 - accuracy: 0.2966 - val_loss: 2.3485 - val_accuracy: 0.3428\n",
      "Epoch 9/100\n",
      "12/12 [==============================] - 2s 183ms/step - loss: 2.3961 - accuracy: 0.3085 - val_loss: 2.3060 - val_accuracy: 0.3567\n",
      "Epoch 10/100\n",
      "12/12 [==============================] - 2s 191ms/step - loss: 2.3402 - accuracy: 0.3257 - val_loss: 2.2642 - val_accuracy: 0.3547\n",
      "Epoch 11/100\n",
      "12/12 [==============================] - 2s 177ms/step - loss: 2.2883 - accuracy: 0.3441 - val_loss: 2.2502 - val_accuracy: 0.3653\n",
      "Epoch 12/100\n",
      "12/12 [==============================] - 2s 191ms/step - loss: 2.2466 - accuracy: 0.3523 - val_loss: 2.2043 - val_accuracy: 0.3785\n",
      "Epoch 13/100\n",
      "12/12 [==============================] - 2s 187ms/step - loss: 2.1927 - accuracy: 0.3678 - val_loss: 2.1652 - val_accuracy: 0.3890\n",
      "Epoch 14/100\n",
      "12/12 [==============================] - 2s 180ms/step - loss: 2.1593 - accuracy: 0.3788 - val_loss: 2.1429 - val_accuracy: 0.3963\n",
      "Epoch 15/100\n",
      "12/12 [==============================] - 2s 189ms/step - loss: 2.1251 - accuracy: 0.3837 - val_loss: 2.1214 - val_accuracy: 0.3904\n",
      "Epoch 16/100\n",
      "12/12 [==============================] - 2s 185ms/step - loss: 2.0887 - accuracy: 0.3879 - val_loss: 2.1083 - val_accuracy: 0.4022\n",
      "Epoch 17/100\n",
      "12/12 [==============================] - 2s 188ms/step - loss: 2.0446 - accuracy: 0.4007 - val_loss: 2.0902 - val_accuracy: 0.3956\n",
      "Epoch 18/100\n",
      "12/12 [==============================] - 2s 188ms/step - loss: 2.0162 - accuracy: 0.4038 - val_loss: 2.0774 - val_accuracy: 0.4055\n",
      "Epoch 19/100\n",
      "12/12 [==============================] - 2s 182ms/step - loss: 1.9914 - accuracy: 0.4192 - val_loss: 2.0658 - val_accuracy: 0.4049\n",
      "Epoch 20/100\n",
      "12/12 [==============================] - 2s 181ms/step - loss: 1.9624 - accuracy: 0.4196 - val_loss: 2.0430 - val_accuracy: 0.4128\n",
      "Epoch 21/100\n",
      "12/12 [==============================] - 2s 184ms/step - loss: 1.9362 - accuracy: 0.4317 - val_loss: 2.0459 - val_accuracy: 0.4148\n",
      "Epoch 22/100\n",
      "12/12 [==============================] - 2s 186ms/step - loss: 1.9215 - accuracy: 0.4382 - val_loss: 2.0274 - val_accuracy: 0.4141\n",
      "Epoch 23/100\n",
      "12/12 [==============================] - 2s 190ms/step - loss: 1.8901 - accuracy: 0.4434 - val_loss: 2.0386 - val_accuracy: 0.4194\n",
      "Epoch 24/100\n",
      "12/12 [==============================] - 2s 190ms/step - loss: 1.8724 - accuracy: 0.4450 - val_loss: 2.0194 - val_accuracy: 0.4254\n",
      "Epoch 25/100\n",
      "12/12 [==============================] - 2s 176ms/step - loss: 1.8499 - accuracy: 0.4522 - val_loss: 1.9988 - val_accuracy: 0.4254\n",
      "Epoch 26/100\n",
      "12/12 [==============================] - 2s 188ms/step - loss: 1.8144 - accuracy: 0.4629 - val_loss: 1.9867 - val_accuracy: 0.4359\n",
      "Epoch 27/100\n",
      "12/12 [==============================] - 2s 189ms/step - loss: 1.8010 - accuracy: 0.4644 - val_loss: 1.9839 - val_accuracy: 0.4280\n",
      "Epoch 28/100\n",
      "12/12 [==============================] - 2s 186ms/step - loss: 1.7817 - accuracy: 0.4742 - val_loss: 1.9781 - val_accuracy: 0.4366\n",
      "Epoch 29/100\n",
      "12/12 [==============================] - 2s 187ms/step - loss: 1.7583 - accuracy: 0.4732 - val_loss: 1.9912 - val_accuracy: 0.4366\n",
      "Epoch 30/100\n",
      "12/12 [==============================] - 2s 189ms/step - loss: 1.7482 - accuracy: 0.4792 - val_loss: 1.9661 - val_accuracy: 0.4386\n",
      "Epoch 31/100\n",
      "12/12 [==============================] - 2s 187ms/step - loss: 1.7276 - accuracy: 0.4827 - val_loss: 1.9652 - val_accuracy: 0.4445\n",
      "Epoch 32/100\n",
      "12/12 [==============================] - 2s 190ms/step - loss: 1.6938 - accuracy: 0.4961 - val_loss: 1.9617 - val_accuracy: 0.4392\n",
      "Epoch 33/100\n",
      "12/12 [==============================] - 2s 181ms/step - loss: 1.6769 - accuracy: 0.4956 - val_loss: 1.9638 - val_accuracy: 0.4359\n",
      "Epoch 34/100\n",
      "12/12 [==============================] - 2s 193ms/step - loss: 1.6749 - accuracy: 0.5006 - val_loss: 1.9440 - val_accuracy: 0.4465\n",
      "Epoch 35/100\n",
      "12/12 [==============================] - 2s 188ms/step - loss: 1.6398 - accuracy: 0.5110 - val_loss: 1.9474 - val_accuracy: 0.4445\n",
      "Epoch 36/100\n",
      "12/12 [==============================] - 2s 180ms/step - loss: 1.6176 - accuracy: 0.5125 - val_loss: 1.9410 - val_accuracy: 0.4491\n",
      "Epoch 37/100\n",
      "12/12 [==============================] - 2s 185ms/step - loss: 1.6072 - accuracy: 0.5212 - val_loss: 1.9363 - val_accuracy: 0.4478\n",
      "Epoch 38/100\n",
      "12/12 [==============================] - 2s 184ms/step - loss: 1.6050 - accuracy: 0.5180 - val_loss: 1.9364 - val_accuracy: 0.4551\n",
      "Epoch 39/100\n",
      "12/12 [==============================] - 2s 175ms/step - loss: 1.5861 - accuracy: 0.5231 - val_loss: 1.9403 - val_accuracy: 0.4524\n",
      "Epoch 40/100\n",
      "12/12 [==============================] - 2s 183ms/step - loss: 1.5581 - accuracy: 0.5309 - val_loss: 1.9389 - val_accuracy: 0.4511\n",
      "Epoch 41/100\n",
      "12/12 [==============================] - 2s 188ms/step - loss: 1.5473 - accuracy: 0.5315 - val_loss: 1.9378 - val_accuracy: 0.4564\n",
      "Epoch 42/100\n",
      "12/12 [==============================] - 2s 189ms/step - loss: 1.5349 - accuracy: 0.5396 - val_loss: 1.9227 - val_accuracy: 0.4637\n",
      "Epoch 43/100\n",
      "12/12 [==============================] - 2s 183ms/step - loss: 1.5067 - accuracy: 0.5429 - val_loss: 1.9400 - val_accuracy: 0.4696\n",
      "Epoch 44/100\n",
      "12/12 [==============================] - 2s 189ms/step - loss: 1.5039 - accuracy: 0.5478 - val_loss: 1.9352 - val_accuracy: 0.4657\n",
      "Epoch 45/100\n",
      "12/12 [==============================] - 2s 188ms/step - loss: 1.4884 - accuracy: 0.5501 - val_loss: 1.9479 - val_accuracy: 0.4637\n",
      "Epoch 46/100\n",
      "12/12 [==============================] - 2s 190ms/step - loss: 1.4714 - accuracy: 0.5569 - val_loss: 1.9425 - val_accuracy: 0.4657\n",
      "Epoch 47/100\n",
      "12/12 [==============================] - 2s 179ms/step - loss: 1.4584 - accuracy: 0.5627 - val_loss: 1.9124 - val_accuracy: 0.4709\n",
      "Epoch 48/100\n",
      "12/12 [==============================] - 2s 188ms/step - loss: 1.4385 - accuracy: 0.5578 - val_loss: 1.9437 - val_accuracy: 0.4630\n",
      "Epoch 49/100\n",
      "12/12 [==============================] - 2s 185ms/step - loss: 1.4222 - accuracy: 0.5699 - val_loss: 1.9367 - val_accuracy: 0.4709\n",
      "Epoch 50/100\n",
      "12/12 [==============================] - 2s 181ms/step - loss: 1.4026 - accuracy: 0.5725 - val_loss: 1.9518 - val_accuracy: 0.4690\n",
      "Epoch 51/100\n",
      "12/12 [==============================] - 2s 188ms/step - loss: 1.3894 - accuracy: 0.5770 - val_loss: 1.9346 - val_accuracy: 0.4729\n",
      "Epoch 52/100\n",
      "12/12 [==============================] - ETA: 0s - loss: 1.3855 - accuracy: 0.5779Restoring model weights from the end of the best epoch: 47.\n",
      "12/12 [==============================] - 2s 185ms/step - loss: 1.3855 - accuracy: 0.5779 - val_loss: 1.9278 - val_accuracy: 0.4716\n",
      "Epoch 52: early stopping\n",
      "1/1 [==============================] - 0s 63ms/step\n",
      "INFO:tensorflow:Assets written to: /tmp/tmpa9qwjlg8/model/data/model/assets\n"
     ]
    },
    {
     "name": "stderr",
     "output_type": "stream",
     "text": [
      "INFO:tensorflow:Assets written to: /tmp/tmpa9qwjlg8/model/data/model/assets\n"
     ]
    }
   ],
   "source": [
    "EPOCHS = 100\n",
    "history = cnn_model.fit(\n",
    "    train_ds,\n",
    "    validation_data=val_ds,\n",
    "    epochs=EPOCHS,\n",
    "    callbacks=[tf.keras.callbacks.EarlyStopping(verbose=1, \n",
    "                                               patience=5,\n",
    "                                               monitor='val_loss',\n",
    "                                               restore_best_weights=True\n",
    "                                              ),\n",
    "              tensorboard_callback],\n",
    ")"
   ]
  },
  {
   "cell_type": "code",
   "execution_count": 104,
   "id": "c2a3a518-1267-4250-8d19-fe7c981964a4",
   "metadata": {},
   "outputs": [
    {
     "name": "stdout",
     "output_type": "stream",
     "text": [
      "48/48 [==============================] - 0s 5ms/step\n",
      "Test set accuracy: 50%\n"
     ]
    }
   ],
   "source": [
    "test_audio = []\n",
    "test_labels = []\n",
    "\n",
    "for audio, label in test_ds:\n",
    "    test_audio.append(audio.numpy())\n",
    "    test_labels.append(label.numpy())\n",
    "\n",
    "test_audio = np.array(test_audio)\n",
    "test_labels = np.array(test_labels)\n",
    "\n",
    "y_pred = np.argmax(cnn_model.predict(test_audio), axis=1)\n",
    "y_true = test_labels\n",
    "\n",
    "test_acc = sum(y_pred == y_true) / len(y_true)\n",
    "print(f'Test set accuracy: {test_acc:.0%}')"
   ]
  },
  {
   "cell_type": "code",
   "execution_count": 105,
   "id": "6e26fee9-3bd7-486e-a76b-3bbfbc7ae41a",
   "metadata": {},
   "outputs": [
    {
     "data": {
      "image/png": "[encoded data removed]",
      "text/plain": [
       "<Figure size 1000x800 with 2 Axes>"
      ]
     },
     "metadata": {},
     "output_type": "display_data"
    }
   ],
   "source": [
    "confusion_mtx = tf.math.confusion_matrix(y_true, y_pred)\n",
    "plt.figure(figsize=(10, 8))\n",
    "sns.heatmap(confusion_mtx,\n",
    "            xticklabels=label_list,\n",
    "            yticklabels=label_list,\n",
    "            annot=True, fmt='g')\n",
    "plt.xlabel('Prediction')\n",
    "plt.ylabel('Label')\n",
    "plt.show()"
   ]
  },
  {
   "cell_type": "markdown",
   "id": "3f551a7b-b09f-441c-bbf2-1f60b402dbeb",
   "metadata": {},
   "source": [
    "## Finetune YAMNet"
   ]
  },
  {
   "cell_type": "code",
   "execution_count": 124,
   "id": "89430439-9e40-46e6-ac65-edfebb9f8ccc",
   "metadata": {},
   "outputs": [],
   "source": [
    "@tf.function\n",
    "def load_wav_16k_mono(filename):\n",
    "    \"\"\" Load a WAV file, convert it to a float tensor, resample to 16 kHz single-channel audio. \"\"\"\n",
    "    file_contents = tf.io.read_file(filename)\n",
    "    wav, sample_rate = tf.audio.decode_wav(\n",
    "          file_contents,\n",
    "          desired_channels=1)\n",
    "    wav = tf.squeeze(wav, axis=-1)\n",
    "    sample_rate = tf.cast(sample_rate, dtype=tf.int64)\n",
    "    wav = tfio.audio.resample(wav, rate_in=sample_rate, rate_out=16000)\n",
    "    return wav\n",
    "def load_wav_for_map(filename, label):\n",
    "    return load_wav_16k_mono(filename), label\n",
    "def extract_embedding(wav_data, label):\n",
    "    \"\"\" run YAMNet to extract embedding from the wav data \"\"\"\n",
    "    scores, embeddings, spectrogram = yamnet_model(wav_data)\n",
    "    num_embeddings = tf.shape(embeddings)[0]\n",
    "    return (embeddings,\n",
    "            tf.repeat(label, num_embeddings)\n",
    "           )\n",
    "def get_dataset_partitions_tf(ds, ds_size, train_split=0.8, val_split=0.1, test_split=0.1, shuffle=True, shuffle_size=10000):\n",
    "    \"\"\" Split Train, Test and Validation Datasets out of Dataframe \"\"\"\n",
    "    assert (train_split + test_split + val_split) == 1\n",
    "    \n",
    "    if shuffle:\n",
    "        # Specify seed to always have the same split distribution between runs\n",
    "        ds = ds.shuffle(shuffle_size, seed=1842)\n",
    "    \n",
    "    train_size = int(train_split * ds_size)\n",
    "    val_size = int(val_split * ds_size)\n",
    "    \n",
    "    train_ds = ds.take(train_size)    \n",
    "    val_ds = ds.skip(train_size).take(val_size)\n",
    "    test_ds = ds.skip(train_size).skip(val_size)\n",
    "    \n",
    "    return train_ds, val_ds, test_ds\n",
    "# Filter out Annoying Tensorflow Warnings\n",
    "tf.get_logger().setLevel('ERROR')"
   ]
  },
  {
   "cell_type": "markdown",
   "id": "03a51bab-b104-46c2-a6c7-ddaec8aea46d",
   "metadata": {},
   "source": [
    "### Download YAMNet Model"
   ]
  },
  {
   "cell_type": "code",
   "execution_count": 116,
   "id": "8b7d7791-be08-4035-8f54-7d5fcf721fdb",
   "metadata": {},
   "outputs": [],
   "source": [
    "yamnet_model_handle = 'https://tfhub.dev/google/yamnet/1'\n",
    "yamnet_model = hub.load(yamnet_model_handle)"
   ]
  },
  {
   "cell_type": "markdown",
   "id": "5c11eefd-8ef5-447a-9cfb-82a17d5c7be9",
   "metadata": {},
   "source": [
    "### Build Training Set"
   ]
  },
  {
   "cell_type": "code",
   "execution_count": 117,
   "id": "4f884f25-c865-4132-ba79-56e024b3e2cb",
   "metadata": {},
   "outputs": [
    {
     "data": {
      "application/vnd.jupyter.widget-view+json": {
       "model_id": "53d98bb3e1934f69b5ede19621f8b1fc",
       "version_major": 2,
       "version_minor": 0
      },
      "text/plain": [
       "Loading Clips:   0%|          | 0/41 [00:00<?, ?it/s]"
      ]
     },
     "metadata": {},
     "output_type": "display_data"
    }
   ],
   "source": [
    "parsed_clips_dir = \"../datafabric/parsed_clips/train\"\n",
    "label_list = species_list\n",
    "dataset_df = pd.DataFrame()\n",
    "for folder in tqdm(os.listdir(parsed_clips_dir),desc=\"Loading Clips\"):\n",
    "    species_filepath_list = []\n",
    "    for file in os.listdir(os.path.join(parsed_clips_dir,folder)):\n",
    "        if file.endswith('.wav'):\n",
    "            species_filepath_list.append(os.path.join(parsed_clips_dir,folder,file))\n",
    "    species_df = pd.DataFrame({\"filename\":species_filepath_list,\"target\":np.argmax(folder == label_list)})\n",
    "    dataset_df = pd.concat([dataset_df,species_df],axis=0,ignore_index=True)"
   ]
  },
  {
   "cell_type": "code",
   "execution_count": 129,
   "id": "a79e4817-226d-420c-a2f4-009da27ec49e",
   "metadata": {},
   "outputs": [
    {
     "name": "stderr",
     "output_type": "stream",
     "text": [
      "2024-02-21 05:54:20.577304: I tensorflow_io/core/kernels/cpu_check.cc:128] Your CPU supports instructions that this TensorFlow IO binary was not compiled to use: AVX AVX2 FMA\n"
     ]
    },
    {
     "data": {
      "text/plain": [
       "(TensorSpec(shape=<unknown>, dtype=tf.float32, name=None),\n",
       " TensorSpec(shape=(), dtype=tf.int64, name=None))"
      ]
     },
     "execution_count": 129,
     "metadata": {},
     "output_type": "execute_result"
    }
   ],
   "source": [
    "main_ds = tf.data.Dataset.from_tensor_slices((dataset_df[\"filename\"], dataset_df[\"target\"]))\n",
    "main_ds = main_ds.map(load_wav_for_map)\n",
    "main_ds.element_spec"
   ]
  },
  {
   "cell_type": "code",
   "execution_count": 130,
   "id": "d5425943-eb48-4653-8d72-ae8a4b9627d5",
   "metadata": {},
   "outputs": [
    {
     "data": {
      "text/plain": [
       "(TensorSpec(shape=(1024,), dtype=tf.float32, name=None),\n",
       " TensorSpec(shape=(), dtype=tf.int64, name=None))"
      ]
     },
     "execution_count": 130,
     "metadata": {},
     "output_type": "execute_result"
    }
   ],
   "source": [
    "# extract embedding\n",
    "main_ds = main_ds.map(extract_embedding).unbatch()\n",
    "main_ds.element_spec"
   ]
  },
  {
   "cell_type": "code",
   "execution_count": 132,
   "id": "b455e246-edca-418c-847d-e5b5cbdf34c9",
   "metadata": {},
   "outputs": [],
   "source": [
    "train_ds, val_ds, test_ds = get_dataset_partitions_tf(main_ds,len(dataset_df))\n",
    "\n",
    "train_ds = train_ds.cache().shuffle(1000).batch(512).prefetch(tf.data.AUTOTUNE)\n",
    "val_ds = val_ds.cache().batch(512).prefetch(tf.data.AUTOTUNE)\n",
    "test_ds = test_ds.cache().batch(512).prefetch(tf.data.AUTOTUNE)"
   ]
  },
  {
   "cell_type": "markdown",
   "id": "9dd9bd58-59c7-4f7a-a015-e848f7dc5955",
   "metadata": {},
   "source": [
    "#### Build Model "
   ]
  },
  {
   "cell_type": "code",
   "execution_count": 136,
   "id": "f596609b-084e-442c-89c2-d9bdaf6561e1",
   "metadata": {},
   "outputs": [
    {
     "name": "stdout",
     "output_type": "stream",
     "text": [
      "Model: \"yamnet_transfer_learning_model\"\n",
      "_________________________________________________________________\n",
      " Layer (type)                Output Shape              Param #   \n",
      "=================================================================\n",
      " dense_18 (Dense)            (None, 512)               524800    \n",
      "                                                                 \n",
      " dense_19 (Dense)            (None, 41)                21033     \n",
      "                                                                 \n",
      "=================================================================\n",
      "Total params: 545833 (2.08 MB)\n",
      "Trainable params: 545833 (2.08 MB)\n",
      "Non-trainable params: 0 (0.00 Byte)\n",
      "_________________________________________________________________\n"
     ]
    }
   ],
   "source": [
    "yamnet_transfer_learning_model = tf.keras.Sequential([\n",
    "    tf.keras.layers.Input(shape=(1024), dtype=tf.float32,\n",
    "                          name='input_embedding'),\n",
    "    tf.keras.layers.Dense(512, activation='relu'),\n",
    "    tf.keras.layers.Dense(num_labels)\n",
    "], name='yamnet_transfer_learning_model')\n",
    "\n",
    "yamnet_transfer_learning_model.summary()"
   ]
  },
  {
   "cell_type": "code",
   "execution_count": 137,
   "id": "58c9c163-ae04-4911-8702-abe6b2474156",
   "metadata": {},
   "outputs": [
    {
     "name": "stdout",
     "output_type": "stream",
     "text": [
      "The tensorboard extension is already loaded. To reload it, use:\n",
      "  %reload_ext tensorboard\n"
     ]
    }
   ],
   "source": [
    "yamnet_transfer_learning_model.compile(loss=tf.keras.losses.SparseCategoricalCrossentropy(from_logits=True),\n",
    "                 optimizer=\"adam\",\n",
    "                 metrics=['accuracy'])\n",
    "\n",
    "%load_ext tensorboard\n",
    "\n",
    "log_dir = \"/phoenix/tensorboard/tensorlogs/YAMNet_\" + datetime.datetime.now().strftime(\"%Y%m%d-%H%M%S\")\n",
    "\n",
    "callbacks = [tf.keras.callbacks.EarlyStopping(monitor='val_loss',\n",
    "                                            patience=3,\n",
    "                                            restore_best_weights=True),\n",
    "            tf.keras.callbacks.TensorBoard(log_dir=log_dir, histogram_freq=1)\n",
    "            ]"
   ]
  },
  {
   "cell_type": "code",
   "execution_count": 138,
   "id": "f7baaf6d-0cc8-435b-aba8-04d19a2dd3b5",
   "metadata": {},
   "outputs": [
    {
     "name": "stderr",
     "output_type": "stream",
     "text": [
      "2024/02/21 06:04:14 INFO mlflow.tracking.fluent: Autologging successfully enabled for tensorflow.\n",
      "2024/02/21 06:04:14 INFO mlflow.tracking.fluent: Autologging successfully enabled for statsmodels.\n"
     ]
    }
   ],
   "source": [
    "mlflow.set_experiment(experiment_id=\"961598678667043864\")\n",
    "\n",
    "mlflow.autolog()"
   ]
  },
  {
   "cell_type": "code",
   "execution_count": 139,
   "id": "9999fb6a-ee96-4b46-8794-2837eb3934dd",
   "metadata": {},
   "outputs": [
    {
     "name": "stderr",
     "output_type": "stream",
     "text": [
      "2024/02/21 06:04:16 INFO mlflow.utils.autologging_utils: Created MLflow autologging run with ID '0d7b9dfbd3a24e74b74e23fa9af071f1', which will track hyperparameters, performance metrics, model artifacts, and lineage information for the current tensorflow workflow\n"
     ]
    },
    {
     "name": "stdout",
     "output_type": "stream",
     "text": [
      "Epoch 1/20\n",
      "    372/Unknown - 3s 6ms/step - loss: 0.0260 - accuracy: 0.9976"
     ]
    },
    {
     "name": "stderr",
     "output_type": "stream",
     "text": [
      "2024-02-21 06:04:23.119742: I tensorflow/core/framework/local_rendezvous.cc:405] Local rendezvous recv item cancelled. Key hash: 18048721228155589748\n",
      "2024-02-21 06:04:23.119835: I tensorflow/core/framework/local_rendezvous.cc:405] Local rendezvous recv item cancelled. Key hash: 14352887614049553868\n"
     ]
    },
    {
     "name": "stdout",
     "output_type": "stream",
     "text": [
      "379/379 [==============================] - 4s 8ms/step - loss: 0.0255 - accuracy: 0.9976 - val_loss: 1.0231e-05 - val_accuracy: 1.0000\n",
      "Epoch 2/20\n",
      "379/379 [==============================] - 3s 7ms/step - loss: 5.6002e-06 - accuracy: 1.0000 - val_loss: 1.7290e-06 - val_accuracy: 1.0000\n",
      "Epoch 3/20\n",
      "379/379 [==============================] - 3s 7ms/step - loss: 1.4027e-06 - accuracy: 1.0000 - val_loss: 6.0493e-07 - val_accuracy: 1.0000\n",
      "Epoch 4/20\n",
      "379/379 [==============================] - 3s 8ms/step - loss: 6.1868e-07 - accuracy: 1.0000 - val_loss: 2.9258e-07 - val_accuracy: 1.0000\n",
      "Epoch 5/20\n",
      "379/379 [==============================] - 3s 7ms/step - loss: 3.4434e-07 - accuracy: 1.0000 - val_loss: 1.6928e-07 - val_accuracy: 1.0000\n",
      "Epoch 6/20\n",
      "379/379 [==============================] - 3s 8ms/step - loss: 2.1597e-07 - accuracy: 1.0000 - val_loss: 1.0385e-07 - val_accuracy: 1.0000\n",
      "Epoch 7/20\n",
      "379/379 [==============================] - 3s 7ms/step - loss: 1.4688e-07 - accuracy: 1.0000 - val_loss: 6.9604e-08 - val_accuracy: 1.0000\n",
      "Epoch 8/20\n",
      "379/379 [==============================] - 3s 8ms/step - loss: 1.0396e-07 - accuracy: 1.0000 - val_loss: 4.7636e-08 - val_accuracy: 1.0000\n",
      "Epoch 9/20\n",
      "379/379 [==============================] - 3s 8ms/step - loss: 7.7093e-08 - accuracy: 1.0000 - val_loss: 3.4645e-08 - val_accuracy: 1.0000\n",
      "Epoch 10/20\n",
      "379/379 [==============================] - 3s 9ms/step - loss: 5.8256e-08 - accuracy: 1.0000 - val_loss: 2.6298e-08 - val_accuracy: 1.0000\n",
      "Epoch 11/20\n",
      "379/379 [==============================] - 3s 7ms/step - loss: 4.4733e-08 - accuracy: 1.0000 - val_loss: 1.9212e-08 - val_accuracy: 1.0000\n",
      "Epoch 12/20\n",
      "379/379 [==============================] - 3s 7ms/step - loss: 3.4989e-08 - accuracy: 1.0000 - val_loss: 1.4724e-08 - val_accuracy: 1.0000\n",
      "Epoch 13/20\n",
      "379/379 [==============================] - 3s 8ms/step - loss: 2.7558e-08 - accuracy: 1.0000 - val_loss: 1.0787e-08 - val_accuracy: 1.0000\n",
      "Epoch 14/20\n",
      "379/379 [==============================] - 3s 7ms/step - loss: 2.1909e-08 - accuracy: 1.0000 - val_loss: 8.1887e-09 - val_accuracy: 1.0000\n",
      "Epoch 15/20\n",
      "379/379 [==============================] - 3s 7ms/step - loss: 1.8041e-08 - accuracy: 1.0000 - val_loss: 6.2990e-09 - val_accuracy: 1.0000\n",
      "Epoch 16/20\n",
      "379/379 [==============================] - 3s 8ms/step - loss: 1.4793e-08 - accuracy: 1.0000 - val_loss: 5.0392e-09 - val_accuracy: 1.0000\n",
      "Epoch 17/20\n",
      "379/379 [==============================] - 3s 7ms/step - loss: 1.2194e-08 - accuracy: 1.0000 - val_loss: 4.0944e-09 - val_accuracy: 1.0000\n",
      "Epoch 18/20\n",
      "379/379 [==============================] - 3s 8ms/step - loss: 1.0049e-08 - accuracy: 1.0000 - val_loss: 3.5432e-09 - val_accuracy: 1.0000\n",
      "Epoch 19/20\n",
      "379/379 [==============================] - 3s 8ms/step - loss: 8.1297e-09 - accuracy: 1.0000 - val_loss: 2.7558e-09 - val_accuracy: 1.0000\n",
      "Epoch 20/20\n",
      "379/379 [==============================] - 3s 7ms/step - loss: 6.8600e-09 - accuracy: 1.0000 - val_loss: 2.4409e-09 - val_accuracy: 1.0000\n",
      "1/1 [==============================] - 0s 38ms/step\n"
     ]
    }
   ],
   "source": [
    "history = yamnet_transfer_learning_model.fit(train_ds,\n",
    "                       epochs=20,\n",
    "                       validation_data=val_ds,\n",
    "                       callbacks=callbacks)\n"
   ]
  },
  {
   "cell_type": "code",
   "execution_count": null,
   "id": "2546d832-0570-4ca2-a5b1-9c7ff5f4018c",
   "metadata": {},
   "outputs": [],
   "source": []
  }
 ],
 "metadata": {
  "kernelspec": {
   "display_name": "Python 3 (ipykernel)",
   "language": "python",
   "name": "python3"
  },
  "language_info": {
   "codemirror_mode": {
    "name": "ipython",
    "version": 3
   },
   "file_extension": ".py",
   "mimetype": "text/x-python",
   "name": "python",
   "nbconvert_exporter": "python",
   "pygments_lexer": "ipython3",
   "version": "3.10.11"
  }
 },
 "nbformat": 4,
 "nbformat_minor": 5
}
