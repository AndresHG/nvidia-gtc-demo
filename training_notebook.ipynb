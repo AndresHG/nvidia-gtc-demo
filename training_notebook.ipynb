{
 "cells": [
  {
   "cell_type": "code",
   "execution_count": null,
   "id": "f1ef0024-da85-4631-bd40-ebc1a58955d8",
   "metadata": {},
   "outputs": [],
   "source": [
    "#TODO: Consider adding most commonly confused birds\n",
    "#TODO: Add More Interactive sound/graphs\n",
    "#TODO: Consider adding more finetuning models\n",
    "#TODO: Consider using best model to create better training clips (start and end when the bird call happening)\n",
    "#TODO: Add Call counting like Unlocked Model"
   ]
  },
  {
   "cell_type": "code",
   "execution_count": 1,
   "id": "2fcb5af2-4489-4208-8c0a-964fa873ef0b",
   "metadata": {},
   "outputs": [
    {
     "name": "stdout",
     "output_type": "stream",
     "text": [
      "Collecting tensorflow_hub\n",
      "  Downloading tensorflow_hub-0.16.1-py2.py3-none-any.whl.metadata (1.3 kB)\n",
      "Collecting tensorflow_io==0.34.0\n",
      "  Downloading tensorflow_io-0.34.0-cp310-cp310-manylinux_2_12_x86_64.manylinux2010_x86_64.whl.metadata (14 kB)\n",
      "Collecting pydub\n",
      "  Downloading pydub-0.25.1-py2.py3-none-any.whl (32 kB)\n",
      "Requirement already satisfied: tqdm in /opt/conda/lib/python3.10/site-packages (4.66.1)\n",
      "Requirement already satisfied: tensorflow-io-gcs-filesystem==0.34.0 in /opt/conda/lib/python3.10/site-packages (from tensorflow_io==0.34.0) (0.34.0)\n",
      "Requirement already satisfied: numpy>=1.12.0 in /opt/conda/lib/python3.10/site-packages (from tensorflow_hub) (1.24.3)\n",
      "Requirement already satisfied: protobuf>=3.19.6 in /opt/conda/lib/python3.10/site-packages (from tensorflow_hub) (4.25.1)\n",
      "Collecting tf-keras>=2.14.1 (from tensorflow_hub)\n",
      "  Downloading tf_keras-2.15.0-py3-none-any.whl.metadata (1.6 kB)\n",
      "Downloading tensorflow_io-0.34.0-cp310-cp310-manylinux_2_12_x86_64.manylinux2010_x86_64.whl (28.8 MB)\n",
      "\u001b[2K   \u001b[90m━━━━━━━━━━━━━━━━━━━━━━━━━━━━━━━━━━━━━━━━\u001b[0m \u001b[32m28.8/28.8 MB\u001b[0m \u001b[31m37.2 MB/s\u001b[0m eta \u001b[36m0:00:00\u001b[0m00:01\u001b[0m00:01\u001b[0m\n",
      "\u001b[?25hDownloading tensorflow_hub-0.16.1-py2.py3-none-any.whl (30 kB)\n",
      "Downloading tf_keras-2.15.0-py3-none-any.whl (1.7 MB)\n",
      "\u001b[2K   \u001b[90m━━━━━━━━━━━━━━━━━━━━━━━━━━━━━━━━━━━━━━━━\u001b[0m \u001b[32m1.7/1.7 MB\u001b[0m \u001b[31m37.9 MB/s\u001b[0m eta \u001b[36m0:00:00\u001b[0ma \u001b[36m0:00:01\u001b[0m\n",
      "\u001b[?25hInstalling collected packages: pydub, tf-keras, tensorflow_io, tensorflow_hub\n",
      "Successfully installed pydub-0.25.1 tensorflow_hub-0.16.1 tensorflow_io-0.34.0 tf-keras-2.15.0\n",
      "\u001b[33mWARNING: Running pip as the 'root' user can result in broken permissions and conflicting behaviour with the system package manager. It is recommended to use a virtual environment instead: https://pip.pypa.io/warnings/venv\u001b[0m\u001b[33m\n",
      "\u001b[0m"
     ]
    }
   ],
   "source": [
    "!pip install tensorflow_hub tensorflow_io==\"0.34.0\" pydub tqdm"
   ]
  },
  {
   "cell_type": "code",
   "execution_count": 2,
   "id": "da1b6ecc-9af4-40a3-b3c4-44998320904a",
   "metadata": {},
   "outputs": [
    {
     "name": "stderr",
     "output_type": "stream",
     "text": [
      "2024-02-21 06:23:22.225327: I tensorflow/core/util/port.cc:110] oneDNN custom operations are on. You may see slightly different numerical results due to floating-point round-off errors from different computation orders. To turn them off, set the environment variable `TF_ENABLE_ONEDNN_OPTS=0`.\n",
      "2024-02-21 06:23:22.266428: I tensorflow/core/platform/cpu_feature_guard.cc:182] This TensorFlow binary is optimized to use available CPU instructions in performance-critical operations.\n",
      "To enable the following instructions: AVX2 AVX_VNNI FMA, in other operations, rebuild TensorFlow with the appropriate compiler flags.\n",
      "2024-02-21 06:23:22.889190: W tensorflow/compiler/tf2tensorrt/utils/py_utils.cc:38] TF-TRT Warning: Could not find TensorRT\n",
      "/opt/conda/lib/python3.10/site-packages/pydub/utils.py:170: RuntimeWarning: Couldn't find ffmpeg or avconv - defaulting to ffmpeg, but may not work\n",
      "  warn(\"Couldn't find ffmpeg or avconv - defaulting to ffmpeg, but may not work\", RuntimeWarning)\n"
     ]
    }
   ],
   "source": [
    "import os \n",
    "import math\n",
    "import mlflow\n",
    "import random\n",
    "import warnings\n",
    "import datetime\n",
    "import numpy as np\n",
    "import pandas as pd\n",
    "import seaborn as sns\n",
    "import tensorflow as tf\n",
    "import tensorflow_hub as hub\n",
    "import tensorflow_io as tfio\n",
    "from tqdm.notebook import tqdm\n",
    "from tensorflow.keras import layers\n",
    "from tensorflow.keras import models\n",
    "from IPython import display\n",
    "from matplotlib import pyplot as plt\n",
    "from pydub import AudioSegment, effects\n",
    "from pydub.generators import WhiteNoise\n",
    "from multiprocessing.pool import ThreadPool"
   ]
  },
  {
   "cell_type": "markdown",
   "id": "b50755dd-0da5-436d-b064-aac11a8b6f2c",
   "metadata": {},
   "source": [
    "additional requirements:\n",
    "tensorflow_hub \n",
    "tensorflow_io\n",
    "pydub\n",
    "\n",
    "APT PACKAGES \n",
    "apt-get update -qq && apt-get install ffmpeg -y"
   ]
  },
  {
   "cell_type": "code",
   "execution_count": null,
   "id": "7b6c2dcf-1cd0-4951-988e-ca44e2a6f825",
   "metadata": {},
   "outputs": [],
   "source": [
    "!apt-get update -qq && apt-get install ffmpeg -y"
   ]
  },
  {
   "cell_type": "markdown",
   "id": "07e8dd2b-a5db-4615-b399-03f2f1c8d36f",
   "metadata": {},
   "source": [
    "## Data Ingestion\n",
    "\n",
    "### Data Information: \n",
    "\n",
    "The Data comes from the [CharaNet](https://www.kaggle.com/datasets/rayonegautam/charanet/data) Kaggle Dataset.\n",
    "\n",
    "**CharaNet is a dataset of Nepal's endangered bird species audio files collected from xeno-canto.org.**\r\n",
    "\r\n",
    "On the website xeno-canto.org, bird sounds from throughout the globe are shared. The recordings are uploaded on the website by the contributors who travel around. We collected 2215 audio recordings from this website of 41 birds of which 38 of them are listed as endangered species in Nepal. The dataset was increased to 6733 audio recordings after the 10-second split method for all and data augmentation through gaussian noise addition for birds having less than 30 files. A total of 5407 audio recordings were used for training, 639 for validation, and 687 for testing purposes."
   ]
  },
  {
   "cell_type": "code",
   "execution_count": 4,
   "id": "ee886ac1-7ccf-44c9-b32b-d42064dd5122",
   "metadata": {},
   "outputs": [],
   "source": [
    "Train_Path = \"../datafabric/Kaggle_CharaNet/train\"\n",
    "Test_Path = \"../datafabric/Kaggle_CharaNet/test\"\n",
    "Validation_Path = \"../datafabric/Kaggle_CharaNet/val\""
   ]
  },
  {
   "cell_type": "code",
   "execution_count": 5,
   "id": "d9b9efc9-e989-480c-8a51-7dacfcad552f",
   "metadata": {},
   "outputs": [],
   "source": [
    "def generate_shorter_clips(raw_file_path):\n",
    "    # Split bigger clips up into 3 second intervals for easier model training\n",
    "    # Ideally this would be split to the actual bird calls but with enough data this should work too\n",
    "    raw_path_list = raw_file_path.split(\"/\")\n",
    "    raw_audio_folder_path = os.path.join(*raw_path_list[0:-1])\n",
    "    clips_folder_path_list = raw_path_list\n",
    "    # replace Kaggle folder with parsed_clips folder and make directory if it doesnt exist\n",
    "    clips_folder_path_list[2] = \"parsed_clips\"\n",
    "    selected_clips_folder_path = os.path.join(*clips_folder_path_list[0:-1])\n",
    "    os.makedirs(selected_clips_folder_path,exist_ok=True)\n",
    "    parsed_file_name = raw_path_list[-1].split(\".\")[0]\n",
    "    sound = AudioSegment.from_mp3(raw_file_path)\n",
    "    # Get Count of ~ 3 second clips from file\n",
    "    ms_to_s = 1000\n",
    "    num_clips = math.floor(len(sound)/ms_to_s)//3\n",
    "    if num_clips>0:\n",
    "        array_vals = np.array_split(np.array(range(len(sound))),num_clips)\n",
    "        count = 0\n",
    "        for clip in array_vals:\n",
    "            start = int(clip[0])\n",
    "            end = int(clip[-1])\n",
    "            clip = sound[start:end]\n",
    "            clip.export(os.path.join(selected_clips_folder_path,f\"{parsed_file_name}-{count}.wav\"), format=\"wav\")\n",
    "            count += 1\n",
    "    else:\n",
    "        sound.export(os.path.join(selected_clips_folder_path,f\"{parsed_file_name}-0.wav\"), format=\"wav\")"
   ]
  },
  {
   "cell_type": "code",
   "execution_count": 6,
   "id": "dfac6e39-7314-4af6-aa00-1056006e1fa7",
   "metadata": {},
   "outputs": [
    {
     "name": "stdout",
     "output_type": "stream",
     "text": [
      "Generating Short Clips From Training Audio Files\n"
     ]
    },
    {
     "data": {
      "application/vnd.jupyter.widget-view+json": {
       "model_id": "4eb39fb3d8284c779efe22ef1d7f6b1c",
       "version_major": 2,
       "version_minor": 0
      },
      "text/plain": [
       "Species Progress:   0%|          | 0/41 [00:00<?, ?it/s]"
      ]
     },
     "metadata": {},
     "output_type": "display_data"
    },
    {
     "data": {
      "application/vnd.jupyter.widget-view+json": {
       "model_id": "",
       "version_major": 2,
       "version_minor": 0
      },
      "text/plain": [
       "Asian Koel Progress:   0%|          | 0/289 [00:00<?, ?it/s]"
      ]
     },
     "metadata": {},
     "output_type": "display_data"
    },
    {
     "data": {
      "application/vnd.jupyter.widget-view+json": {
       "model_id": "",
       "version_major": 2,
       "version_minor": 0
      },
      "text/plain": [
       "Black Kite Progress:   0%|          | 0/288 [00:00<?, ?it/s]"
      ]
     },
     "metadata": {},
     "output_type": "display_data"
    },
    {
     "data": {
      "application/vnd.jupyter.widget-view+json": {
       "model_id": "",
       "version_major": 2,
       "version_minor": 0
      },
      "text/plain": [
       "Black-breasted Parrotbill Progress:   0%|          | 0/42 [00:00<?, ?it/s]"
      ]
     },
     "metadata": {},
     "output_type": "display_data"
    },
    {
     "data": {
      "application/vnd.jupyter.widget-view+json": {
       "model_id": "",
       "version_major": 2,
       "version_minor": 0
      },
      "text/plain": [
       "Black-necked crane Progress:   0%|          | 0/82 [00:00<?, ?it/s]"
      ]
     },
     "metadata": {},
     "output_type": "display_data"
    },
    {
     "data": {
      "application/vnd.jupyter.widget-view+json": {
       "model_id": "",
       "version_major": 2,
       "version_minor": 0
      },
      "text/plain": [
       "Bristled Grassbird Progress:   0%|          | 0/52 [00:00<?, ?it/s]"
      ]
     },
     "metadata": {},
     "output_type": "display_data"
    },
    {
     "data": {
      "application/vnd.jupyter.widget-view+json": {
       "model_id": "",
       "version_major": 2,
       "version_minor": 0
      },
      "text/plain": [
       "Cheer Pheasant Progress:   0%|          | 0/40 [00:00<?, ?it/s]"
      ]
     },
     "metadata": {},
     "output_type": "display_data"
    },
    {
     "data": {
      "application/vnd.jupyter.widget-view+json": {
       "model_id": "",
       "version_major": 2,
       "version_minor": 0
      },
      "text/plain": [
       "Common Cuckoo Progress:   0%|          | 0/416 [00:00<?, ?it/s]"
      ]
     },
     "metadata": {},
     "output_type": "display_data"
    },
    {
     "data": {
      "application/vnd.jupyter.widget-view+json": {
       "model_id": "",
       "version_major": 2,
       "version_minor": 0
      },
      "text/plain": [
       "Common Pochard Progress:   0%|          | 0/203 [00:00<?, ?it/s]"
      ]
     },
     "metadata": {},
     "output_type": "display_data"
    },
    {
     "data": {
      "application/vnd.jupyter.widget-view+json": {
       "model_id": "",
       "version_major": 2,
       "version_minor": 0
      },
      "text/plain": [
       "Common Wood Pigeon Progress:   0%|          | 0/376 [00:00<?, ?it/s]"
      ]
     },
     "metadata": {},
     "output_type": "display_data"
    },
    {
     "data": {
      "application/vnd.jupyter.widget-view+json": {
       "model_id": "",
       "version_major": 2,
       "version_minor": 0
      },
      "text/plain": [
       "Eastern Imperial Eagle Progress:   0%|          | 0/24 [00:00<?, ?it/s]"
      ]
     },
     "metadata": {},
     "output_type": "display_data"
    },
    {
     "data": {
      "application/vnd.jupyter.widget-view+json": {
       "model_id": "",
       "version_major": 2,
       "version_minor": 0
      },
      "text/plain": [
       "Egyptian Vulture Progress:   0%|          | 0/16 [00:00<?, ?it/s]"
      ]
     },
     "metadata": {},
     "output_type": "display_data"
    },
    {
     "data": {
      "application/vnd.jupyter.widget-view+json": {
       "model_id": "",
       "version_major": 2,
       "version_minor": 0
      },
      "text/plain": [
       "Great Slaty Woodpecker Progress:   0%|          | 0/152 [00:00<?, ?it/s]"
      ]
     },
     "metadata": {},
     "output_type": "display_data"
    },
    {
     "data": {
      "application/vnd.jupyter.widget-view+json": {
       "model_id": "",
       "version_major": 2,
       "version_minor": 0
      },
      "text/plain": [
       "Greater Spotted Eagle Progress:   0%|          | 0/205 [00:00<?, ?it/s]"
      ]
     },
     "metadata": {},
     "output_type": "display_data"
    },
    {
     "data": {
      "application/vnd.jupyter.widget-view+json": {
       "model_id": "",
       "version_major": 2,
       "version_minor": 0
      },
      "text/plain": [
       "Grey Treepie Progress:   0%|          | 0/267 [00:00<?, ?it/s]"
      ]
     },
     "metadata": {},
     "output_type": "display_data"
    },
    {
     "data": {
      "application/vnd.jupyter.widget-view+json": {
       "model_id": "",
       "version_major": 2,
       "version_minor": 0
      },
      "text/plain": [
       "Grey-crowned Prinia Progress:   0%|          | 0/24 [00:00<?, ?it/s]"
      ]
     },
     "metadata": {},
     "output_type": "display_data"
    },
    {
     "data": {
      "application/vnd.jupyter.widget-view+json": {
       "model_id": "",
       "version_major": 2,
       "version_minor": 0
      },
      "text/plain": [
       "Grey-sided Thrush Progress:   0%|          | 0/28 [00:00<?, ?it/s]"
      ]
     },
     "metadata": {},
     "output_type": "display_data"
    },
    {
     "data": {
      "application/vnd.jupyter.widget-view+json": {
       "model_id": "",
       "version_major": 2,
       "version_minor": 0
      },
      "text/plain": [
       "Himalayan Monal Progress:   0%|          | 0/76 [00:00<?, ?it/s]"
      ]
     },
     "metadata": {},
     "output_type": "display_data"
    },
    {
     "data": {
      "application/vnd.jupyter.widget-view+json": {
       "model_id": "",
       "version_major": 2,
       "version_minor": 0
      },
      "text/plain": [
       "House Crow Progress:   0%|          | 0/314 [00:00<?, ?it/s]"
      ]
     },
     "metadata": {},
     "output_type": "display_data"
    },
    {
     "data": {
      "application/vnd.jupyter.widget-view+json": {
       "model_id": "",
       "version_major": 2,
       "version_minor": 0
      },
      "text/plain": [
       "House Sparrow Progress:   0%|          | 0/316 [00:00<?, ?it/s]"
      ]
     },
     "metadata": {},
     "output_type": "display_data"
    },
    {
     "data": {
      "application/vnd.jupyter.widget-view+json": {
       "model_id": "",
       "version_major": 2,
       "version_minor": 0
      },
      "text/plain": [
       "Indian Spotted Eagle Progress:   0%|          | 0/14 [00:00<?, ?it/s]"
      ]
     },
     "metadata": {},
     "output_type": "display_data"
    },
    {
     "data": {
      "application/vnd.jupyter.widget-view+json": {
       "model_id": "",
       "version_major": 2,
       "version_minor": 0
      },
      "text/plain": [
       "Jerdon_s Babbler Progress:   0%|          | 0/32 [00:00<?, ?it/s]"
      ]
     },
     "metadata": {},
     "output_type": "display_data"
    },
    {
     "data": {
      "application/vnd.jupyter.widget-view+json": {
       "model_id": "",
       "version_major": 2,
       "version_minor": 0
      },
      "text/plain": [
       "Kashmir Flycatcher Progress:   0%|          | 0/42 [00:00<?, ?it/s]"
      ]
     },
     "metadata": {},
     "output_type": "display_data"
    },
    {
     "data": {
      "application/vnd.jupyter.widget-view+json": {
       "model_id": "",
       "version_major": 2,
       "version_minor": 0
      },
      "text/plain": [
       "Large-billed Crow Progress:   0%|          | 0/284 [00:00<?, ?it/s]"
      ]
     },
     "metadata": {},
     "output_type": "display_data"
    },
    {
     "data": {
      "application/vnd.jupyter.widget-view+json": {
       "model_id": "",
       "version_major": 2,
       "version_minor": 0
      },
      "text/plain": [
       "Long-tailed Duck Progress:   0%|          | 0/179 [00:00<?, ?it/s]"
      ]
     },
     "metadata": {},
     "output_type": "display_data"
    },
    {
     "data": {
      "application/vnd.jupyter.widget-view+json": {
       "model_id": "",
       "version_major": 2,
       "version_minor": 0
      },
      "text/plain": [
       "Pallas_s Fish Eagle Progress:   0%|          | 0/14 [00:00<?, ?it/s]"
      ]
     },
     "metadata": {},
     "output_type": "display_data"
    },
    {
     "data": {
      "application/vnd.jupyter.widget-view+json": {
       "model_id": "",
       "version_major": 2,
       "version_minor": 0
      },
      "text/plain": [
       "Red-billed Blue Magpie Progress:   0%|          | 0/170 [00:00<?, ?it/s]"
      ]
     },
     "metadata": {},
     "output_type": "display_data"
    },
    {
     "data": {
      "application/vnd.jupyter.widget-view+json": {
       "model_id": "",
       "version_major": 2,
       "version_minor": 0
      },
      "text/plain": [
       "Rose-ringed Parakeet Progress:   0%|          | 0/243 [00:00<?, ?it/s]"
      ]
     },
     "metadata": {},
     "output_type": "display_data"
    },
    {
     "data": {
      "application/vnd.jupyter.widget-view+json": {
       "model_id": "",
       "version_major": 2,
       "version_minor": 0
      },
      "text/plain": [
       "Rufous Treepie Progress:   0%|          | 0/239 [00:00<?, ?it/s]"
      ]
     },
     "metadata": {},
     "output_type": "display_data"
    },
    {
     "data": {
      "application/vnd.jupyter.widget-view+json": {
       "model_id": "",
       "version_major": 2,
       "version_minor": 0
      },
      "text/plain": [
       "Rufous-necked Hornbill Progress:   0%|          | 0/36 [00:00<?, ?it/s]"
      ]
     },
     "metadata": {},
     "output_type": "display_data"
    },
    {
     "data": {
      "application/vnd.jupyter.widget-view+json": {
       "model_id": "",
       "version_major": 2,
       "version_minor": 0
      },
      "text/plain": [
       "Rustic Bunting Progress:   0%|          | 0/242 [00:00<?, ?it/s]"
      ]
     },
     "metadata": {},
     "output_type": "display_data"
    },
    {
     "data": {
      "application/vnd.jupyter.widget-view+json": {
       "model_id": "",
       "version_major": 2,
       "version_minor": 0
      },
      "text/plain": [
       "Saker Falcon Progress:   0%|          | 0/44 [00:00<?, ?it/s]"
      ]
     },
     "metadata": {},
     "output_type": "display_data"
    },
    {
     "data": {
      "application/vnd.jupyter.widget-view+json": {
       "model_id": "",
       "version_major": 2,
       "version_minor": 0
      },
      "text/plain": [
       "Sarus Crane Progress:   0%|          | 0/66 [00:00<?, ?it/s]"
      ]
     },
     "metadata": {},
     "output_type": "display_data"
    },
    {
     "data": {
      "application/vnd.jupyter.widget-view+json": {
       "model_id": "",
       "version_major": 2,
       "version_minor": 0
      },
      "text/plain": [
       "Satyr Tragopan Progress:   0%|          | 0/25 [00:00<?, ?it/s]"
      ]
     },
     "metadata": {},
     "output_type": "display_data"
    },
    {
     "data": {
      "application/vnd.jupyter.widget-view+json": {
       "model_id": "",
       "version_major": 2,
       "version_minor": 0
      },
      "text/plain": [
       "Slender-billed Babbler Progress:   0%|          | 0/29 [00:00<?, ?it/s]"
      ]
     },
     "metadata": {},
     "output_type": "display_data"
    },
    {
     "data": {
      "application/vnd.jupyter.widget-view+json": {
       "model_id": "",
       "version_major": 2,
       "version_minor": 0
      },
      "text/plain": [
       "Spiny Babbler Progress:   0%|          | 0/56 [00:00<?, ?it/s]"
      ]
     },
     "metadata": {},
     "output_type": "display_data"
    },
    {
     "data": {
      "application/vnd.jupyter.widget-view+json": {
       "model_id": "",
       "version_major": 2,
       "version_minor": 0
      },
      "text/plain": [
       "Spotted Dove Progress:   0%|          | 0/328 [00:00<?, ?it/s]"
      ]
     },
     "metadata": {},
     "output_type": "display_data"
    },
    {
     "data": {
      "application/vnd.jupyter.widget-view+json": {
       "model_id": "",
       "version_major": 2,
       "version_minor": 0
      },
      "text/plain": [
       "Steppe Eagle Progress:   0%|          | 0/18 [00:00<?, ?it/s]"
      ]
     },
     "metadata": {},
     "output_type": "display_data"
    },
    {
     "data": {
      "application/vnd.jupyter.widget-view+json": {
       "model_id": "",
       "version_major": 2,
       "version_minor": 0
      },
      "text/plain": [
       "Swamp Francolin Progress:   0%|          | 0/40 [00:00<?, ?it/s]"
      ]
     },
     "metadata": {},
     "output_type": "display_data"
    },
    {
     "data": {
      "application/vnd.jupyter.widget-view+json": {
       "model_id": "",
       "version_major": 2,
       "version_minor": 0
      },
      "text/plain": [
       "Swamp Grass-babbler Progress:   0%|          | 0/44 [00:00<?, ?it/s]"
      ]
     },
     "metadata": {},
     "output_type": "display_data"
    },
    {
     "data": {
      "application/vnd.jupyter.widget-view+json": {
       "model_id": "",
       "version_major": 2,
       "version_minor": 0
      },
      "text/plain": [
       "White-throated Bushchat Progress:   0%|          | 0/20 [00:00<?, ?it/s]"
      ]
     },
     "metadata": {},
     "output_type": "display_data"
    },
    {
     "data": {
      "application/vnd.jupyter.widget-view+json": {
       "model_id": "",
       "version_major": 2,
       "version_minor": 0
      },
      "text/plain": [
       "Wood Snipe Progress:   0%|          | 0/32 [00:00<?, ?it/s]"
      ]
     },
     "metadata": {},
     "output_type": "display_data"
    }
   ],
   "source": [
    "species_list = os.listdir(Train_Path)\n",
    "print(\"Generating Short Clips From Training Audio Files\")\n",
    "for species in tqdm(species_list,desc=\"Species Progress\"):\n",
    "    species_audio_files = os.listdir(os.path.join(Train_Path,species))\n",
    "    for audio_file in tqdm(species_audio_files,leave=False,desc=f\"{species} Progress\"):\n",
    "        generate_shorter_clips(os.path.join(Train_Path,species,audio_file))"
   ]
  },
  {
   "cell_type": "markdown",
   "id": "c890504f-4792-42fa-ade3-e61d47833136",
   "metadata": {},
   "source": [
    "## Data Augmentation\n",
    "Similar to Image Recognition in order to produce a robust model you may want to Augment your training set with transformed samples. Here are a few examples that can be used to transform audio clips."
   ]
  },
  {
   "cell_type": "code",
   "execution_count": 7,
   "id": "2a759b6c-23f4-4677-95bb-487ada2f961d",
   "metadata": {},
   "outputs": [],
   "source": [
    "def Add_White_Noise(sound, decibels = 50):\n",
    "    \"\"\"\n",
    "    Add White Noise to an Audio Clip and return the new clip\n",
    "    Note: sound should be an AudioSegment\n",
    "    \"\"\"\n",
    "    noise = WhiteNoise().to_audio_segment(duration=len(sound))-decibels\n",
    "    combined = sound.overlay(noise)\n",
    "    return combined\n",
    "def Normalize_Volume(sound):\n",
    "    \"\"\"\n",
    "    Normalize the Volume of a Clip and return the new clip\n",
    "    Note :sound should be an AudioSegment\n",
    "    \"\"\"\n",
    "    normalized_sound = effects.normalize(sound) \n",
    "    return normalized_sound\n",
    "def Filter_Out_High_Frequency(sound,cutoff = 8e3):\n",
    "    \"\"\"\n",
    "    Filter out High Frequencies in a Clip and return the new clip\n",
    "    Note: sound should be an AudioSegment and cutoff is in Hz (default is 8kHz)\n",
    "    \"\"\"\n",
    "    filtered_sound = effects.low_pass_filter(sound,cutoff) \n",
    "    return filtered_sound\n",
    "def Filter_Out_Low_Frequency(sound,cutoff = 8e3):\n",
    "    \"\"\"\n",
    "    Filter out High Frequencies in a Clip and return the new clip\n",
    "    Note: sound should be an AudioSegment and cutoff is in Hz (default is 8kHz)\n",
    "    \"\"\"\n",
    "    filtered_sound = effects.high_pass_filter(sound,cutoff) \n",
    "    return filtered_sound"
   ]
  },
  {
   "cell_type": "markdown",
   "id": "b342dfae-fb21-4ac8-99d8-c4a02219964d",
   "metadata": {},
   "source": [
    "## Model Training (Spectrograph and CNN)"
   ]
  },
  {
   "cell_type": "code",
   "execution_count": 8,
   "id": "14332e45-e05c-4ea6-9e11-0195c562a33a",
   "metadata": {},
   "outputs": [],
   "source": [
    "def decode_audio(audio_binary):\n",
    "    # Decode WAV-encoded audio files to `float32` tensors, normalized\n",
    "    # to the [-1.0, 1.0] range. Return `float32` audio and a sample rate.\n",
    "    audio, _ = tf.audio.decode_wav(contents=audio_binary,desired_channels=1,)\n",
    "    # Since all the data is single channel (mono), drop the `channels`\n",
    "    # axis from the array.\n",
    "    return tf.squeeze(audio, axis=-1)\n",
    "def get_label(file_path):\n",
    "    parts = tf.strings.split(\n",
    "        input=file_path,\n",
    "        sep=os.path.sep)\n",
    "    # Note: You'll use indexing here instead of tuple unpacking to enable this\n",
    "    # to work in a TensorFlow graph.\n",
    "    return parts[-2]\n",
    "def get_waveform_and_label(file_path):\n",
    "    label = get_label(file_path)\n",
    "    audio_binary = tf.io.read_file(file_path)\n",
    "    waveform = decode_audio(audio_binary)\n",
    "    return waveform, label\n",
    "def get_spectrogram(waveform):\n",
    "    # Zero-padding for an audio waveform with less than 16,000 samples.\n",
    "    input_len = 16000\n",
    "    waveform = waveform[:input_len]\n",
    "    zero_padding = tf.zeros(\n",
    "    [16000] - tf.shape(waveform),\n",
    "    dtype=tf.float32)\n",
    "    # Cast the waveform tensors' dtype to float32.\n",
    "    waveform = tf.cast(waveform, dtype=tf.float32)\n",
    "    # Concatenate the waveform with `zero_padding`, which ensures all audio\n",
    "    # clips are of the same length.\n",
    "    equal_length = tf.concat([waveform, zero_padding], 0)\n",
    "    # Convert the waveform to a spectrogram via a STFT.\n",
    "    spectrogram = tf.signal.stft(\n",
    "    equal_length, frame_length=255, frame_step=128)\n",
    "    # Obtain the magnitude of the STFT.\n",
    "    spectrogram = tf.abs(spectrogram)\n",
    "    # Add a `channels` dimension, so that the spectrogram can be used\n",
    "    # as image-like input data with convolution layers (which expect\n",
    "    # shape (`batch_size`, `height`, `width`, `channels`).\n",
    "    spectrogram = spectrogram[..., tf.newaxis]\n",
    "    return spectrogram\n",
    "def plot_spectrogram(spectrogram, ax):\n",
    "    if len(spectrogram.shape) > 2:\n",
    "        assert len(spectrogram.shape) == 3\n",
    "        spectrogram = np.squeeze(spectrogram, axis=-1)\n",
    "    # Convert the frequencies to log scale and transpose, so that the time is\n",
    "    # represented on the x-axis (columns).\n",
    "    # Add an epsilon to avoid taking a log of zero.\n",
    "    log_spec = np.log(spectrogram.T + np.finfo(float).eps)\n",
    "    height = log_spec.shape[0]\n",
    "    width = log_spec.shape[1]\n",
    "    X = np.linspace(0, np.size(spectrogram), num=width, dtype=int)\n",
    "    Y = range(height)\n",
    "    ax.pcolormesh(X, Y, log_spec)\n",
    "def get_spectrogram_and_label_id(audio, label):\n",
    "    spectrogram = get_spectrogram(audio)\n",
    "    label_id = tf.argmax(label == label_list)\n",
    "    return spectrogram, label_id\n",
    "def preprocess_dataset(files):\n",
    "    files_ds = tf.data.Dataset.from_tensor_slices(files)\n",
    "    output_ds = files_ds.map(\n",
    "        map_func=get_waveform_and_label,\n",
    "        num_parallel_calls=AUTOTUNE)\n",
    "    output_ds = output_ds.map(\n",
    "        map_func=get_spectrogram_and_label_id,\n",
    "        num_parallel_calls=AUTOTUNE)\n",
    "    return output_ds"
   ]
  },
  {
   "cell_type": "code",
   "execution_count": 9,
   "id": "166efdc7-2787-4c28-af62-046b537ab159",
   "metadata": {},
   "outputs": [],
   "source": [
    "# Set the seed value for experiment reproducibility.\n",
    "seed = 1842\n",
    "tf.random.set_seed(seed)\n",
    "np.random.seed(seed)\n",
    "# Turn off warnings for cleaner looking notebook\n",
    "warnings.simplefilter('ignore')"
   ]
  },
  {
   "cell_type": "code",
   "execution_count": 10,
   "id": "a074ffe5-10d1-4915-86db-a3822b807854",
   "metadata": {},
   "outputs": [
    {
     "data": {
      "application/vnd.jupyter.widget-view+json": {
       "model_id": "b3aee8c07da24375a74b5325684e4019",
       "version_major": 2,
       "version_minor": 0
      },
      "text/plain": [
       "Loading Clips:   0%|          | 0/40 [00:00<?, ?it/s]"
      ]
     },
     "metadata": {},
     "output_type": "display_data"
    },
    {
     "name": "stderr",
     "output_type": "stream",
     "text": [
      "2024-02-21 06:42:08.127087: I tensorflow/compiler/xla/stream_executor/cuda/cuda_gpu_executor.cc:981] could not open file to read NUMA node: /sys/bus/pci/devices/0000:01:00.0/numa_node\n",
      "Your kernel may have been built without NUMA support.\n",
      "2024-02-21 06:42:08.145667: I tensorflow/compiler/xla/stream_executor/cuda/cuda_gpu_executor.cc:981] could not open file to read NUMA node: /sys/bus/pci/devices/0000:01:00.0/numa_node\n",
      "Your kernel may have been built without NUMA support.\n",
      "2024-02-21 06:42:08.145716: I tensorflow/compiler/xla/stream_executor/cuda/cuda_gpu_executor.cc:981] could not open file to read NUMA node: /sys/bus/pci/devices/0000:01:00.0/numa_node\n",
      "Your kernel may have been built without NUMA support.\n",
      "2024-02-21 06:42:08.148370: I tensorflow/compiler/xla/stream_executor/cuda/cuda_gpu_executor.cc:981] could not open file to read NUMA node: /sys/bus/pci/devices/0000:01:00.0/numa_node\n",
      "Your kernel may have been built without NUMA support.\n",
      "2024-02-21 06:42:08.148414: I tensorflow/compiler/xla/stream_executor/cuda/cuda_gpu_executor.cc:981] could not open file to read NUMA node: /sys/bus/pci/devices/0000:01:00.0/numa_node\n",
      "Your kernel may have been built without NUMA support.\n",
      "2024-02-21 06:42:08.148435: I tensorflow/compiler/xla/stream_executor/cuda/cuda_gpu_executor.cc:981] could not open file to read NUMA node: /sys/bus/pci/devices/0000:01:00.0/numa_node\n",
      "Your kernel may have been built without NUMA support.\n",
      "2024-02-21 06:42:09.372811: I tensorflow/compiler/xla/stream_executor/cuda/cuda_gpu_executor.cc:981] could not open file to read NUMA node: /sys/bus/pci/devices/0000:01:00.0/numa_node\n",
      "Your kernel may have been built without NUMA support.\n",
      "2024-02-21 06:42:09.372921: I tensorflow/compiler/xla/stream_executor/cuda/cuda_gpu_executor.cc:981] could not open file to read NUMA node: /sys/bus/pci/devices/0000:01:00.0/numa_node\n",
      "Your kernel may have been built without NUMA support.\n",
      "2024-02-21 06:42:09.372933: I tensorflow/core/common_runtime/gpu/gpu_device.cc:1726] Could not identify NUMA node of platform GPU id 0, defaulting to 0.  Your kernel may not have been built with NUMA support.\n",
      "2024-02-21 06:42:09.372977: I tensorflow/compiler/xla/stream_executor/cuda/cuda_gpu_executor.cc:981] could not open file to read NUMA node: /sys/bus/pci/devices/0000:01:00.0/numa_node\n",
      "Your kernel may have been built without NUMA support.\n",
      "2024-02-21 06:42:09.373017: I tensorflow/core/common_runtime/gpu/gpu_device.cc:1639] Created device /job:localhost/replica:0/task:0/device:GPU:0 with 13515 MB memory:  -> device: 0, name: NVIDIA RTX A5500 Laptop GPU, pci bus id: 0000:01:00.0, compute capability: 8.6\n"
     ]
    },
    {
     "name": "stdout",
     "output_type": "stream",
     "text": [
      "Number of total examples: 15140\n"
     ]
    }
   ],
   "source": [
    "parsed_clips_dir = \"../datafabric/parsed_clips/train\"\n",
    "label_list = species_list\n",
    "folders = os.listdir(parsed_clips_dir)\n",
    "filenames = tf.io.gfile.glob(str(os.path.join(parsed_clips_dir,folders[0],'*')))\n",
    "for folder in tqdm(folders[1:],desc=\"Loading Clips\"):\n",
    "    filenames_train = tf.io.gfile.glob(str(os.path.join(parsed_clips_dir,folder,'*')))\n",
    "    filenames = tf.concat([filenames, filenames_train], 0)\n",
    "#filenames_Not_Capuchinbird = tf.io.gfile.glob(str(data_dir) + '/Parsed_Not_Capuchinbird_Clips/*')\n",
    "\n",
    "filenames = tf.random.shuffle(filenames)\n",
    "num_samples = len(filenames)\n",
    "print('Number of total examples:', num_samples)"
   ]
  },
  {
   "cell_type": "code",
   "execution_count": 11,
   "id": "9c3de7ac-af8d-4537-ac9b-b6296c613f0a",
   "metadata": {},
   "outputs": [
    {
     "name": "stdout",
     "output_type": "stream",
     "text": [
      "Training set size 12112\n",
      "Validation set size 1514\n",
      "Test set size 1514\n"
     ]
    }
   ],
   "source": [
    "train_split = int(.8*num_samples)\n",
    "val_split = int(.1*num_samples)\n",
    "test_split = num_samples - train_split - val_split\n",
    "train_files = filenames[:train_split]\n",
    "val_files = filenames[train_split: train_split + val_split]\n",
    "test_files = filenames[-1*test_split:]\n",
    "\n",
    "print('Training set size', len(train_files))\n",
    "print('Validation set size', len(val_files))\n",
    "print('Test set size', len(test_files))"
   ]
  },
  {
   "cell_type": "code",
   "execution_count": 12,
   "id": "b8d43528-2d40-448a-869c-cee2da54e719",
   "metadata": {},
   "outputs": [],
   "source": [
    "AUTOTUNE = tf.data.AUTOTUNE\n",
    "\n",
    "files_ds = tf.data.Dataset.from_tensor_slices(train_files)\n",
    "\n",
    "waveform_ds = files_ds.map(\n",
    "    map_func=get_waveform_and_label,\n",
    "    num_parallel_calls=AUTOTUNE)"
   ]
  },
  {
   "cell_type": "code",
   "execution_count": 13,
   "id": "32d48a6b-14b5-463d-885c-ef2f2f471e57",
   "metadata": {},
   "outputs": [],
   "source": [
    "spectrogram_ds = waveform_ds.map(\n",
    "  map_func=get_spectrogram_and_label_id,\n",
    "  num_parallel_calls=AUTOTUNE)"
   ]
  },
  {
   "cell_type": "markdown",
   "id": "f4808ad5-7042-4ac1-a394-30d63dcf0aea",
   "metadata": {},
   "source": [
    "## Train Custom CNN Model"
   ]
  },
  {
   "cell_type": "code",
   "execution_count": 14,
   "id": "940cfde6-ba22-4e8d-b356-704d84735114",
   "metadata": {},
   "outputs": [],
   "source": [
    "train_ds = spectrogram_ds\n",
    "val_ds = preprocess_dataset(val_files)\n",
    "test_ds = preprocess_dataset(test_files)\n",
    "\n",
    "batch_size = 1024\n",
    "train_ds = train_ds.batch(batch_size)\n",
    "val_ds = val_ds.batch(batch_size)\n",
    "\n",
    "train_ds = train_ds.cache().prefetch(AUTOTUNE)\n",
    "val_ds = val_ds.cache().prefetch(AUTOTUNE)"
   ]
  },
  {
   "cell_type": "code",
   "execution_count": 15,
   "id": "d3d92296-d34b-47c0-a482-7d1c66781f1f",
   "metadata": {},
   "outputs": [
    {
     "name": "stdout",
     "output_type": "stream",
     "text": [
      "Input shape: (124, 129, 1)\n",
      "Model: \"sequential\"\n",
      "_________________________________________________________________\n",
      " Layer (type)                Output Shape              Param #   \n",
      "=================================================================\n",
      " resizing (Resizing)         (None, 32, 32, 1)         0         \n",
      "                                                                 \n",
      " normalization (Normalizati  (None, 32, 32, 1)         3         \n",
      " on)                                                             \n",
      "                                                                 \n",
      " conv2d (Conv2D)             (None, 30, 30, 32)        320       \n",
      "                                                                 \n",
      " conv2d_1 (Conv2D)           (None, 28, 28, 64)        18496     \n",
      "                                                                 \n",
      " max_pooling2d (MaxPooling2  (None, 14, 14, 64)        0         \n",
      " D)                                                              \n",
      "                                                                 \n",
      " flatten (Flatten)           (None, 12544)             0         \n",
      "                                                                 \n",
      " dropout (Dropout)           (None, 12544)             0         \n",
      "                                                                 \n",
      " dense (Dense)               (None, 128)               1605760   \n",
      "                                                                 \n",
      " dropout_1 (Dropout)         (None, 128)               0         \n",
      "                                                                 \n",
      " dense_1 (Dense)             (None, 41)                5289      \n",
      "                                                                 \n",
      "=================================================================\n",
      "Total params: 1629868 (6.22 MB)\n",
      "Trainable params: 1629865 (6.22 MB)\n",
      "Non-trainable params: 3 (16.00 Byte)\n",
      "_________________________________________________________________\n"
     ]
    }
   ],
   "source": [
    "for spectrogram, _ in spectrogram_ds.take(1):\n",
    "    input_shape = spectrogram.shape\n",
    "print('Input shape:', input_shape)\n",
    "num_labels = len(label_list)\n",
    "\n",
    "# Instantiate the `tf.keras.layers.Normalization` layer.\n",
    "norm_layer = layers.Normalization()\n",
    "# Fit the state of the layer to the spectrograms\n",
    "# with `Normalization.adapt`. using only 10% for speed here.\n",
    "norm_layer.adapt(data=spectrogram_ds.take(val_split).map(map_func=lambda spec, label: spec))\n",
    "\n",
    "cnn_model = models.Sequential([\n",
    "    layers.Input(shape=input_shape),\n",
    "    # Downsample the input.\n",
    "    layers.Resizing(32, 32),\n",
    "    # Normalize.\n",
    "    norm_layer,\n",
    "    layers.Conv2D(32, 3, activation='relu'),\n",
    "    layers.Conv2D(64, 3, activation='relu'),\n",
    "    layers.MaxPooling2D(),\n",
    "    layers.Flatten(),\n",
    "    layers.Dropout(0.25),\n",
    "    layers.Dense(128, activation='relu'),\n",
    "    layers.Dropout(0.5),\n",
    "    layers.Dense(num_labels),\n",
    "])\n",
    "\n",
    "cnn_model.summary()"
   ]
  },
  {
   "cell_type": "code",
   "execution_count": 16,
   "id": "29213b18-4932-46bf-baee-71bc8791933e",
   "metadata": {},
   "outputs": [],
   "source": [
    "cnn_model.compile(\n",
    "    optimizer=tf.keras.optimizers.Adam(),\n",
    "    loss=tf.keras.losses.SparseCategoricalCrossentropy(from_logits=True),\n",
    "    metrics=['accuracy'],\n",
    ")"
   ]
  },
  {
   "cell_type": "markdown",
   "id": "85eb7d82-a9ec-467b-ac49-b6c89d077f20",
   "metadata": {},
   "source": [
    "#### Set up ML FLOW"
   ]
  },
  {
   "cell_type": "code",
   "execution_count": 17,
   "id": "885ab2db-17e8-4c8e-be4c-f9e7061049a6",
   "metadata": {},
   "outputs": [
    {
     "name": "stderr",
     "output_type": "stream",
     "text": [
      "2024/02/21 06:42:35 INFO mlflow.tracking.fluent: Autologging successfully enabled for statsmodels.\n",
      "2024/02/21 06:42:35 INFO mlflow.tracking.fluent: Autologging successfully enabled for tensorflow.\n"
     ]
    }
   ],
   "source": [
    "mlflow.set_experiment(experiment_id=\"961598678667043864\")\n",
    "\n",
    "mlflow.autolog()"
   ]
  },
  {
   "cell_type": "markdown",
   "id": "a0e7d4c7-dad5-425b-bf37-2e1b52bfa22d",
   "metadata": {},
   "source": [
    "#### Set up Tensorboard\n",
    "Optional:\n",
    "\n",
    "```\n",
    "# Clear any logs from previous runs\r\n",
    "rm -rf ./logs/\n",
    "```"
   ]
  },
  {
   "cell_type": "code",
   "execution_count": 18,
   "id": "6e9e3c07-560a-49ff-bffd-79ddaccd8592",
   "metadata": {},
   "outputs": [],
   "source": [
    "%load_ext tensorboard\n",
    "\n",
    "log_dir = \"/phoenix/tensorboard/tensorlogs/CNN_\" + datetime.datetime.now().strftime(\"%Y%m%d-%H%M%S\")\n",
    "tensorboard_callback = tf.keras.callbacks.TensorBoard(log_dir=log_dir, histogram_freq=1)"
   ]
  },
  {
   "cell_type": "code",
   "execution_count": 19,
   "id": "34db97f3-5fed-4301-9147-a817ae32c61d",
   "metadata": {
    "scrolled": true
   },
   "outputs": [
    {
     "name": "stderr",
     "output_type": "stream",
     "text": [
      "2024/02/21 06:42:36 INFO mlflow.utils.autologging_utils: Created MLflow autologging run with ID '754e928761b640d38abbcb53e652a743', which will track hyperparameters, performance metrics, model artifacts, and lineage information for the current tensorflow workflow\n"
     ]
    },
    {
     "name": "stdout",
     "output_type": "stream",
     "text": [
      "Epoch 1/100\n"
     ]
    },
    {
     "name": "stderr",
     "output_type": "stream",
     "text": [
      "2024-02-21 06:43:08.974150: I tensorflow/compiler/xla/stream_executor/cuda/cuda_dnn.cc:432] Loaded cuDNN version 8906\n",
      "2024-02-21 06:43:11.755336: I tensorflow/compiler/xla/stream_executor/cuda/cuda_blas.cc:606] TensorFloat-32 will be used for the matrix multiplication. This will only be logged once.\n",
      "2024-02-21 06:43:11.914138: I tensorflow/compiler/xla/service/service.cc:168] XLA service 0x55828fcc9600 initialized for platform CUDA (this does not guarantee that XLA will be used). Devices:\n",
      "2024-02-21 06:43:11.914200: I tensorflow/compiler/xla/service/service.cc:176]   StreamExecutor device (0): NVIDIA RTX A5500 Laptop GPU, Compute Capability 8.6\n",
      "2024-02-21 06:43:11.919946: I tensorflow/compiler/mlir/tensorflow/utils/dump_mlir_util.cc:255] disabling MLIR crash reproducer, set env var `MLIR_CRASH_REPRODUCER_DIRECTORY` to enable.\n",
      "2024-02-21 06:43:12.014019: I ./tensorflow/compiler/jit/device_compiler.h:186] Compiled cluster using XLA!  This line is logged at most once for the lifetime of the process.\n"
     ]
    },
    {
     "name": "stdout",
     "output_type": "stream",
     "text": [
      " 6/12 [==============>...............] - ETA: 0s - loss: 3.5015 - accuracy: 0.0789WARNING:tensorflow:Callback method `on_train_batch_end` is slow compared to the batch time (batch time: 0.0610s vs `on_train_batch_end` time: 0.0729s). Check your callbacks.\n",
      "12/12 [==============================] - 15s 494ms/step - loss: 3.3831 - accuracy: 0.0897 - val_loss: 3.0699 - val_accuracy: 0.1480\n",
      "Epoch 2/100\n",
      "12/12 [==============================] - 2s 171ms/step - loss: 3.1000 - accuracy: 0.1336 - val_loss: 2.8870 - val_accuracy: 0.2034\n",
      "Epoch 3/100\n",
      "12/12 [==============================] - 2s 204ms/step - loss: 2.9205 - accuracy: 0.1764 - val_loss: 2.7119 - val_accuracy: 0.2530\n",
      "Epoch 4/100\n",
      "12/12 [==============================] - 2s 194ms/step - loss: 2.7807 - accuracy: 0.2118 - val_loss: 2.6031 - val_accuracy: 0.2926\n",
      "Epoch 5/100\n",
      "12/12 [==============================] - 2s 193ms/step - loss: 2.6893 - accuracy: 0.2348 - val_loss: 2.5147 - val_accuracy: 0.3098\n",
      "Epoch 6/100\n",
      "12/12 [==============================] - 2s 190ms/step - loss: 2.5833 - accuracy: 0.2649 - val_loss: 2.4374 - val_accuracy: 0.3336\n",
      "Epoch 7/100\n",
      "12/12 [==============================] - 2s 191ms/step - loss: 2.5171 - accuracy: 0.2822 - val_loss: 2.3580 - val_accuracy: 0.3461\n",
      "Epoch 8/100\n",
      "12/12 [==============================] - 2s 167ms/step - loss: 2.4669 - accuracy: 0.2932 - val_loss: 2.3072 - val_accuracy: 0.3547\n",
      "Epoch 9/100\n",
      "12/12 [==============================] - 2s 210ms/step - loss: 2.3930 - accuracy: 0.3137 - val_loss: 2.2719 - val_accuracy: 0.3534\n",
      "Epoch 10/100\n",
      "12/12 [==============================] - 2s 192ms/step - loss: 2.3496 - accuracy: 0.3217 - val_loss: 2.2251 - val_accuracy: 0.3672\n",
      "Epoch 11/100\n",
      "12/12 [==============================] - 2s 179ms/step - loss: 2.2984 - accuracy: 0.3412 - val_loss: 2.1934 - val_accuracy: 0.3785\n",
      "Epoch 12/100\n",
      "12/12 [==============================] - 2s 192ms/step - loss: 2.2528 - accuracy: 0.3459 - val_loss: 2.1616 - val_accuracy: 0.3831\n",
      "Epoch 13/100\n",
      "12/12 [==============================] - 2s 192ms/step - loss: 2.2172 - accuracy: 0.3574 - val_loss: 2.1346 - val_accuracy: 0.3983\n",
      "Epoch 14/100\n",
      "12/12 [==============================] - 2s 192ms/step - loss: 2.1783 - accuracy: 0.3724 - val_loss: 2.1196 - val_accuracy: 0.4042\n",
      "Epoch 15/100\n",
      "12/12 [==============================] - 2s 196ms/step - loss: 2.1301 - accuracy: 0.3819 - val_loss: 2.0926 - val_accuracy: 0.4049\n",
      "Epoch 16/100\n",
      "12/12 [==============================] - 2s 187ms/step - loss: 2.1120 - accuracy: 0.3845 - val_loss: 2.0778 - val_accuracy: 0.4128\n",
      "Epoch 17/100\n",
      "12/12 [==============================] - 2s 194ms/step - loss: 2.0730 - accuracy: 0.3937 - val_loss: 2.0448 - val_accuracy: 0.4194\n",
      "Epoch 18/100\n",
      "12/12 [==============================] - 2s 188ms/step - loss: 2.0396 - accuracy: 0.4052 - val_loss: 2.0242 - val_accuracy: 0.4122\n",
      "Epoch 19/100\n",
      "12/12 [==============================] - 2s 186ms/step - loss: 2.0225 - accuracy: 0.4108 - val_loss: 2.0097 - val_accuracy: 0.4320\n",
      "Epoch 20/100\n",
      "12/12 [==============================] - 2s 189ms/step - loss: 1.9781 - accuracy: 0.4154 - val_loss: 2.0038 - val_accuracy: 0.4287\n",
      "Epoch 21/100\n",
      "12/12 [==============================] - 2s 191ms/step - loss: 1.9613 - accuracy: 0.4197 - val_loss: 1.9864 - val_accuracy: 0.4366\n",
      "Epoch 22/100\n",
      "12/12 [==============================] - 2s 187ms/step - loss: 1.9371 - accuracy: 0.4314 - val_loss: 1.9874 - val_accuracy: 0.4406\n",
      "Epoch 23/100\n",
      "12/12 [==============================] - 2s 192ms/step - loss: 1.9113 - accuracy: 0.4330 - val_loss: 1.9783 - val_accuracy: 0.4353\n",
      "Epoch 24/100\n",
      "12/12 [==============================] - 2s 193ms/step - loss: 1.8836 - accuracy: 0.4475 - val_loss: 1.9717 - val_accuracy: 0.4452\n",
      "Epoch 25/100\n",
      "12/12 [==============================] - 2s 190ms/step - loss: 1.8675 - accuracy: 0.4431 - val_loss: 1.9573 - val_accuracy: 0.4491\n",
      "Epoch 26/100\n",
      "12/12 [==============================] - 2s 194ms/step - loss: 1.8456 - accuracy: 0.4576 - val_loss: 1.9389 - val_accuracy: 0.4452\n",
      "Epoch 27/100\n",
      "12/12 [==============================] - 2s 188ms/step - loss: 1.8229 - accuracy: 0.4590 - val_loss: 1.9494 - val_accuracy: 0.4597\n",
      "Epoch 28/100\n",
      "12/12 [==============================] - 2s 191ms/step - loss: 1.7956 - accuracy: 0.4642 - val_loss: 1.9340 - val_accuracy: 0.4577\n",
      "Epoch 29/100\n",
      "12/12 [==============================] - 2s 190ms/step - loss: 1.7862 - accuracy: 0.4690 - val_loss: 1.9315 - val_accuracy: 0.4531\n",
      "Epoch 30/100\n",
      "12/12 [==============================] - 2s 183ms/step - loss: 1.7561 - accuracy: 0.4747 - val_loss: 1.9068 - val_accuracy: 0.4637\n",
      "Epoch 31/100\n",
      "12/12 [==============================] - 2s 190ms/step - loss: 1.7378 - accuracy: 0.4791 - val_loss: 1.9204 - val_accuracy: 0.4756\n",
      "Epoch 32/100\n",
      "12/12 [==============================] - 2s 188ms/step - loss: 1.7334 - accuracy: 0.4838 - val_loss: 1.9229 - val_accuracy: 0.4643\n",
      "Epoch 33/100\n",
      "12/12 [==============================] - 2s 182ms/step - loss: 1.7032 - accuracy: 0.4899 - val_loss: 1.9126 - val_accuracy: 0.4624\n",
      "Epoch 34/100\n",
      "12/12 [==============================] - 2s 191ms/step - loss: 1.6922 - accuracy: 0.4925 - val_loss: 1.8940 - val_accuracy: 0.4749\n",
      "Epoch 35/100\n",
      "12/12 [==============================] - 2s 190ms/step - loss: 1.6635 - accuracy: 0.4986 - val_loss: 1.9280 - val_accuracy: 0.4630\n",
      "Epoch 36/100\n",
      "12/12 [==============================] - 2s 186ms/step - loss: 1.6565 - accuracy: 0.5026 - val_loss: 1.9106 - val_accuracy: 0.4861\n",
      "Epoch 37/100\n",
      "12/12 [==============================] - 2s 192ms/step - loss: 1.6498 - accuracy: 0.5087 - val_loss: 1.9088 - val_accuracy: 0.4729\n",
      "Epoch 38/100\n",
      "12/12 [==============================] - 2s 184ms/step - loss: 1.6187 - accuracy: 0.5121 - val_loss: 1.9158 - val_accuracy: 0.4775\n",
      "Epoch 39/100\n",
      "12/12 [==============================] - ETA: 0s - loss: 1.6055 - accuracy: 0.5129Restoring model weights from the end of the best epoch: 34.\n",
      "12/12 [==============================] - 2s 192ms/step - loss: 1.6055 - accuracy: 0.5129 - val_loss: 1.8979 - val_accuracy: 0.4828\n",
      "Epoch 39: early stopping\n",
      "1/1 [==============================] - 0s 200ms/step\n",
      "INFO:tensorflow:Assets written to: /tmp/tmpb0pdoj5s/model/data/model/assets\n"
     ]
    },
    {
     "name": "stderr",
     "output_type": "stream",
     "text": [
      "INFO:tensorflow:Assets written to: /tmp/tmpb0pdoj5s/model/data/model/assets\n"
     ]
    }
   ],
   "source": [
    "EPOCHS = 100\n",
    "history = cnn_model.fit(\n",
    "    train_ds,\n",
    "    validation_data=val_ds,\n",
    "    epochs=EPOCHS,\n",
    "    callbacks=[tf.keras.callbacks.EarlyStopping(verbose=1, \n",
    "                                               patience=5,\n",
    "                                               monitor='val_loss',\n",
    "                                               restore_best_weights=True\n",
    "                                              ),\n",
    "              tensorboard_callback],\n",
    ")"
   ]
  },
  {
   "cell_type": "code",
   "execution_count": 20,
   "id": "c2a3a518-1267-4250-8d19-fe7c981964a4",
   "metadata": {},
   "outputs": [
    {
     "name": "stdout",
     "output_type": "stream",
     "text": [
      "48/48 [==============================] - 1s 8ms/step\n",
      "Test set accuracy: 43%\n"
     ]
    }
   ],
   "source": [
    "test_audio = []\n",
    "test_labels = []\n",
    "\n",
    "for audio, label in test_ds:\n",
    "    test_audio.append(audio.numpy())\n",
    "    test_labels.append(label.numpy())\n",
    "\n",
    "test_audio = np.array(test_audio)\n",
    "test_labels = np.array(test_labels)\n",
    "\n",
    "y_pred = np.argmax(cnn_model.predict(test_audio), axis=1)\n",
    "y_true = test_labels\n",
    "\n",
    "test_acc = sum(y_pred == y_true) / len(y_true)\n",
    "print(f'Test set accuracy: {test_acc:.0%}')"
   ]
  },
  {
   "cell_type": "code",
   "execution_count": 21,
   "id": "6e26fee9-3bd7-486e-a76b-3bbfbc7ae41a",
   "metadata": {},
   "outputs": [
    {
     "data": {
      "image/png": "[encoded data removed]",
      "text/plain": [
       "<Figure size 1000x800 with 2 Axes>"
      ]
     },
     "metadata": {},
     "output_type": "display_data"
    }
   ],
   "source": [
    "confusion_mtx = tf.math.confusion_matrix(y_true, y_pred)\n",
    "plt.figure(figsize=(10, 8))\n",
    "sns.heatmap(confusion_mtx,\n",
    "            xticklabels=label_list,\n",
    "            yticklabels=label_list,\n",
    "            annot=True, fmt='g')\n",
    "plt.xlabel('Prediction')\n",
    "plt.ylabel('Label')\n",
    "plt.show()"
   ]
  },
  {
   "cell_type": "markdown",
   "id": "3f551a7b-b09f-441c-bbf2-1f60b402dbeb",
   "metadata": {},
   "source": [
    "## Finetune YAMNet"
   ]
  },
  {
   "cell_type": "code",
   "execution_count": 22,
   "id": "89430439-9e40-46e6-ac65-edfebb9f8ccc",
   "metadata": {},
   "outputs": [],
   "source": [
    "@tf.function\n",
    "def load_wav_16k_mono(filename):\n",
    "    \"\"\" Load a WAV file, convert it to a float tensor, resample to 16 kHz single-channel audio. \"\"\"\n",
    "    file_contents = tf.io.read_file(filename)\n",
    "    wav, sample_rate = tf.audio.decode_wav(\n",
    "          file_contents,\n",
    "          desired_channels=1)\n",
    "    wav = tf.squeeze(wav, axis=-1)\n",
    "    sample_rate = tf.cast(sample_rate, dtype=tf.int64)\n",
    "    wav = tfio.audio.resample(wav, rate_in=sample_rate, rate_out=16000)\n",
    "    return wav\n",
    "def load_wav_for_map(filename, label):\n",
    "    return load_wav_16k_mono(filename), label\n",
    "def extract_embedding(wav_data, label):\n",
    "    \"\"\" run YAMNet to extract embedding from the wav data \"\"\"\n",
    "    scores, embeddings, spectrogram = yamnet_model(wav_data)\n",
    "    num_embeddings = tf.shape(embeddings)[0]\n",
    "    return (embeddings,\n",
    "            tf.repeat(label, num_embeddings)\n",
    "           )\n",
    "def get_dataset_partitions_tf(ds, ds_size, train_split=0.8, val_split=0.1, test_split=0.1, shuffle=True, shuffle_size=10000):\n",
    "    \"\"\" Split Train, Test and Validation Datasets out of Dataframe \"\"\"\n",
    "    assert (train_split + test_split + val_split) == 1\n",
    "    \n",
    "    if shuffle:\n",
    "        # Specify seed to always have the same split distribution between runs\n",
    "        ds = ds.shuffle(shuffle_size, seed=1842)\n",
    "    \n",
    "    train_size = int(train_split * ds_size)\n",
    "    val_size = int(val_split * ds_size)\n",
    "    \n",
    "    train_ds = ds.take(train_size)    \n",
    "    val_ds = ds.skip(train_size).take(val_size)\n",
    "    test_ds = ds.skip(train_size).skip(val_size)\n",
    "    \n",
    "    return train_ds, val_ds, test_ds\n",
    "# Filter out Annoying Tensorflow Warnings\n",
    "tf.get_logger().setLevel('ERROR')"
   ]
  },
  {
   "cell_type": "markdown",
   "id": "03a51bab-b104-46c2-a6c7-ddaec8aea46d",
   "metadata": {},
   "source": [
    "### Download YAMNet Model"
   ]
  },
  {
   "cell_type": "code",
   "execution_count": 23,
   "id": "8b7d7791-be08-4035-8f54-7d5fcf721fdb",
   "metadata": {},
   "outputs": [],
   "source": [
    "yamnet_model_handle = 'https://tfhub.dev/google/yamnet/1'\n",
    "yamnet_model = hub.load(yamnet_model_handle)"
   ]
  },
  {
   "cell_type": "markdown",
   "id": "5c11eefd-8ef5-447a-9cfb-82a17d5c7be9",
   "metadata": {},
   "source": [
    "### Build Training Set"
   ]
  },
  {
   "cell_type": "code",
   "execution_count": 24,
   "id": "4f884f25-c865-4132-ba79-56e024b3e2cb",
   "metadata": {},
   "outputs": [
    {
     "data": {
      "application/vnd.jupyter.widget-view+json": {
       "model_id": "4ac3936cac004a63bb873c11f4f91054",
       "version_major": 2,
       "version_minor": 0
      },
      "text/plain": [
       "Loading Clips:   0%|          | 0/41 [00:00<?, ?it/s]"
      ]
     },
     "metadata": {},
     "output_type": "display_data"
    }
   ],
   "source": [
    "parsed_clips_dir = \"../datafabric/parsed_clips/train\"\n",
    "label_list = species_list\n",
    "dataset_df = pd.DataFrame()\n",
    "for folder in tqdm(os.listdir(parsed_clips_dir),desc=\"Loading Clips\"):\n",
    "    species_filepath_list = []\n",
    "    for file in os.listdir(os.path.join(parsed_clips_dir,folder)):\n",
    "        if file.endswith('.wav'):\n",
    "            species_filepath_list.append(os.path.join(parsed_clips_dir,folder,file))\n",
    "    species_df = pd.DataFrame({\"filename\":species_filepath_list,\"target\":np.argmax(folder == label_list)})\n",
    "    dataset_df = pd.concat([dataset_df,species_df],axis=0,ignore_index=True)"
   ]
  },
  {
   "cell_type": "code",
   "execution_count": 25,
   "id": "a79e4817-226d-420c-a2f4-009da27ec49e",
   "metadata": {},
   "outputs": [
    {
     "name": "stderr",
     "output_type": "stream",
     "text": [
      "2024-02-21 06:45:15.504713: I tensorflow_io/core/kernels/cpu_check.cc:128] Your CPU supports instructions that this TensorFlow IO binary was not compiled to use: AVX AVX2 FMA\n"
     ]
    },
    {
     "data": {
      "text/plain": [
       "(TensorSpec(shape=<unknown>, dtype=tf.float32, name=None),\n",
       " TensorSpec(shape=(), dtype=tf.int64, name=None))"
      ]
     },
     "execution_count": 25,
     "metadata": {},
     "output_type": "execute_result"
    }
   ],
   "source": [
    "main_ds = tf.data.Dataset.from_tensor_slices((dataset_df[\"filename\"], dataset_df[\"target\"]))\n",
    "main_ds = main_ds.map(load_wav_for_map)\n",
    "main_ds.element_spec"
   ]
  },
  {
   "cell_type": "code",
   "execution_count": 26,
   "id": "d5425943-eb48-4653-8d72-ae8a4b9627d5",
   "metadata": {},
   "outputs": [
    {
     "data": {
      "text/plain": [
       "(TensorSpec(shape=(1024,), dtype=tf.float32, name=None),\n",
       " TensorSpec(shape=(), dtype=tf.int64, name=None))"
      ]
     },
     "execution_count": 26,
     "metadata": {},
     "output_type": "execute_result"
    }
   ],
   "source": [
    "# extract embedding\n",
    "main_ds = main_ds.map(extract_embedding).unbatch()\n",
    "main_ds.element_spec"
   ]
  },
  {
   "cell_type": "code",
   "execution_count": 27,
   "id": "b455e246-edca-418c-847d-e5b5cbdf34c9",
   "metadata": {},
   "outputs": [],
   "source": [
    "train_ds, val_ds, test_ds = get_dataset_partitions_tf(main_ds,len(dataset_df))\n",
    "\n",
    "train_ds = train_ds.cache().shuffle(1000).batch(512).prefetch(tf.data.AUTOTUNE)\n",
    "val_ds = val_ds.cache().batch(512).prefetch(tf.data.AUTOTUNE)\n",
    "test_ds = test_ds.cache().batch(512).prefetch(tf.data.AUTOTUNE)"
   ]
  },
  {
   "cell_type": "markdown",
   "id": "9dd9bd58-59c7-4f7a-a015-e848f7dc5955",
   "metadata": {},
   "source": [
    "#### Build Model "
   ]
  },
  {
   "cell_type": "code",
   "execution_count": 28,
   "id": "f596609b-084e-442c-89c2-d9bdaf6561e1",
   "metadata": {},
   "outputs": [
    {
     "name": "stdout",
     "output_type": "stream",
     "text": [
      "Model: \"yamnet_transfer_learning_model\"\n",
      "_________________________________________________________________\n",
      " Layer (type)                Output Shape              Param #   \n",
      "=================================================================\n",
      " dense_2 (Dense)             (None, 512)               524800    \n",
      "                                                                 \n",
      " dense_3 (Dense)             (None, 41)                21033     \n",
      "                                                                 \n",
      "=================================================================\n",
      "Total params: 545833 (2.08 MB)\n",
      "Trainable params: 545833 (2.08 MB)\n",
      "Non-trainable params: 0 (0.00 Byte)\n",
      "_________________________________________________________________\n"
     ]
    }
   ],
   "source": [
    "yamnet_transfer_learning_model = tf.keras.Sequential([\n",
    "    tf.keras.layers.Input(shape=(1024), dtype=tf.float32,\n",
    "                          name='input_embedding'),\n",
    "    tf.keras.layers.Dense(512, activation='relu'),\n",
    "    tf.keras.layers.Dense(num_labels)\n",
    "], name='yamnet_transfer_learning_model')\n",
    "\n",
    "yamnet_transfer_learning_model.summary()"
   ]
  },
  {
   "cell_type": "code",
   "execution_count": 29,
   "id": "58c9c163-ae04-4911-8702-abe6b2474156",
   "metadata": {},
   "outputs": [
    {
     "name": "stdout",
     "output_type": "stream",
     "text": [
      "The tensorboard extension is already loaded. To reload it, use:\n",
      "  %reload_ext tensorboard\n"
     ]
    }
   ],
   "source": [
    "yamnet_transfer_learning_model.compile(loss=tf.keras.losses.SparseCategoricalCrossentropy(from_logits=True),\n",
    "                 optimizer=\"adam\",\n",
    "                 metrics=['accuracy'])\n",
    "\n",
    "%load_ext tensorboard\n",
    "\n",
    "log_dir = \"/phoenix/tensorboard/tensorlogs/YAMNet_\" + datetime.datetime.now().strftime(\"%Y%m%d-%H%M%S\")\n",
    "\n",
    "callbacks = [tf.keras.callbacks.EarlyStopping(monitor='val_loss',\n",
    "                                            patience=3,\n",
    "                                            restore_best_weights=True),\n",
    "            tf.keras.callbacks.TensorBoard(log_dir=log_dir, histogram_freq=1)\n",
    "            ]"
   ]
  },
  {
   "cell_type": "code",
   "execution_count": 30,
   "id": "f7baaf6d-0cc8-435b-aba8-04d19a2dd3b5",
   "metadata": {},
   "outputs": [
    {
     "name": "stderr",
     "output_type": "stream",
     "text": [
      "2024/02/21 06:45:16 INFO mlflow.tracking.fluent: Autologging successfully enabled for statsmodels.\n",
      "2024/02/21 06:45:16 INFO mlflow.tracking.fluent: Autologging successfully enabled for tensorflow.\n"
     ]
    }
   ],
   "source": [
    "mlflow.set_experiment(experiment_id=\"961598678667043864\")\n",
    "\n",
    "mlflow.autolog()"
   ]
  },
  {
   "cell_type": "code",
   "execution_count": 31,
   "id": "9999fb6a-ee96-4b46-8794-2837eb3934dd",
   "metadata": {},
   "outputs": [
    {
     "name": "stderr",
     "output_type": "stream",
     "text": [
      "2024/02/21 06:45:16 INFO mlflow.utils.autologging_utils: Created MLflow autologging run with ID '47a9a0c46cf74ca2a402b990763e5b42', which will track hyperparameters, performance metrics, model artifacts, and lineage information for the current tensorflow workflow\n",
      "2024-02-21 06:45:27.596427: I tensorflow/core/kernels/data/shuffle_dataset_op.cc:422] Filling up shuffle buffer (this may take a while): 1588 of 10000\n",
      "2024-02-21 06:45:37.562678: I tensorflow/core/kernels/data/shuffle_dataset_op.cc:422] Filling up shuffle buffer (this may take a while): 3128 of 10000\n",
      "2024-02-21 06:45:47.584648: I tensorflow/core/kernels/data/shuffle_dataset_op.cc:422] Filling up shuffle buffer (this may take a while): 4677 of 10000\n",
      "2024-02-21 06:45:57.595527: I tensorflow/core/kernels/data/shuffle_dataset_op.cc:422] Filling up shuffle buffer (this may take a while): 6187 of 10000\n",
      "2024-02-21 06:46:07.596170: I tensorflow/core/kernels/data/shuffle_dataset_op.cc:422] Filling up shuffle buffer (this may take a while): 7693 of 10000\n",
      "2024-02-21 06:46:17.564190: I tensorflow/core/kernels/data/shuffle_dataset_op.cc:422] Filling up shuffle buffer (this may take a while): 9224 of 10000\n",
      "2024-02-21 06:46:22.591806: I tensorflow/core/kernels/data/shuffle_dataset_op.cc:450] Shuffle buffer filled.\n",
      "2024-02-21 06:46:22.591866: I tensorflow/core/kernels/data/shuffle_dataset_op.cc:422] Filling up shuffle buffer (this may take a while): 1 of 1000\n",
      "2024-02-21 06:46:22.591875: I tensorflow/core/kernels/data/shuffle_dataset_op.cc:422] Filling up shuffle buffer (this may take a while): 2 of 1000\n",
      "2024-02-21 06:46:22.632036: I tensorflow/core/kernels/data/shuffle_dataset_op.cc:422] Filling up shuffle buffer (this may take a while): 3 of 1000\n",
      "2024-02-21 06:46:22.632096: I tensorflow/core/kernels/data/shuffle_dataset_op.cc:422] Filling up shuffle buffer (this may take a while): 4 of 1000\n",
      "2024-02-21 06:46:22.632104: I tensorflow/core/kernels/data/shuffle_dataset_op.cc:422] Filling up shuffle buffer (this may take a while): 5 of 1000\n",
      "2024-02-21 06:46:22.632110: I tensorflow/core/kernels/data/shuffle_dataset_op.cc:422] Filling up shuffle buffer (this may take a while): 6 of 1000\n",
      "2024-02-21 06:46:27.577253: I tensorflow/core/kernels/data/shuffle_dataset_op.cc:422] Filling up shuffle buffer (this may take a while): 746 of 1000\n",
      "2024-02-21 06:46:29.297093: I tensorflow/core/kernels/data/shuffle_dataset_op.cc:450] Shuffle buffer filled.\n",
      "2024-02-21 06:47:53.105070: I tensorflow/core/kernels/data/shuffle_dataset_op.cc:422] Filling up shuffle buffer (this may take a while): 2106 of 10000\n",
      "2024-02-21 06:48:03.095495: I tensorflow/core/kernels/data/shuffle_dataset_op.cc:422] Filling up shuffle buffer (this may take a while): 4230 of 10000\n",
      "2024-02-21 06:48:13.096248: I tensorflow/core/kernels/data/shuffle_dataset_op.cc:422] Filling up shuffle buffer (this may take a while): 6374 of 10000\n",
      "2024-02-21 06:48:23.100077: I tensorflow/core/kernels/data/shuffle_dataset_op.cc:422] Filling up shuffle buffer (this may take a while): 8459 of 10000\n",
      "2024-02-21 06:48:30.241902: I tensorflow/core/kernels/data/shuffle_dataset_op.cc:450] Shuffle buffer filled.\n"
     ]
    },
    {
     "name": "stdout",
     "output_type": "stream",
     "text": [
      "Epoch 1/20\n",
      "     21/Unknown - 1s 23ms/step - loss: 0.5167 - accuracy: 0.9414"
     ]
    },
    {
     "name": "stderr",
     "output_type": "stream",
     "text": [
      "2024-02-21 06:49:37.563182: I tensorflow/core/framework/local_rendezvous.cc:405] Local rendezvous recv item cancelled. Key hash: 10194553109214900837\n",
      "2024-02-21 06:49:37.563258: I tensorflow/core/framework/local_rendezvous.cc:405] Local rendezvous recv item cancelled. Key hash: 10164572664361755524\n",
      "2024-02-21 06:49:37.906307: I tensorflow/core/framework/local_rendezvous.cc:405] Local rendezvous recv item cancelled. Key hash: 10194553109214900837\n",
      "2024-02-21 06:49:37.906364: I tensorflow/core/framework/local_rendezvous.cc:405] Local rendezvous recv item cancelled. Key hash: 10164572664361755524\n"
     ]
    },
    {
     "name": "stdout",
     "output_type": "stream",
     "text": [
      "24/24 [==============================] - 2s 50ms/step - loss: 0.4587 - accuracy: 0.9480 - val_loss: 7.6793e-05 - val_accuracy: 1.0000\n",
      "Epoch 2/20\n",
      "24/24 [==============================] - 0s 13ms/step - loss: 3.5881e-05 - accuracy: 1.0000 - val_loss: 1.3561e-05 - val_accuracy: 1.0000\n",
      "Epoch 3/20\n",
      "24/24 [==============================] - 0s 11ms/step - loss: 1.4964e-05 - accuracy: 1.0000 - val_loss: 1.1217e-05 - val_accuracy: 1.0000\n",
      "Epoch 4/20\n",
      "24/24 [==============================] - 0s 10ms/step - loss: 1.3751e-05 - accuracy: 1.0000 - val_loss: 1.0929e-05 - val_accuracy: 1.0000\n",
      "Epoch 5/20\n",
      "24/24 [==============================] - 0s 10ms/step - loss: 1.3535e-05 - accuracy: 1.0000 - val_loss: 1.0804e-05 - val_accuracy: 1.0000\n",
      "Epoch 6/20\n",
      "24/24 [==============================] - 0s 11ms/step - loss: 1.3392e-05 - accuracy: 1.0000 - val_loss: 1.0687e-05 - val_accuracy: 1.0000\n",
      "Epoch 7/20\n",
      "24/24 [==============================] - 0s 10ms/step - loss: 1.3248e-05 - accuracy: 1.0000 - val_loss: 1.0565e-05 - val_accuracy: 1.0000\n",
      "Epoch 8/20\n",
      "24/24 [==============================] - 1s 55ms/step - loss: 1.3093e-05 - accuracy: 1.0000 - val_loss: 1.0437e-05 - val_accuracy: 1.0000\n",
      "Epoch 9/20\n",
      "24/24 [==============================] - 1s 20ms/step - loss: 1.2933e-05 - accuracy: 1.0000 - val_loss: 1.0303e-05 - val_accuracy: 1.0000\n",
      "Epoch 10/20\n",
      "24/24 [==============================] - 0s 10ms/step - loss: 1.2767e-05 - accuracy: 1.0000 - val_loss: 1.0160e-05 - val_accuracy: 1.0000\n",
      "Epoch 11/20\n",
      "24/24 [==============================] - 0s 11ms/step - loss: 1.2591e-05 - accuracy: 1.0000 - val_loss: 1.0013e-05 - val_accuracy: 1.0000\n",
      "Epoch 12/20\n",
      "24/24 [==============================] - 0s 12ms/step - loss: 1.2408e-05 - accuracy: 1.0000 - val_loss: 9.8622e-06 - val_accuracy: 1.0000\n",
      "Epoch 13/20\n",
      "24/24 [==============================] - 0s 12ms/step - loss: 1.2226e-05 - accuracy: 1.0000 - val_loss: 9.7080e-06 - val_accuracy: 1.0000\n",
      "Epoch 14/20\n",
      "24/24 [==============================] - 0s 10ms/step - loss: 1.2034e-05 - accuracy: 1.0000 - val_loss: 9.5477e-06 - val_accuracy: 1.0000\n",
      "Epoch 15/20\n",
      "24/24 [==============================] - 0s 11ms/step - loss: 1.1841e-05 - accuracy: 1.0000 - val_loss: 9.3918e-06 - val_accuracy: 1.0000\n",
      "Epoch 16/20\n",
      "24/24 [==============================] - 0s 11ms/step - loss: 1.1647e-05 - accuracy: 1.0000 - val_loss: 9.2298e-06 - val_accuracy: 1.0000\n",
      "Epoch 17/20\n",
      "24/24 [==============================] - 0s 18ms/step - loss: 1.1452e-05 - accuracy: 1.0000 - val_loss: 9.0693e-06 - val_accuracy: 1.0000\n",
      "Epoch 18/20\n",
      "24/24 [==============================] - 0s 13ms/step - loss: 1.1257e-05 - accuracy: 1.0000 - val_loss: 8.9094e-06 - val_accuracy: 1.0000\n",
      "Epoch 19/20\n",
      "24/24 [==============================] - 0s 14ms/step - loss: 1.1056e-05 - accuracy: 1.0000 - val_loss: 8.7434e-06 - val_accuracy: 1.0000\n",
      "Epoch 20/20\n",
      "24/24 [==============================] - 0s 14ms/step - loss: 1.0856e-05 - accuracy: 1.0000 - val_loss: 8.5763e-06 - val_accuracy: 1.0000\n",
      "1/1 [==============================] - 0s 43ms/step\n"
     ]
    }
   ],
   "source": [
    "history = yamnet_transfer_learning_model.fit(train_ds,\n",
    "                       epochs=20,\n",
    "                       validation_data=val_ds,\n",
    "                       callbacks=callbacks)\n"
   ]
  },
  {
   "cell_type": "code",
   "execution_count": null,
   "id": "2546d832-0570-4ca2-a5b1-9c7ff5f4018c",
   "metadata": {},
   "outputs": [],
   "source": []
  },
  {
   "cell_type": "code",
   "execution_count": null,
   "id": "722fcec1-d75b-4468-be48-970929cc96e3",
   "metadata": {},
   "outputs": [],
   "source": []
  }
 ],
 "metadata": {
  "kernelspec": {
   "display_name": "Python 3 (ipykernel)",
   "language": "python",
   "name": "python3"
  },
  "language_info": {
   "codemirror_mode": {
    "name": "ipython",
    "version": 3
   },
   "file_extension": ".py",
   "mimetype": "text/x-python",
   "name": "python",
   "nbconvert_exporter": "python",
   "pygments_lexer": "ipython3",
   "version": "3.10.11"
  }
 },
 "nbformat": 4,
 "nbformat_minor": 5
}
